{
 "cells": [
  {
   "cell_type": "markdown",
   "metadata": {},
   "source": [
    "<div style=\"text-align:center;\">\n",
    "  <img src=\"images/molssi_main_horizontal.png\" style=\"display: block; margin: 0 auto; max-height:200px;\">\n",
    "</div>\n",
    "\n",
    "# Building a Database with SQLModel\n",
    "\n",
    "<strong>Author(s):</strong> Jessica A. Nash, The Molecular Sciences Software Institute\n",
    "\n",
    "<div class=\"alert alert-block alert-info\"> \n",
    "<h2>Overview</h2>\n",
    "\n",
    "<strong>Questions:</strong>\n",
    "\n",
    "\n",
    "<strong>Objectives:</strong>\n",
    "\n",
    "</div>\n",
    "\n"
   ]
  },
  {
   "cell_type": "code",
   "execution_count": 1,
   "metadata": {},
   "outputs": [],
   "source": [
    "import os \n",
    "\n",
    "from typing import Optional, List\n",
    "\n",
    "from sqlmodel import Field, SQLModel, Session, Relationship, create_engine"
   ]
  },
  {
   "cell_type": "markdown",
   "metadata": {},
   "source": []
  },
  {
   "cell_type": "code",
   "execution_count": 2,
   "metadata": {},
   "outputs": [],
   "source": [
    "def remove_db():\n",
    "    \"\"\"Convenience function to remove database file for notebook.\"\"\"\n",
    "    if os.path.exists(\"sqlmodel_database.db\"):\n",
    "        os.remove(\"sqlmodel_database.db\")\n",
    "\n",
    "remove_db()"
   ]
  },
  {
   "cell_type": "markdown",
   "metadata": {},
   "source": [
    "## Defining a Table using SQLModel\n",
    "\n",
    "When using an ORM, you define tables using Python classes using inheritance.\n",
    "The classes will inherit from some base class that defines the behavior of the object.\n",
    "\n",
    "In the case of SQLModel, we can create a SQL table by inheriting from the class `SQLModel` and setting the `table` argument to `True`.\n",
    "Defining the columns of the table is very similar to defining a model using [Pydantic].\n",
    "Each column is given a name by adding a class attribute to your class. \n",
    "The name of the column will correspond to the name of the attribue in the class.\n",
    "The name of the SQL table will correspond to the name of the class, but in all lower case.\n",
    "\n",
    "The attributes must be accompanied by type-hinting.\n",
    "This will allow SQLModel to map the Python type of the variable to the SQL type.\n",
    "\n",
    "Finally, if there are any constraints on the column such as a primary key or uniqueness, \n",
    "that is added by using the `SQLModel` field object.\n",
    "\n",
    "In the cell below, we have defined columns for the `Article` table.\n"
   ]
  },
  {
   "cell_type": "code",
   "execution_count": 3,
   "metadata": {},
   "outputs": [],
   "source": [
    "class Article(SQLModel, table=True):\n",
    "    \n",
    "    doi: str = Field(primary_key=True)\n",
    "    title: str\n",
    "    publication_year: int\n",
    "    abstract: Optional[str] = Field(default=None)"
   ]
  },
  {
   "cell_type": "markdown",
   "metadata": {},
   "source": [
    "After defining a single table, we can use SQLModel to create and connect to a database."
   ]
  },
  {
   "cell_type": "code",
   "execution_count": 4,
   "metadata": {},
   "outputs": [],
   "source": [
    "sqlite_file_name = \"sqlmodel_database.db\"\n",
    "sqlite_url = f\"sqlite:///{sqlite_file_name}\"\n",
    "\n",
    "engine = create_engine(sqlite_url, echo=True)"
   ]
  },
  {
   "cell_type": "markdown",
   "metadata": {},
   "source": [
    "For the purposes of this tutorial, we're using the `echo=True` option to the SQL engine. \n",
    "This was set in the cell above.\n",
    "When you work with objects in SQLModel, the library is building and executing the SQL queries under the hood.\n",
    "The library will construct queries of the appropriate SQL dialect depending on what type of SQL database you are connecting to.\n",
    "\n",
    "Our database is currently created but empty. To actually add tables to our database, we use `SQLModel.metadata.create_all` and pass in our database engine."
   ]
  },
  {
   "cell_type": "code",
   "execution_count": 5,
   "metadata": {},
   "outputs": [
    {
     "name": "stdout",
     "output_type": "stream",
     "text": [
      "2024-08-28 04:46:10,513 INFO sqlalchemy.engine.Engine BEGIN (implicit)\n",
      "2024-08-28 04:46:10,514 INFO sqlalchemy.engine.Engine PRAGMA main.table_info(\"article\")\n",
      "2024-08-28 04:46:10,515 INFO sqlalchemy.engine.Engine [raw sql] ()\n",
      "2024-08-28 04:46:10,516 INFO sqlalchemy.engine.Engine PRAGMA temp.table_info(\"article\")\n",
      "2024-08-28 04:46:10,516 INFO sqlalchemy.engine.Engine [raw sql] ()\n",
      "2024-08-28 04:46:10,518 INFO sqlalchemy.engine.Engine \n",
      "CREATE TABLE article (\n",
      "\tdoi VARCHAR NOT NULL, \n",
      "\ttitle VARCHAR NOT NULL, \n",
      "\tpublication_year INTEGER NOT NULL, \n",
      "\tabstract VARCHAR, \n",
      "\tPRIMARY KEY (doi)\n",
      ")\n",
      "\n",
      "\n",
      "2024-08-28 04:46:10,518 INFO sqlalchemy.engine.Engine [no key 0.00082s] ()\n",
      "2024-08-28 04:46:10,528 INFO sqlalchemy.engine.Engine COMMIT\n"
     ]
    }
   ],
   "source": [
    "SQLModel.metadata.create_all(engine)"
   ]
  },
  {
   "cell_type": "markdown",
   "metadata": {},
   "source": [
    "In the cell output above, you will be able to see the SQL query that SQLModel constructed to build our table, namely\n",
    "\n",
    "```sql\n",
    "CREATE TABLE article (\n",
    "\tdoi VARCHAR NOT NULL, \n",
    "\ttitle VARCHAR NOT NULL, \n",
    "\tpublication_year INTEGER NOT NULL, \n",
    "\tabstract VARCHAR, \n",
    "\tPRIMARY KEY (doi)\n",
    ")\n",
    "```\n",
    "\n",
    "If you view your database file now, you will see a databbase with a single `Article` table. \n",
    "SQLModel (using SQLAlchemy underneath) has mapped our Python class to a SQL statement for creating a table.\n",
    "\n",
    "<div class=\"alert alert-block alert-warning\">\n",
    "\n",
    "## Exercise\n",
    "Create classes for the `keyword` table and the `author` table.\n",
    "\n",
    "The `author` table should have : `id` (integer), `first_name`, `last_name`, `affiliation` (optional). F\n",
    "\n",
    "The `keyword` table should have `id` and `keyword`.\n",
    "\n",
    "For the `id` columns, use `None | int` as the type. \n",
    "This will allow someone to not pass in an author ID an have the table autoincrement.\n",
    "</div>\n"
   ]
  },
  {
   "cell_type": "code",
   "execution_count": 6,
   "metadata": {},
   "outputs": [],
   "source": [
    "class Author(SQLModel, table=True):\n",
    "\n",
    "    id: None | int = Field(primary_key=True)\n",
    "    first_name: str\n",
    "    last_name: str\n",
    "    affiliation: Optional[str] = Field(default=None)\n",
    "\n",
    "class Keyword(SQLModel, table=True):\n",
    "\n",
    "    id: None | int = Field(primary_key=True)\n",
    "    keyword: str = Field(unique=True, index=True)"
   ]
  },
  {
   "cell_type": "code",
   "execution_count": 7,
   "metadata": {},
   "outputs": [
    {
     "name": "stdout",
     "output_type": "stream",
     "text": [
      "2024-08-28 04:46:10,580 INFO sqlalchemy.engine.Engine BEGIN (implicit)\n",
      "2024-08-28 04:46:10,581 INFO sqlalchemy.engine.Engine PRAGMA main.table_info(\"article\")\n",
      "2024-08-28 04:46:10,582 INFO sqlalchemy.engine.Engine [raw sql] ()\n",
      "2024-08-28 04:46:10,586 INFO sqlalchemy.engine.Engine PRAGMA main.table_info(\"author\")\n",
      "2024-08-28 04:46:10,587 INFO sqlalchemy.engine.Engine [raw sql] ()\n",
      "2024-08-28 04:46:10,588 INFO sqlalchemy.engine.Engine PRAGMA temp.table_info(\"author\")\n",
      "2024-08-28 04:46:10,589 INFO sqlalchemy.engine.Engine [raw sql] ()\n",
      "2024-08-28 04:46:10,593 INFO sqlalchemy.engine.Engine PRAGMA main.table_info(\"keyword\")\n",
      "2024-08-28 04:46:10,596 INFO sqlalchemy.engine.Engine [raw sql] ()\n",
      "2024-08-28 04:46:10,597 INFO sqlalchemy.engine.Engine PRAGMA temp.table_info(\"keyword\")\n",
      "2024-08-28 04:46:10,597 INFO sqlalchemy.engine.Engine [raw sql] ()\n",
      "2024-08-28 04:46:10,599 INFO sqlalchemy.engine.Engine \n",
      "CREATE TABLE author (\n",
      "\tid INTEGER NOT NULL, \n",
      "\tfirst_name VARCHAR NOT NULL, \n",
      "\tlast_name VARCHAR NOT NULL, \n",
      "\taffiliation VARCHAR, \n",
      "\tPRIMARY KEY (id)\n",
      ")\n",
      "\n",
      "\n",
      "2024-08-28 04:46:10,599 INFO sqlalchemy.engine.Engine [no key 0.00053s] ()\n",
      "2024-08-28 04:46:10,614 INFO sqlalchemy.engine.Engine \n",
      "CREATE TABLE keyword (\n",
      "\tid INTEGER NOT NULL, \n",
      "\tkeyword VARCHAR NOT NULL, \n",
      "\tPRIMARY KEY (id)\n",
      ")\n",
      "\n",
      "\n",
      "2024-08-28 04:46:10,615 INFO sqlalchemy.engine.Engine [no key 0.00062s] ()\n",
      "2024-08-28 04:46:10,626 INFO sqlalchemy.engine.Engine CREATE UNIQUE INDEX ix_keyword_keyword ON keyword (keyword)\n",
      "2024-08-28 04:46:10,626 INFO sqlalchemy.engine.Engine [no key 0.00082s] ()\n",
      "2024-08-28 04:46:10,636 INFO sqlalchemy.engine.Engine COMMIT\n"
     ]
    }
   ],
   "source": [
    "SQLModel.metadata.create_all(engine)"
   ]
  },
  {
   "cell_type": "markdown",
   "metadata": {},
   "source": [
    "### Associative Tables\n",
    "\n",
    "Finally for our associative tables we add `foreign_key` to our column fields referencing our other tables."
   ]
  },
  {
   "cell_type": "code",
   "execution_count": 8,
   "metadata": {},
   "outputs": [],
   "source": [
    "class ArticleKeyword(SQLModel, table=True):\n",
    "    __table_args__ = {\"extend_existing\": True} # This lets us run the Jupyter notebook cell multiple times without error\n",
    "    \n",
    "    article_doi: str = Field(foreign_key=\"article.doi\", primary_key=True)\n",
    "    keyword_id: str = Field(foreign_key=\"keyword.id\", primary_key=True)\n",
    "\n",
    "class ArticleAuthor(SQLModel, table=True):\n",
    "    __table_args__ = {\"extend_existing\": True}\n",
    "\n",
    "    article_doi: str = Field(foreign_key=\"article.doi\", primary_key=True)\n",
    "    author_id: str = Field(foreign_key=\"author.id\", primary_key=True)"
   ]
  },
  {
   "cell_type": "code",
   "execution_count": 9,
   "metadata": {},
   "outputs": [
    {
     "name": "stdout",
     "output_type": "stream",
     "text": [
      "2024-08-28 04:46:10,660 INFO sqlalchemy.engine.Engine BEGIN (implicit)\n",
      "2024-08-28 04:46:10,661 INFO sqlalchemy.engine.Engine PRAGMA main.table_info(\"article\")\n",
      "2024-08-28 04:46:10,662 INFO sqlalchemy.engine.Engine [raw sql] ()\n",
      "2024-08-28 04:46:10,663 INFO sqlalchemy.engine.Engine PRAGMA main.table_info(\"author\")\n",
      "2024-08-28 04:46:10,663 INFO sqlalchemy.engine.Engine [raw sql] ()\n",
      "2024-08-28 04:46:10,664 INFO sqlalchemy.engine.Engine PRAGMA main.table_info(\"keyword\")\n",
      "2024-08-28 04:46:10,665 INFO sqlalchemy.engine.Engine [raw sql] ()\n",
      "2024-08-28 04:46:10,665 INFO sqlalchemy.engine.Engine PRAGMA main.table_info(\"articlekeyword\")\n",
      "2024-08-28 04:46:10,666 INFO sqlalchemy.engine.Engine [raw sql] ()\n",
      "2024-08-28 04:46:10,666 INFO sqlalchemy.engine.Engine PRAGMA temp.table_info(\"articlekeyword\")\n",
      "2024-08-28 04:46:10,667 INFO sqlalchemy.engine.Engine [raw sql] ()\n",
      "2024-08-28 04:46:10,667 INFO sqlalchemy.engine.Engine PRAGMA main.table_info(\"articleauthor\")\n",
      "2024-08-28 04:46:10,668 INFO sqlalchemy.engine.Engine [raw sql] ()\n",
      "2024-08-28 04:46:10,669 INFO sqlalchemy.engine.Engine PRAGMA temp.table_info(\"articleauthor\")\n",
      "2024-08-28 04:46:10,669 INFO sqlalchemy.engine.Engine [raw sql] ()\n",
      "2024-08-28 04:46:10,670 INFO sqlalchemy.engine.Engine \n",
      "CREATE TABLE articlekeyword (\n",
      "\tarticle_doi VARCHAR NOT NULL, \n",
      "\tkeyword_id VARCHAR NOT NULL, \n",
      "\tPRIMARY KEY (article_doi, keyword_id), \n",
      "\tFOREIGN KEY(article_doi) REFERENCES article (doi), \n",
      "\tFOREIGN KEY(keyword_id) REFERENCES keyword (id)\n",
      ")\n",
      "\n",
      "\n",
      "2024-08-28 04:46:10,671 INFO sqlalchemy.engine.Engine [no key 0.00040s] ()\n",
      "2024-08-28 04:46:10,680 INFO sqlalchemy.engine.Engine \n",
      "CREATE TABLE articleauthor (\n",
      "\tarticle_doi VARCHAR NOT NULL, \n",
      "\tauthor_id VARCHAR NOT NULL, \n",
      "\tPRIMARY KEY (article_doi, author_id), \n",
      "\tFOREIGN KEY(article_doi) REFERENCES article (doi), \n",
      "\tFOREIGN KEY(author_id) REFERENCES author (id)\n",
      ")\n",
      "\n",
      "\n",
      "2024-08-28 04:46:10,681 INFO sqlalchemy.engine.Engine [no key 0.00054s] ()\n",
      "2024-08-28 04:46:10,689 INFO sqlalchemy.engine.Engine COMMIT\n"
     ]
    }
   ],
   "source": [
    "SQLModel.metadata.create_all(engine)"
   ]
  },
  {
   "cell_type": "markdown",
   "metadata": {},
   "source": [
    "## Show adding and retrieving a single author"
   ]
  },
  {
   "cell_type": "markdown",
   "metadata": {},
   "source": []
  },
  {
   "cell_type": "markdown",
   "metadata": {},
   "source": []
  },
  {
   "cell_type": "code",
   "execution_count": 11,
   "metadata": {},
   "outputs": [
    {
     "name": "stderr",
     "output_type": "stream",
     "text": [
      "/home/janash/miniconda3/envs/database-tutorial/lib/python3.12/site-packages/sqlmodel/main.py:638: SAWarning: This declarative base already contains a class with the same class name and module name as __main__.ArticleKeyword, and will be replaced in the string-lookup table.\n",
      "  DeclarativeMeta.__init__(cls, classname, bases, dict_, **kw)\n",
      "/home/janash/miniconda3/envs/database-tutorial/lib/python3.12/site-packages/sqlmodel/main.py:638: SAWarning: This declarative base already contains a class with the same class name and module name as __main__.ArticleAuthor, and will be replaced in the string-lookup table.\n",
      "  DeclarativeMeta.__init__(cls, classname, bases, dict_, **kw)\n",
      "/home/janash/miniconda3/envs/database-tutorial/lib/python3.12/site-packages/sqlmodel/main.py:638: SAWarning: This declarative base already contains a class with the same class name and module name as __main__.Article, and will be replaced in the string-lookup table.\n",
      "  DeclarativeMeta.__init__(cls, classname, bases, dict_, **kw)\n",
      "/home/janash/miniconda3/envs/database-tutorial/lib/python3.12/site-packages/sqlmodel/main.py:638: SAWarning: This declarative base already contains a class with the same class name and module name as __main__.Author, and will be replaced in the string-lookup table.\n",
      "  DeclarativeMeta.__init__(cls, classname, bases, dict_, **kw)\n"
     ]
    }
   ],
   "source": []
  },
  {
   "cell_type": "markdown",
   "metadata": {},
   "source": []
  },
  {
   "cell_type": "code",
   "execution_count": 14,
   "metadata": {},
   "outputs": [
    {
     "name": "stderr",
     "output_type": "stream",
     "text": [
      "/home/janash/miniconda3/envs/database-tutorial/lib/python3.12/site-packages/sqlmodel/main.py:638: SAWarning: This declarative base already contains a class with the same class name and module name as __main__.Keyword, and will be replaced in the string-lookup table.\n",
      "  DeclarativeMeta.__init__(cls, classname, bases, dict_, **kw)\n"
     ]
    }
   ],
   "source": [
    "import os\n",
    "\n",
    "from typing import Optional, List\n",
    "\n",
    "from sqlmodel import Field, SQLModel, Session, Relationship, create_engine\n",
    "\n",
    "# remove the database file if it exists\n",
    "if os.path.exists(\"sqlmodel_database.db\"):\n",
    "    os.remove(\"sqlmodel_database.db\")\n",
    "\n",
    "\n",
    "# Define associative tables first - we will use these in relationships for our main tables\n",
    "# It's easier to define these first because we can use them in the main tables' definitions,\n",
    "# otherwise, Python would have a problem and we would need to use something like ForwardRef (probably, I actually didn't get that to work :) )\n",
    "# This cell will be broken up and explained, especially the relationship parts.\n",
    "class ArticleKeyword(SQLModel, table=True):\n",
    "    __table_args__ = {\"extend_existing\": True} # This lets us run the Jupyter notebook cell multiple times without error\n",
    "    \n",
    "    article_doi: str = Field(foreign_key=\"article.doi\", primary_key=True)\n",
    "    keyword_id: str = Field(foreign_key=\"keyword.id\", primary_key=True)\n",
    "\n",
    "class ArticleAuthor(SQLModel, table=True):\n",
    "    __table_args__ = {\"extend_existing\": True}\n",
    "\n",
    "    article_doi: str = Field(foreign_key=\"article.doi\", primary_key=True)\n",
    "    author_id: str = Field(foreign_key=\"author.id\", primary_key=True)\n",
    "\n",
    "class Article(SQLModel, table=True):\n",
    "    __table_args__ = {\"extend_existing\": True}\n",
    "\n",
    "    doi: str = Field(primary_key=True)\n",
    "    title: str\n",
    "    publication_year: int\n",
    "    abstract: Optional[str] = Field(default=None)\n",
    "\n",
    "    keywords: list[\"Keyword\"] = Relationship(back_populates=\"articles\", link_model=ArticleKeyword)\n",
    "    authors: list[\"Author\"] = Relationship(back_populates=\"articles\", link_model=ArticleAuthor)\n",
    "\n",
    "class Author(SQLModel, table=True):\n",
    "    __table_args__ = {\"extend_existing\": True}\n",
    "\n",
    "    id: None | int = Field(primary_key=True)\n",
    "    first_name: str\n",
    "    last_name: str\n",
    "    affiliation: Optional[str] = Field(default=None)\n",
    "\n",
    "    articles: List[\"Article\"] = Relationship(back_populates=\"authors\", link_model=ArticleAuthor)\n",
    "\n",
    "\n",
    "class Keyword(SQLModel, table=True):\n",
    "    __table_args__ = {\"extend_existing\": True}\n",
    "\n",
    "    id: None | int = Field(primary_key=True)\n",
    "    keyword: str = Field(unique=True, index=True)\n",
    "\n",
    "    articles: List[\"Article\"] = Relationship(back_populates=\"keywords\", link_model=ArticleKeyword)\n",
    "\n"
   ]
  },
  {
   "cell_type": "code",
   "execution_count": null,
   "metadata": {},
   "outputs": [],
   "source": []
  },
  {
   "cell_type": "code",
   "execution_count": 15,
   "metadata": {},
   "outputs": [],
   "source": [
    "sqlite_file_name = \"sqlmodel_database.db\"\n",
    "sqlite_url = f\"sqlite:///{sqlite_file_name}\"\n",
    "\n",
    "engine = create_engine(sqlite_url, echo=True)"
   ]
  },
  {
   "cell_type": "code",
   "execution_count": 16,
   "metadata": {},
   "outputs": [
    {
     "name": "stdout",
     "output_type": "stream",
     "text": [
      "2024-08-28 04:46:10,913 INFO sqlalchemy.engine.Engine BEGIN (implicit)\n",
      "2024-08-28 04:46:10,915 INFO sqlalchemy.engine.Engine PRAGMA main.table_info(\"article\")\n",
      "2024-08-28 04:46:10,915 INFO sqlalchemy.engine.Engine [raw sql] ()\n",
      "2024-08-28 04:46:10,916 INFO sqlalchemy.engine.Engine PRAGMA temp.table_info(\"article\")\n",
      "2024-08-28 04:46:10,917 INFO sqlalchemy.engine.Engine [raw sql] ()\n",
      "2024-08-28 04:46:10,918 INFO sqlalchemy.engine.Engine PRAGMA main.table_info(\"author\")\n",
      "2024-08-28 04:46:10,918 INFO sqlalchemy.engine.Engine [raw sql] ()\n",
      "2024-08-28 04:46:10,919 INFO sqlalchemy.engine.Engine PRAGMA temp.table_info(\"author\")\n",
      "2024-08-28 04:46:10,919 INFO sqlalchemy.engine.Engine [raw sql] ()\n",
      "2024-08-28 04:46:10,920 INFO sqlalchemy.engine.Engine PRAGMA main.table_info(\"keyword\")\n",
      "2024-08-28 04:46:10,921 INFO sqlalchemy.engine.Engine [raw sql] ()\n",
      "2024-08-28 04:46:10,922 INFO sqlalchemy.engine.Engine PRAGMA temp.table_info(\"keyword\")\n",
      "2024-08-28 04:46:10,922 INFO sqlalchemy.engine.Engine [raw sql] ()\n",
      "2024-08-28 04:46:10,923 INFO sqlalchemy.engine.Engine PRAGMA main.table_info(\"articlekeyword\")\n",
      "2024-08-28 04:46:10,924 INFO sqlalchemy.engine.Engine [raw sql] ()\n",
      "2024-08-28 04:46:10,925 INFO sqlalchemy.engine.Engine PRAGMA temp.table_info(\"articlekeyword\")\n",
      "2024-08-28 04:46:10,925 INFO sqlalchemy.engine.Engine [raw sql] ()\n",
      "2024-08-28 04:46:10,926 INFO sqlalchemy.engine.Engine PRAGMA main.table_info(\"articleauthor\")\n",
      "2024-08-28 04:46:10,926 INFO sqlalchemy.engine.Engine [raw sql] ()\n",
      "2024-08-28 04:46:10,927 INFO sqlalchemy.engine.Engine PRAGMA temp.table_info(\"articleauthor\")\n",
      "2024-08-28 04:46:10,928 INFO sqlalchemy.engine.Engine [raw sql] ()\n",
      "2024-08-28 04:46:10,929 INFO sqlalchemy.engine.Engine \n",
      "CREATE TABLE article (\n",
      "\tdoi VARCHAR NOT NULL, \n",
      "\ttitle VARCHAR NOT NULL, \n",
      "\tpublication_year INTEGER NOT NULL, \n",
      "\tabstract VARCHAR, \n",
      "\tPRIMARY KEY (doi)\n",
      ")\n",
      "\n",
      "\n",
      "2024-08-28 04:46:10,929 INFO sqlalchemy.engine.Engine [no key 0.00037s] ()\n",
      "2024-08-28 04:46:10,937 INFO sqlalchemy.engine.Engine \n",
      "CREATE TABLE author (\n",
      "\tid INTEGER NOT NULL, \n",
      "\tfirst_name VARCHAR NOT NULL, \n",
      "\tlast_name VARCHAR NOT NULL, \n",
      "\taffiliation VARCHAR, \n",
      "\tPRIMARY KEY (id)\n",
      ")\n",
      "\n",
      "\n",
      "2024-08-28 04:46:10,938 INFO sqlalchemy.engine.Engine [no key 0.00086s] ()\n",
      "2024-08-28 04:46:10,950 INFO sqlalchemy.engine.Engine \n",
      "CREATE TABLE keyword (\n",
      "\tid INTEGER NOT NULL, \n",
      "\tkeyword VARCHAR NOT NULL, \n",
      "\tPRIMARY KEY (id)\n",
      ")\n",
      "\n",
      "\n",
      "2024-08-28 04:46:10,951 INFO sqlalchemy.engine.Engine [no key 0.00070s] ()\n",
      "2024-08-28 04:46:10,959 INFO sqlalchemy.engine.Engine CREATE UNIQUE INDEX ix_keyword_keyword ON keyword (keyword)\n",
      "2024-08-28 04:46:10,959 INFO sqlalchemy.engine.Engine [no key 0.00064s] ()\n",
      "2024-08-28 04:46:10,968 INFO sqlalchemy.engine.Engine CREATE UNIQUE INDEX ix_keyword_keyword ON keyword (keyword)\n",
      "2024-08-28 04:46:10,968 INFO sqlalchemy.engine.Engine [no key 0.00059s] ()\n",
      "2024-08-28 04:46:10,969 INFO sqlalchemy.engine.Engine ROLLBACK\n"
     ]
    },
    {
     "ename": "OperationalError",
     "evalue": "(sqlite3.OperationalError) index ix_keyword_keyword already exists\n[SQL: CREATE UNIQUE INDEX ix_keyword_keyword ON keyword (keyword)]\n(Background on this error at: https://sqlalche.me/e/20/e3q8)",
     "output_type": "error",
     "traceback": [
      "\u001b[0;31m---------------------------------------------------------------------------\u001b[0m",
      "\u001b[0;31mOperationalError\u001b[0m                          Traceback (most recent call last)",
      "File \u001b[0;32m~/miniconda3/envs/database-tutorial/lib/python3.12/site-packages/sqlalchemy/engine/base.py:1967\u001b[0m, in \u001b[0;36mConnection._exec_single_context\u001b[0;34m(self, dialect, context, statement, parameters)\u001b[0m\n\u001b[1;32m   1966\u001b[0m     \u001b[38;5;28;01mif\u001b[39;00m \u001b[38;5;129;01mnot\u001b[39;00m evt_handled:\n\u001b[0;32m-> 1967\u001b[0m         \u001b[38;5;28;43mself\u001b[39;49m\u001b[38;5;241;43m.\u001b[39;49m\u001b[43mdialect\u001b[49m\u001b[38;5;241;43m.\u001b[39;49m\u001b[43mdo_execute\u001b[49m\u001b[43m(\u001b[49m\n\u001b[1;32m   1968\u001b[0m \u001b[43m            \u001b[49m\u001b[43mcursor\u001b[49m\u001b[43m,\u001b[49m\u001b[43m \u001b[49m\u001b[43mstr_statement\u001b[49m\u001b[43m,\u001b[49m\u001b[43m \u001b[49m\u001b[43meffective_parameters\u001b[49m\u001b[43m,\u001b[49m\u001b[43m \u001b[49m\u001b[43mcontext\u001b[49m\n\u001b[1;32m   1969\u001b[0m \u001b[43m        \u001b[49m\u001b[43m)\u001b[49m\n\u001b[1;32m   1971\u001b[0m \u001b[38;5;28;01mif\u001b[39;00m \u001b[38;5;28mself\u001b[39m\u001b[38;5;241m.\u001b[39m_has_events \u001b[38;5;129;01mor\u001b[39;00m \u001b[38;5;28mself\u001b[39m\u001b[38;5;241m.\u001b[39mengine\u001b[38;5;241m.\u001b[39m_has_events:\n",
      "File \u001b[0;32m~/miniconda3/envs/database-tutorial/lib/python3.12/site-packages/sqlalchemy/engine/default.py:941\u001b[0m, in \u001b[0;36mDefaultDialect.do_execute\u001b[0;34m(self, cursor, statement, parameters, context)\u001b[0m\n\u001b[1;32m    940\u001b[0m \u001b[38;5;28;01mdef\u001b[39;00m \u001b[38;5;21mdo_execute\u001b[39m(\u001b[38;5;28mself\u001b[39m, cursor, statement, parameters, context\u001b[38;5;241m=\u001b[39m\u001b[38;5;28;01mNone\u001b[39;00m):\n\u001b[0;32m--> 941\u001b[0m     \u001b[43mcursor\u001b[49m\u001b[38;5;241;43m.\u001b[39;49m\u001b[43mexecute\u001b[49m\u001b[43m(\u001b[49m\u001b[43mstatement\u001b[49m\u001b[43m,\u001b[49m\u001b[43m \u001b[49m\u001b[43mparameters\u001b[49m\u001b[43m)\u001b[49m\n",
      "\u001b[0;31mOperationalError\u001b[0m: index ix_keyword_keyword already exists",
      "\nThe above exception was the direct cause of the following exception:\n",
      "\u001b[0;31mOperationalError\u001b[0m                          Traceback (most recent call last)",
      "Cell \u001b[0;32mIn[16], line 1\u001b[0m\n\u001b[0;32m----> 1\u001b[0m \u001b[43mSQLModel\u001b[49m\u001b[38;5;241;43m.\u001b[39;49m\u001b[43mmetadata\u001b[49m\u001b[38;5;241;43m.\u001b[39;49m\u001b[43mcreate_all\u001b[49m\u001b[43m(\u001b[49m\u001b[43mengine\u001b[49m\u001b[43m)\u001b[49m\n",
      "File \u001b[0;32m~/miniconda3/envs/database-tutorial/lib/python3.12/site-packages/sqlalchemy/sql/schema.py:5866\u001b[0m, in \u001b[0;36mMetaData.create_all\u001b[0;34m(self, bind, tables, checkfirst)\u001b[0m\n\u001b[1;32m   5842\u001b[0m \u001b[38;5;28;01mdef\u001b[39;00m \u001b[38;5;21mcreate_all\u001b[39m(\n\u001b[1;32m   5843\u001b[0m     \u001b[38;5;28mself\u001b[39m,\n\u001b[1;32m   5844\u001b[0m     bind: _CreateDropBind,\n\u001b[1;32m   5845\u001b[0m     tables: Optional[_typing_Sequence[Table]] \u001b[38;5;241m=\u001b[39m \u001b[38;5;28;01mNone\u001b[39;00m,\n\u001b[1;32m   5846\u001b[0m     checkfirst: \u001b[38;5;28mbool\u001b[39m \u001b[38;5;241m=\u001b[39m \u001b[38;5;28;01mTrue\u001b[39;00m,\n\u001b[1;32m   5847\u001b[0m ) \u001b[38;5;241m-\u001b[39m\u001b[38;5;241m>\u001b[39m \u001b[38;5;28;01mNone\u001b[39;00m:\n\u001b[1;32m   5848\u001b[0m \u001b[38;5;250m    \u001b[39m\u001b[38;5;124;03m\"\"\"Create all tables stored in this metadata.\u001b[39;00m\n\u001b[1;32m   5849\u001b[0m \n\u001b[1;32m   5850\u001b[0m \u001b[38;5;124;03m    Conditional by default, will not attempt to recreate tables already\u001b[39;00m\n\u001b[0;32m   (...)\u001b[0m\n\u001b[1;32m   5864\u001b[0m \n\u001b[1;32m   5865\u001b[0m \u001b[38;5;124;03m    \"\"\"\u001b[39;00m\n\u001b[0;32m-> 5866\u001b[0m     \u001b[43mbind\u001b[49m\u001b[38;5;241;43m.\u001b[39;49m\u001b[43m_run_ddl_visitor\u001b[49m\u001b[43m(\u001b[49m\n\u001b[1;32m   5867\u001b[0m \u001b[43m        \u001b[49m\u001b[43mddl\u001b[49m\u001b[38;5;241;43m.\u001b[39;49m\u001b[43mSchemaGenerator\u001b[49m\u001b[43m,\u001b[49m\u001b[43m \u001b[49m\u001b[38;5;28;43mself\u001b[39;49m\u001b[43m,\u001b[49m\u001b[43m \u001b[49m\u001b[43mcheckfirst\u001b[49m\u001b[38;5;241;43m=\u001b[39;49m\u001b[43mcheckfirst\u001b[49m\u001b[43m,\u001b[49m\u001b[43m \u001b[49m\u001b[43mtables\u001b[49m\u001b[38;5;241;43m=\u001b[39;49m\u001b[43mtables\u001b[49m\n\u001b[1;32m   5868\u001b[0m \u001b[43m    \u001b[49m\u001b[43m)\u001b[49m\n",
      "File \u001b[0;32m~/miniconda3/envs/database-tutorial/lib/python3.12/site-packages/sqlalchemy/engine/base.py:3253\u001b[0m, in \u001b[0;36mEngine._run_ddl_visitor\u001b[0;34m(self, visitorcallable, element, **kwargs)\u001b[0m\n\u001b[1;32m   3246\u001b[0m \u001b[38;5;28;01mdef\u001b[39;00m \u001b[38;5;21m_run_ddl_visitor\u001b[39m(\n\u001b[1;32m   3247\u001b[0m     \u001b[38;5;28mself\u001b[39m,\n\u001b[1;32m   3248\u001b[0m     visitorcallable: Type[Union[SchemaGenerator, SchemaDropper]],\n\u001b[1;32m   3249\u001b[0m     element: SchemaItem,\n\u001b[1;32m   3250\u001b[0m     \u001b[38;5;241m*\u001b[39m\u001b[38;5;241m*\u001b[39mkwargs: Any,\n\u001b[1;32m   3251\u001b[0m ) \u001b[38;5;241m-\u001b[39m\u001b[38;5;241m>\u001b[39m \u001b[38;5;28;01mNone\u001b[39;00m:\n\u001b[1;32m   3252\u001b[0m     \u001b[38;5;28;01mwith\u001b[39;00m \u001b[38;5;28mself\u001b[39m\u001b[38;5;241m.\u001b[39mbegin() \u001b[38;5;28;01mas\u001b[39;00m conn:\n\u001b[0;32m-> 3253\u001b[0m         \u001b[43mconn\u001b[49m\u001b[38;5;241;43m.\u001b[39;49m\u001b[43m_run_ddl_visitor\u001b[49m\u001b[43m(\u001b[49m\u001b[43mvisitorcallable\u001b[49m\u001b[43m,\u001b[49m\u001b[43m \u001b[49m\u001b[43melement\u001b[49m\u001b[43m,\u001b[49m\u001b[43m \u001b[49m\u001b[38;5;241;43m*\u001b[39;49m\u001b[38;5;241;43m*\u001b[39;49m\u001b[43mkwargs\u001b[49m\u001b[43m)\u001b[49m\n",
      "File \u001b[0;32m~/miniconda3/envs/database-tutorial/lib/python3.12/site-packages/sqlalchemy/engine/base.py:2459\u001b[0m, in \u001b[0;36mConnection._run_ddl_visitor\u001b[0;34m(self, visitorcallable, element, **kwargs)\u001b[0m\n\u001b[1;32m   2447\u001b[0m \u001b[38;5;28;01mdef\u001b[39;00m \u001b[38;5;21m_run_ddl_visitor\u001b[39m(\n\u001b[1;32m   2448\u001b[0m     \u001b[38;5;28mself\u001b[39m,\n\u001b[1;32m   2449\u001b[0m     visitorcallable: Type[Union[SchemaGenerator, SchemaDropper]],\n\u001b[1;32m   2450\u001b[0m     element: SchemaItem,\n\u001b[1;32m   2451\u001b[0m     \u001b[38;5;241m*\u001b[39m\u001b[38;5;241m*\u001b[39mkwargs: Any,\n\u001b[1;32m   2452\u001b[0m ) \u001b[38;5;241m-\u001b[39m\u001b[38;5;241m>\u001b[39m \u001b[38;5;28;01mNone\u001b[39;00m:\n\u001b[1;32m   2453\u001b[0m \u001b[38;5;250m    \u001b[39m\u001b[38;5;124;03m\"\"\"run a DDL visitor.\u001b[39;00m\n\u001b[1;32m   2454\u001b[0m \n\u001b[1;32m   2455\u001b[0m \u001b[38;5;124;03m    This method is only here so that the MockConnection can change the\u001b[39;00m\n\u001b[1;32m   2456\u001b[0m \u001b[38;5;124;03m    options given to the visitor so that \"checkfirst\" is skipped.\u001b[39;00m\n\u001b[1;32m   2457\u001b[0m \n\u001b[1;32m   2458\u001b[0m \u001b[38;5;124;03m    \"\"\"\u001b[39;00m\n\u001b[0;32m-> 2459\u001b[0m     \u001b[43mvisitorcallable\u001b[49m\u001b[43m(\u001b[49m\u001b[38;5;28;43mself\u001b[39;49m\u001b[38;5;241;43m.\u001b[39;49m\u001b[43mdialect\u001b[49m\u001b[43m,\u001b[49m\u001b[43m \u001b[49m\u001b[38;5;28;43mself\u001b[39;49m\u001b[43m,\u001b[49m\u001b[43m \u001b[49m\u001b[38;5;241;43m*\u001b[39;49m\u001b[38;5;241;43m*\u001b[39;49m\u001b[43mkwargs\u001b[49m\u001b[43m)\u001b[49m\u001b[38;5;241;43m.\u001b[39;49m\u001b[43mtraverse_single\u001b[49m\u001b[43m(\u001b[49m\u001b[43melement\u001b[49m\u001b[43m)\u001b[49m\n",
      "File \u001b[0;32m~/miniconda3/envs/database-tutorial/lib/python3.12/site-packages/sqlalchemy/sql/visitors.py:664\u001b[0m, in \u001b[0;36mExternalTraversal.traverse_single\u001b[0;34m(self, obj, **kw)\u001b[0m\n\u001b[1;32m    662\u001b[0m meth \u001b[38;5;241m=\u001b[39m \u001b[38;5;28mgetattr\u001b[39m(v, \u001b[38;5;124m\"\u001b[39m\u001b[38;5;124mvisit_\u001b[39m\u001b[38;5;132;01m%s\u001b[39;00m\u001b[38;5;124m\"\u001b[39m \u001b[38;5;241m%\u001b[39m obj\u001b[38;5;241m.\u001b[39m__visit_name__, \u001b[38;5;28;01mNone\u001b[39;00m)\n\u001b[1;32m    663\u001b[0m \u001b[38;5;28;01mif\u001b[39;00m meth:\n\u001b[0;32m--> 664\u001b[0m     \u001b[38;5;28;01mreturn\u001b[39;00m \u001b[43mmeth\u001b[49m\u001b[43m(\u001b[49m\u001b[43mobj\u001b[49m\u001b[43m,\u001b[49m\u001b[43m \u001b[49m\u001b[38;5;241;43m*\u001b[39;49m\u001b[38;5;241;43m*\u001b[39;49m\u001b[43mkw\u001b[49m\u001b[43m)\u001b[49m\n",
      "File \u001b[0;32m~/miniconda3/envs/database-tutorial/lib/python3.12/site-packages/sqlalchemy/sql/ddl.py:918\u001b[0m, in \u001b[0;36mSchemaGenerator.visit_metadata\u001b[0;34m(self, metadata)\u001b[0m\n\u001b[1;32m    916\u001b[0m \u001b[38;5;28;01mfor\u001b[39;00m table, fkcs \u001b[38;5;129;01min\u001b[39;00m collection:\n\u001b[1;32m    917\u001b[0m     \u001b[38;5;28;01mif\u001b[39;00m table \u001b[38;5;129;01mis\u001b[39;00m \u001b[38;5;129;01mnot\u001b[39;00m \u001b[38;5;28;01mNone\u001b[39;00m:\n\u001b[0;32m--> 918\u001b[0m         \u001b[38;5;28;43mself\u001b[39;49m\u001b[38;5;241;43m.\u001b[39;49m\u001b[43mtraverse_single\u001b[49m\u001b[43m(\u001b[49m\n\u001b[1;32m    919\u001b[0m \u001b[43m            \u001b[49m\u001b[43mtable\u001b[49m\u001b[43m,\u001b[49m\n\u001b[1;32m    920\u001b[0m \u001b[43m            \u001b[49m\u001b[43mcreate_ok\u001b[49m\u001b[38;5;241;43m=\u001b[39;49m\u001b[38;5;28;43;01mTrue\u001b[39;49;00m\u001b[43m,\u001b[49m\n\u001b[1;32m    921\u001b[0m \u001b[43m            \u001b[49m\u001b[43minclude_foreign_key_constraints\u001b[49m\u001b[38;5;241;43m=\u001b[39;49m\u001b[43mfkcs\u001b[49m\u001b[43m,\u001b[49m\n\u001b[1;32m    922\u001b[0m \u001b[43m            \u001b[49m\u001b[43m_is_metadata_operation\u001b[49m\u001b[38;5;241;43m=\u001b[39;49m\u001b[38;5;28;43;01mTrue\u001b[39;49;00m\u001b[43m,\u001b[49m\n\u001b[1;32m    923\u001b[0m \u001b[43m        \u001b[49m\u001b[43m)\u001b[49m\n\u001b[1;32m    924\u001b[0m     \u001b[38;5;28;01melse\u001b[39;00m:\n\u001b[1;32m    925\u001b[0m         \u001b[38;5;28;01mfor\u001b[39;00m fkc \u001b[38;5;129;01min\u001b[39;00m fkcs:\n",
      "File \u001b[0;32m~/miniconda3/envs/database-tutorial/lib/python3.12/site-packages/sqlalchemy/sql/visitors.py:664\u001b[0m, in \u001b[0;36mExternalTraversal.traverse_single\u001b[0;34m(self, obj, **kw)\u001b[0m\n\u001b[1;32m    662\u001b[0m meth \u001b[38;5;241m=\u001b[39m \u001b[38;5;28mgetattr\u001b[39m(v, \u001b[38;5;124m\"\u001b[39m\u001b[38;5;124mvisit_\u001b[39m\u001b[38;5;132;01m%s\u001b[39;00m\u001b[38;5;124m\"\u001b[39m \u001b[38;5;241m%\u001b[39m obj\u001b[38;5;241m.\u001b[39m__visit_name__, \u001b[38;5;28;01mNone\u001b[39;00m)\n\u001b[1;32m    663\u001b[0m \u001b[38;5;28;01mif\u001b[39;00m meth:\n\u001b[0;32m--> 664\u001b[0m     \u001b[38;5;28;01mreturn\u001b[39;00m \u001b[43mmeth\u001b[49m\u001b[43m(\u001b[49m\u001b[43mobj\u001b[49m\u001b[43m,\u001b[49m\u001b[43m \u001b[49m\u001b[38;5;241;43m*\u001b[39;49m\u001b[38;5;241;43m*\u001b[39;49m\u001b[43mkw\u001b[49m\u001b[43m)\u001b[49m\n",
      "File \u001b[0;32m~/miniconda3/envs/database-tutorial/lib/python3.12/site-packages/sqlalchemy/sql/ddl.py:960\u001b[0m, in \u001b[0;36mSchemaGenerator.visit_table\u001b[0;34m(self, table, create_ok, include_foreign_key_constraints, _is_metadata_operation)\u001b[0m\n\u001b[1;32m    958\u001b[0m \u001b[38;5;28;01mif\u001b[39;00m \u001b[38;5;28mhasattr\u001b[39m(table, \u001b[38;5;124m\"\u001b[39m\u001b[38;5;124mindexes\u001b[39m\u001b[38;5;124m\"\u001b[39m):\n\u001b[1;32m    959\u001b[0m     \u001b[38;5;28;01mfor\u001b[39;00m index \u001b[38;5;129;01min\u001b[39;00m table\u001b[38;5;241m.\u001b[39mindexes:\n\u001b[0;32m--> 960\u001b[0m         \u001b[38;5;28;43mself\u001b[39;49m\u001b[38;5;241;43m.\u001b[39;49m\u001b[43mtraverse_single\u001b[49m\u001b[43m(\u001b[49m\u001b[43mindex\u001b[49m\u001b[43m,\u001b[49m\u001b[43m \u001b[49m\u001b[43mcreate_ok\u001b[49m\u001b[38;5;241;43m=\u001b[39;49m\u001b[38;5;28;43;01mTrue\u001b[39;49;00m\u001b[43m)\u001b[49m\n\u001b[1;32m    962\u001b[0m \u001b[38;5;28;01mif\u001b[39;00m (\n\u001b[1;32m    963\u001b[0m     \u001b[38;5;28mself\u001b[39m\u001b[38;5;241m.\u001b[39mdialect\u001b[38;5;241m.\u001b[39msupports_comments\n\u001b[1;32m    964\u001b[0m     \u001b[38;5;129;01mand\u001b[39;00m \u001b[38;5;129;01mnot\u001b[39;00m \u001b[38;5;28mself\u001b[39m\u001b[38;5;241m.\u001b[39mdialect\u001b[38;5;241m.\u001b[39minline_comments\n\u001b[1;32m    965\u001b[0m ):\n\u001b[1;32m    966\u001b[0m     \u001b[38;5;28;01mif\u001b[39;00m table\u001b[38;5;241m.\u001b[39mcomment \u001b[38;5;129;01mis\u001b[39;00m \u001b[38;5;129;01mnot\u001b[39;00m \u001b[38;5;28;01mNone\u001b[39;00m:\n",
      "File \u001b[0;32m~/miniconda3/envs/database-tutorial/lib/python3.12/site-packages/sqlalchemy/sql/visitors.py:664\u001b[0m, in \u001b[0;36mExternalTraversal.traverse_single\u001b[0;34m(self, obj, **kw)\u001b[0m\n\u001b[1;32m    662\u001b[0m meth \u001b[38;5;241m=\u001b[39m \u001b[38;5;28mgetattr\u001b[39m(v, \u001b[38;5;124m\"\u001b[39m\u001b[38;5;124mvisit_\u001b[39m\u001b[38;5;132;01m%s\u001b[39;00m\u001b[38;5;124m\"\u001b[39m \u001b[38;5;241m%\u001b[39m obj\u001b[38;5;241m.\u001b[39m__visit_name__, \u001b[38;5;28;01mNone\u001b[39;00m)\n\u001b[1;32m    663\u001b[0m \u001b[38;5;28;01mif\u001b[39;00m meth:\n\u001b[0;32m--> 664\u001b[0m     \u001b[38;5;28;01mreturn\u001b[39;00m \u001b[43mmeth\u001b[49m\u001b[43m(\u001b[49m\u001b[43mobj\u001b[49m\u001b[43m,\u001b[49m\u001b[43m \u001b[49m\u001b[38;5;241;43m*\u001b[39;49m\u001b[38;5;241;43m*\u001b[39;49m\u001b[43mkw\u001b[49m\u001b[43m)\u001b[49m\n",
      "File \u001b[0;32m~/miniconda3/envs/database-tutorial/lib/python3.12/site-packages/sqlalchemy/sql/ddl.py:997\u001b[0m, in \u001b[0;36mSchemaGenerator.visit_index\u001b[0;34m(self, index, create_ok)\u001b[0m\n\u001b[1;32m    995\u001b[0m     \u001b[38;5;28;01mreturn\u001b[39;00m\n\u001b[1;32m    996\u001b[0m \u001b[38;5;28;01mwith\u001b[39;00m \u001b[38;5;28mself\u001b[39m\u001b[38;5;241m.\u001b[39mwith_ddl_events(index):\n\u001b[0;32m--> 997\u001b[0m     \u001b[43mCreateIndex\u001b[49m\u001b[43m(\u001b[49m\u001b[43mindex\u001b[49m\u001b[43m)\u001b[49m\u001b[38;5;241;43m.\u001b[39;49m\u001b[43m_invoke_with\u001b[49m\u001b[43m(\u001b[49m\u001b[38;5;28;43mself\u001b[39;49m\u001b[38;5;241;43m.\u001b[39;49m\u001b[43mconnection\u001b[49m\u001b[43m)\u001b[49m\n",
      "File \u001b[0;32m~/miniconda3/envs/database-tutorial/lib/python3.12/site-packages/sqlalchemy/sql/ddl.py:314\u001b[0m, in \u001b[0;36mExecutableDDLElement._invoke_with\u001b[0;34m(self, bind)\u001b[0m\n\u001b[1;32m    312\u001b[0m \u001b[38;5;28;01mdef\u001b[39;00m \u001b[38;5;21m_invoke_with\u001b[39m(\u001b[38;5;28mself\u001b[39m, bind):\n\u001b[1;32m    313\u001b[0m     \u001b[38;5;28;01mif\u001b[39;00m \u001b[38;5;28mself\u001b[39m\u001b[38;5;241m.\u001b[39m_should_execute(\u001b[38;5;28mself\u001b[39m\u001b[38;5;241m.\u001b[39mtarget, bind):\n\u001b[0;32m--> 314\u001b[0m         \u001b[38;5;28;01mreturn\u001b[39;00m \u001b[43mbind\u001b[49m\u001b[38;5;241;43m.\u001b[39;49m\u001b[43mexecute\u001b[49m\u001b[43m(\u001b[49m\u001b[38;5;28;43mself\u001b[39;49m\u001b[43m)\u001b[49m\n",
      "File \u001b[0;32m~/miniconda3/envs/database-tutorial/lib/python3.12/site-packages/sqlalchemy/engine/base.py:1418\u001b[0m, in \u001b[0;36mConnection.execute\u001b[0;34m(self, statement, parameters, execution_options)\u001b[0m\n\u001b[1;32m   1416\u001b[0m     \u001b[38;5;28;01mraise\u001b[39;00m exc\u001b[38;5;241m.\u001b[39mObjectNotExecutableError(statement) \u001b[38;5;28;01mfrom\u001b[39;00m \u001b[38;5;21;01merr\u001b[39;00m\n\u001b[1;32m   1417\u001b[0m \u001b[38;5;28;01melse\u001b[39;00m:\n\u001b[0;32m-> 1418\u001b[0m     \u001b[38;5;28;01mreturn\u001b[39;00m \u001b[43mmeth\u001b[49m\u001b[43m(\u001b[49m\n\u001b[1;32m   1419\u001b[0m \u001b[43m        \u001b[49m\u001b[38;5;28;43mself\u001b[39;49m\u001b[43m,\u001b[49m\n\u001b[1;32m   1420\u001b[0m \u001b[43m        \u001b[49m\u001b[43mdistilled_parameters\u001b[49m\u001b[43m,\u001b[49m\n\u001b[1;32m   1421\u001b[0m \u001b[43m        \u001b[49m\u001b[43mexecution_options\u001b[49m\u001b[43m \u001b[49m\u001b[38;5;129;43;01mor\u001b[39;49;00m\u001b[43m \u001b[49m\u001b[43mNO_OPTIONS\u001b[49m\u001b[43m,\u001b[49m\n\u001b[1;32m   1422\u001b[0m \u001b[43m    \u001b[49m\u001b[43m)\u001b[49m\n",
      "File \u001b[0;32m~/miniconda3/envs/database-tutorial/lib/python3.12/site-packages/sqlalchemy/sql/ddl.py:180\u001b[0m, in \u001b[0;36mExecutableDDLElement._execute_on_connection\u001b[0;34m(self, connection, distilled_params, execution_options)\u001b[0m\n\u001b[1;32m    177\u001b[0m \u001b[38;5;28;01mdef\u001b[39;00m \u001b[38;5;21m_execute_on_connection\u001b[39m(\n\u001b[1;32m    178\u001b[0m     \u001b[38;5;28mself\u001b[39m, connection, distilled_params, execution_options\n\u001b[1;32m    179\u001b[0m ):\n\u001b[0;32m--> 180\u001b[0m     \u001b[38;5;28;01mreturn\u001b[39;00m \u001b[43mconnection\u001b[49m\u001b[38;5;241;43m.\u001b[39;49m\u001b[43m_execute_ddl\u001b[49m\u001b[43m(\u001b[49m\n\u001b[1;32m    181\u001b[0m \u001b[43m        \u001b[49m\u001b[38;5;28;43mself\u001b[39;49m\u001b[43m,\u001b[49m\u001b[43m \u001b[49m\u001b[43mdistilled_params\u001b[49m\u001b[43m,\u001b[49m\u001b[43m \u001b[49m\u001b[43mexecution_options\u001b[49m\n\u001b[1;32m    182\u001b[0m \u001b[43m    \u001b[49m\u001b[43m)\u001b[49m\n",
      "File \u001b[0;32m~/miniconda3/envs/database-tutorial/lib/python3.12/site-packages/sqlalchemy/engine/base.py:1529\u001b[0m, in \u001b[0;36mConnection._execute_ddl\u001b[0;34m(self, ddl, distilled_parameters, execution_options)\u001b[0m\n\u001b[1;32m   1524\u001b[0m dialect \u001b[38;5;241m=\u001b[39m \u001b[38;5;28mself\u001b[39m\u001b[38;5;241m.\u001b[39mdialect\n\u001b[1;32m   1526\u001b[0m compiled \u001b[38;5;241m=\u001b[39m ddl\u001b[38;5;241m.\u001b[39mcompile(\n\u001b[1;32m   1527\u001b[0m     dialect\u001b[38;5;241m=\u001b[39mdialect, schema_translate_map\u001b[38;5;241m=\u001b[39mschema_translate_map\n\u001b[1;32m   1528\u001b[0m )\n\u001b[0;32m-> 1529\u001b[0m ret \u001b[38;5;241m=\u001b[39m \u001b[38;5;28;43mself\u001b[39;49m\u001b[38;5;241;43m.\u001b[39;49m\u001b[43m_execute_context\u001b[49m\u001b[43m(\u001b[49m\n\u001b[1;32m   1530\u001b[0m \u001b[43m    \u001b[49m\u001b[43mdialect\u001b[49m\u001b[43m,\u001b[49m\n\u001b[1;32m   1531\u001b[0m \u001b[43m    \u001b[49m\u001b[43mdialect\u001b[49m\u001b[38;5;241;43m.\u001b[39;49m\u001b[43mexecution_ctx_cls\u001b[49m\u001b[38;5;241;43m.\u001b[39;49m\u001b[43m_init_ddl\u001b[49m\u001b[43m,\u001b[49m\n\u001b[1;32m   1532\u001b[0m \u001b[43m    \u001b[49m\u001b[43mcompiled\u001b[49m\u001b[43m,\u001b[49m\n\u001b[1;32m   1533\u001b[0m \u001b[43m    \u001b[49m\u001b[38;5;28;43;01mNone\u001b[39;49;00m\u001b[43m,\u001b[49m\n\u001b[1;32m   1534\u001b[0m \u001b[43m    \u001b[49m\u001b[43mexec_opts\u001b[49m\u001b[43m,\u001b[49m\n\u001b[1;32m   1535\u001b[0m \u001b[43m    \u001b[49m\u001b[43mcompiled\u001b[49m\u001b[43m,\u001b[49m\n\u001b[1;32m   1536\u001b[0m \u001b[43m\u001b[49m\u001b[43m)\u001b[49m\n\u001b[1;32m   1537\u001b[0m \u001b[38;5;28;01mif\u001b[39;00m \u001b[38;5;28mself\u001b[39m\u001b[38;5;241m.\u001b[39m_has_events \u001b[38;5;129;01mor\u001b[39;00m \u001b[38;5;28mself\u001b[39m\u001b[38;5;241m.\u001b[39mengine\u001b[38;5;241m.\u001b[39m_has_events:\n\u001b[1;32m   1538\u001b[0m     \u001b[38;5;28mself\u001b[39m\u001b[38;5;241m.\u001b[39mdispatch\u001b[38;5;241m.\u001b[39mafter_execute(\n\u001b[1;32m   1539\u001b[0m         \u001b[38;5;28mself\u001b[39m,\n\u001b[1;32m   1540\u001b[0m         ddl,\n\u001b[0;32m   (...)\u001b[0m\n\u001b[1;32m   1544\u001b[0m         ret,\n\u001b[1;32m   1545\u001b[0m     )\n",
      "File \u001b[0;32m~/miniconda3/envs/database-tutorial/lib/python3.12/site-packages/sqlalchemy/engine/base.py:1846\u001b[0m, in \u001b[0;36mConnection._execute_context\u001b[0;34m(self, dialect, constructor, statement, parameters, execution_options, *args, **kw)\u001b[0m\n\u001b[1;32m   1844\u001b[0m     \u001b[38;5;28;01mreturn\u001b[39;00m \u001b[38;5;28mself\u001b[39m\u001b[38;5;241m.\u001b[39m_exec_insertmany_context(dialect, context)\n\u001b[1;32m   1845\u001b[0m \u001b[38;5;28;01melse\u001b[39;00m:\n\u001b[0;32m-> 1846\u001b[0m     \u001b[38;5;28;01mreturn\u001b[39;00m \u001b[38;5;28;43mself\u001b[39;49m\u001b[38;5;241;43m.\u001b[39;49m\u001b[43m_exec_single_context\u001b[49m\u001b[43m(\u001b[49m\n\u001b[1;32m   1847\u001b[0m \u001b[43m        \u001b[49m\u001b[43mdialect\u001b[49m\u001b[43m,\u001b[49m\u001b[43m \u001b[49m\u001b[43mcontext\u001b[49m\u001b[43m,\u001b[49m\u001b[43m \u001b[49m\u001b[43mstatement\u001b[49m\u001b[43m,\u001b[49m\u001b[43m \u001b[49m\u001b[43mparameters\u001b[49m\n\u001b[1;32m   1848\u001b[0m \u001b[43m    \u001b[49m\u001b[43m)\u001b[49m\n",
      "File \u001b[0;32m~/miniconda3/envs/database-tutorial/lib/python3.12/site-packages/sqlalchemy/engine/base.py:1986\u001b[0m, in \u001b[0;36mConnection._exec_single_context\u001b[0;34m(self, dialect, context, statement, parameters)\u001b[0m\n\u001b[1;32m   1983\u001b[0m     result \u001b[38;5;241m=\u001b[39m context\u001b[38;5;241m.\u001b[39m_setup_result_proxy()\n\u001b[1;32m   1985\u001b[0m \u001b[38;5;28;01mexcept\u001b[39;00m \u001b[38;5;167;01mBaseException\u001b[39;00m \u001b[38;5;28;01mas\u001b[39;00m e:\n\u001b[0;32m-> 1986\u001b[0m     \u001b[38;5;28;43mself\u001b[39;49m\u001b[38;5;241;43m.\u001b[39;49m\u001b[43m_handle_dbapi_exception\u001b[49m\u001b[43m(\u001b[49m\n\u001b[1;32m   1987\u001b[0m \u001b[43m        \u001b[49m\u001b[43me\u001b[49m\u001b[43m,\u001b[49m\u001b[43m \u001b[49m\u001b[43mstr_statement\u001b[49m\u001b[43m,\u001b[49m\u001b[43m \u001b[49m\u001b[43meffective_parameters\u001b[49m\u001b[43m,\u001b[49m\u001b[43m \u001b[49m\u001b[43mcursor\u001b[49m\u001b[43m,\u001b[49m\u001b[43m \u001b[49m\u001b[43mcontext\u001b[49m\n\u001b[1;32m   1988\u001b[0m \u001b[43m    \u001b[49m\u001b[43m)\u001b[49m\n\u001b[1;32m   1990\u001b[0m \u001b[38;5;28;01mreturn\u001b[39;00m result\n",
      "File \u001b[0;32m~/miniconda3/envs/database-tutorial/lib/python3.12/site-packages/sqlalchemy/engine/base.py:2355\u001b[0m, in \u001b[0;36mConnection._handle_dbapi_exception\u001b[0;34m(self, e, statement, parameters, cursor, context, is_sub_exec)\u001b[0m\n\u001b[1;32m   2353\u001b[0m \u001b[38;5;28;01melif\u001b[39;00m should_wrap:\n\u001b[1;32m   2354\u001b[0m     \u001b[38;5;28;01massert\u001b[39;00m sqlalchemy_exception \u001b[38;5;129;01mis\u001b[39;00m \u001b[38;5;129;01mnot\u001b[39;00m \u001b[38;5;28;01mNone\u001b[39;00m\n\u001b[0;32m-> 2355\u001b[0m     \u001b[38;5;28;01mraise\u001b[39;00m sqlalchemy_exception\u001b[38;5;241m.\u001b[39mwith_traceback(exc_info[\u001b[38;5;241m2\u001b[39m]) \u001b[38;5;28;01mfrom\u001b[39;00m \u001b[38;5;21;01me\u001b[39;00m\n\u001b[1;32m   2356\u001b[0m \u001b[38;5;28;01melse\u001b[39;00m:\n\u001b[1;32m   2357\u001b[0m     \u001b[38;5;28;01massert\u001b[39;00m exc_info[\u001b[38;5;241m1\u001b[39m] \u001b[38;5;129;01mis\u001b[39;00m \u001b[38;5;129;01mnot\u001b[39;00m \u001b[38;5;28;01mNone\u001b[39;00m\n",
      "File \u001b[0;32m~/miniconda3/envs/database-tutorial/lib/python3.12/site-packages/sqlalchemy/engine/base.py:1967\u001b[0m, in \u001b[0;36mConnection._exec_single_context\u001b[0;34m(self, dialect, context, statement, parameters)\u001b[0m\n\u001b[1;32m   1965\u001b[0m                 \u001b[38;5;28;01mbreak\u001b[39;00m\n\u001b[1;32m   1966\u001b[0m     \u001b[38;5;28;01mif\u001b[39;00m \u001b[38;5;129;01mnot\u001b[39;00m evt_handled:\n\u001b[0;32m-> 1967\u001b[0m         \u001b[38;5;28;43mself\u001b[39;49m\u001b[38;5;241;43m.\u001b[39;49m\u001b[43mdialect\u001b[49m\u001b[38;5;241;43m.\u001b[39;49m\u001b[43mdo_execute\u001b[49m\u001b[43m(\u001b[49m\n\u001b[1;32m   1968\u001b[0m \u001b[43m            \u001b[49m\u001b[43mcursor\u001b[49m\u001b[43m,\u001b[49m\u001b[43m \u001b[49m\u001b[43mstr_statement\u001b[49m\u001b[43m,\u001b[49m\u001b[43m \u001b[49m\u001b[43meffective_parameters\u001b[49m\u001b[43m,\u001b[49m\u001b[43m \u001b[49m\u001b[43mcontext\u001b[49m\n\u001b[1;32m   1969\u001b[0m \u001b[43m        \u001b[49m\u001b[43m)\u001b[49m\n\u001b[1;32m   1971\u001b[0m \u001b[38;5;28;01mif\u001b[39;00m \u001b[38;5;28mself\u001b[39m\u001b[38;5;241m.\u001b[39m_has_events \u001b[38;5;129;01mor\u001b[39;00m \u001b[38;5;28mself\u001b[39m\u001b[38;5;241m.\u001b[39mengine\u001b[38;5;241m.\u001b[39m_has_events:\n\u001b[1;32m   1972\u001b[0m     \u001b[38;5;28mself\u001b[39m\u001b[38;5;241m.\u001b[39mdispatch\u001b[38;5;241m.\u001b[39mafter_cursor_execute(\n\u001b[1;32m   1973\u001b[0m         \u001b[38;5;28mself\u001b[39m,\n\u001b[1;32m   1974\u001b[0m         cursor,\n\u001b[0;32m   (...)\u001b[0m\n\u001b[1;32m   1978\u001b[0m         context\u001b[38;5;241m.\u001b[39mexecutemany,\n\u001b[1;32m   1979\u001b[0m     )\n",
      "File \u001b[0;32m~/miniconda3/envs/database-tutorial/lib/python3.12/site-packages/sqlalchemy/engine/default.py:941\u001b[0m, in \u001b[0;36mDefaultDialect.do_execute\u001b[0;34m(self, cursor, statement, parameters, context)\u001b[0m\n\u001b[1;32m    940\u001b[0m \u001b[38;5;28;01mdef\u001b[39;00m \u001b[38;5;21mdo_execute\u001b[39m(\u001b[38;5;28mself\u001b[39m, cursor, statement, parameters, context\u001b[38;5;241m=\u001b[39m\u001b[38;5;28;01mNone\u001b[39;00m):\n\u001b[0;32m--> 941\u001b[0m     \u001b[43mcursor\u001b[49m\u001b[38;5;241;43m.\u001b[39;49m\u001b[43mexecute\u001b[49m\u001b[43m(\u001b[49m\u001b[43mstatement\u001b[49m\u001b[43m,\u001b[49m\u001b[43m \u001b[49m\u001b[43mparameters\u001b[49m\u001b[43m)\u001b[49m\n",
      "\u001b[0;31mOperationalError\u001b[0m: (sqlite3.OperationalError) index ix_keyword_keyword already exists\n[SQL: CREATE UNIQUE INDEX ix_keyword_keyword ON keyword (keyword)]\n(Background on this error at: https://sqlalche.me/e/20/e3q8)"
     ]
    }
   ],
   "source": [
    "SQLModel.metadata.create_all(engine)"
   ]
  },
  {
   "cell_type": "code",
   "execution_count": null,
   "metadata": {},
   "outputs": [],
   "source": [
    "import requests\n",
    "\n",
    "import datetime\n",
    "\n",
    "# most recent theoretical chemistry paper on ChemRXiv\n",
    "paper = requests.get(\"https://chemrxiv.org/engage/chemrxiv/public-api/v1/items?categoryIds=605c72ef153207001f6470ce&limit=1\")\n",
    "print(paper.json()[\"itemHits\"])"
   ]
  },
  {
   "cell_type": "code",
   "execution_count": null,
   "metadata": {},
   "outputs": [],
   "source": [
    "import json\n",
    "\n",
    "with open(\"data/one_paper.json\", \"w\") as json_file:\n",
    "    json.dump(paper.json(), json_file, indent=4) "
   ]
  },
  {
   "cell_type": "code",
   "execution_count": null,
   "metadata": {},
   "outputs": [],
   "source": [
    "recent_paper ={\n",
    "    \"doi\": paper.json()[\"itemHits\"][0][\"item\"][\"doi\"],\n",
    "    \"title\": paper.json()[\"itemHits\"][0][\"item\"][\"title\"],\n",
    "    # get the current year - making some assumptions here :)\n",
    "    \"publication_year\": datetime.datetime.now().year,\n",
    "    \"abstract\": paper.json()[\"itemHits\"][0][\"item\"][\"abstract\"],\n",
    "    \"keywords\": paper.json()[\"itemHits\"][0][\"item\"][\"keywords\"],\n",
    "    \"authors\": paper.json()[\"itemHits\"][0][\"item\"][\"authors\"]\n",
    "}\n",
    "\n",
    "print(recent_paper)"
   ]
  },
  {
   "cell_type": "code",
   "execution_count": null,
   "metadata": {},
   "outputs": [],
   "source": [
    "keyword_objs = []\n",
    "for keyword in recent_paper[\"keywords\"]:\n",
    "    keyword_obj = Keyword(keyword=keyword.lower())\n",
    "    keyword_objs.append(keyword_obj)\n",
    "\n",
    "author_objs = []\n",
    "for author in recent_paper[\"authors\"]:\n",
    "    author_obj = Author(first_name=author[\"firstName\"], last_name=author[\"lastName\"], affiliation=author[\"institutions\"][0][\"name\"])\n",
    "    author_objs.append(author_obj)\n",
    "\n",
    "recent_paper[\"keywords\"] = keyword_objs\n",
    "recent_paper[\"authors\"] = author_objs"
   ]
  },
  {
   "cell_type": "code",
   "execution_count": null,
   "metadata": {},
   "outputs": [],
   "source": [
    "recent_paper[\"keywords\"]"
   ]
  },
  {
   "cell_type": "code",
   "execution_count": null,
   "metadata": {},
   "outputs": [],
   "source": [
    "with Session(engine) as session:\n",
    "    # Add the article\n",
    "    article = Article(**recent_paper)\n",
    "    session.add(article)\n",
    "    session.commit()"
   ]
  },
  {
   "cell_type": "code",
   "execution_count": null,
   "metadata": {},
   "outputs": [],
   "source": [
    "# Show how to query here.\n",
    "\n"
   ]
  },
  {
   "cell_type": "markdown",
   "metadata": {},
   "source": [
    "Let's pull 50 more papers from ChemArxiv and add them to our database."
   ]
  },
  {
   "cell_type": "code",
   "execution_count": null,
   "metadata": {},
   "outputs": [],
   "source": [
    "import requests\n",
    "import datetime\n",
    "from sqlmodel import select, Session\n",
    "\n",
    "# Get the most recent theoretical chemistry papers on ChemRxiv\n",
    "papers = requests.get(\"https://chemrxiv.org/engage/chemrxiv/public-api/v1/items?categoryIds=605c72ef153207001f6470ce&limit=50&skip=1\")\n",
    "\n",
    "import json\n",
    "\n",
    "with open(\"data/fifty_papers.json\", \"w\") as json_file:\n",
    "    json.dump(papers.json(), json_file, indent=4) \n",
    "\n",
    "for paper in papers.json()[\"itemHits\"]:\n",
    "    recent_paper = {\n",
    "        \"doi\": paper[\"item\"][\"doi\"],\n",
    "        \"title\": paper[\"item\"][\"title\"],\n",
    "        \"publication_year\": datetime.datetime.now().year,\n",
    "        \"abstract\": paper[\"item\"][\"abstract\"],\n",
    "        \"keywords\": paper[\"item\"][\"keywords\"],\n",
    "        \"authors\": paper[\"item\"][\"authors\"]\n",
    "    }\n",
    "\n",
    "    keyword_objs = []\n",
    "    with Session(engine) as session:\n",
    "        for keyword in recent_paper[\"keywords\"]:\n",
    "            # Check if keyword already exists\n",
    "            normalized_keyword = keyword.lower()\n",
    "            existing_keyword = session.exec(select(Keyword).where(Keyword.keyword == normalized_keyword)).first()\n",
    "            if existing_keyword:\n",
    "                keyword_objs.append(existing_keyword)\n",
    "            else:\n",
    "                keyword_obj = Keyword(keyword=normalized_keyword)\n",
    "                session.add(keyword_obj)\n",
    "                session.commit()  # Commit to get the keyword ID\n",
    "                session.refresh(keyword_obj)  # Refresh to load the keyword ID\n",
    "                keyword_objs.append(keyword_obj)\n",
    "\n",
    "    author_objs = []\n",
    "    with Session(engine) as session:\n",
    "        for author in recent_paper[\"authors\"]:\n",
    "            affiliation = author[\"institutions\"][0][\"name\"] if author[\"institutions\"] else None\n",
    "\n",
    "            # Check if author already exists\n",
    "            existing_author = session.exec(\n",
    "                select(Author).where(\n",
    "                    Author.first_name == author[\"firstName\"],\n",
    "                    Author.last_name == author[\"lastName\"],\n",
    "                    Author.affiliation == affiliation\n",
    "                )\n",
    "            ).first()\n",
    "            \n",
    "            if existing_author:\n",
    "                author_objs.append(existing_author)\n",
    "            else:\n",
    "                author_obj = Author(\n",
    "                    first_name=author[\"firstName\"],\n",
    "                    last_name=author[\"lastName\"],\n",
    "                    affiliation=affiliation\n",
    "                )\n",
    "                session.add(author_obj)\n",
    "                session.commit()  # Commit to get the author ID\n",
    "                session.refresh(author_obj)  # Refresh to load the author ID\n",
    "                author_objs.append(author_obj)\n",
    "\n",
    "    recent_paper[\"keywords\"] = keyword_objs\n",
    "    recent_paper[\"authors\"] = author_objs\n",
    "\n",
    "    try:\n",
    "        with Session(engine) as session:\n",
    "            # Add the article\n",
    "            article = Article(**recent_paper)\n",
    "            session.add(article)\n",
    "            session.commit()\n",
    "    except Exception as e:\n",
    "        print(f\"Adding article {recent_paper['doi']} failed with error: {e}\")\n"
   ]
  },
  {
   "cell_type": "code",
   "execution_count": null,
   "metadata": {},
   "outputs": [],
   "source": [
    "keyword_to_search = \"machine learning\"\n",
    "\n",
    "with Session(engine) as session:\n",
    "    # Get the specific Keyword object by keyword\n",
    "    keyword = session.exec(select(Keyword).where(Keyword.keyword == keyword_to_search)).first()\n",
    "    \n",
    "    if keyword:\n",
    "        print(f\"Found keyword: {keyword.keyword}\")\n",
    "        # Access related articles directly\n",
    "        for article in keyword.articles:\n",
    "            print(f\"DOI: {article.doi}, Title: {article.title}, Year: {article.publication_year}\")\n",
    "    else:\n",
    "        print(f\"No articles found for keyword: {keyword_to_search}\")\n"
   ]
  },
  {
   "cell_type": "code",
   "execution_count": null,
   "metadata": {},
   "outputs": [],
   "source": [
    "keyword.articles"
   ]
  },
  {
   "cell_type": "code",
   "execution_count": null,
   "metadata": {},
   "outputs": [],
   "source": []
  }
 ],
 "metadata": {
  "kernelspec": {
   "display_name": "Python 3 (ipykernel)",
   "language": "python",
   "name": "python3"
  },
  "language_info": {
   "codemirror_mode": {
    "name": "ipython",
    "version": 3
   },
   "file_extension": ".py",
   "mimetype": "text/x-python",
   "name": "python",
   "nbconvert_exporter": "python",
   "pygments_lexer": "ipython3",
   "version": "3.12.5"
  }
 },
 "nbformat": 4,
 "nbformat_minor": 4
}
