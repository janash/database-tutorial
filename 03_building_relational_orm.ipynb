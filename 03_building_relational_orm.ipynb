{
 "cells": [
  {
   "cell_type": "markdown",
   "metadata": {},
   "source": [
    "<div style=\"text-align:center;\">\n",
    "  <img src=\"images/molssi_main_horizontal.png\" style=\"display: block; margin: 0 auto; max-height:200px;\">\n",
    "</div>\n",
    "\n",
    "# Building a Database with SQLModel\n",
    "\n",
    "<strong>Author(s):</strong> Jessica A. Nash, The Molecular Sciences Software Institute\n",
    "\n",
    "<div class=\"alert alert-block alert-info\"> \n",
    "<h2>Overview</h2>\n",
    "\n",
    "<strong>Questions:</strong>\n",
    "\n",
    "\n",
    "<strong>Objectives:</strong>\n",
    "\n",
    "</div>\n",
    "\n"
   ]
  },
  {
   "cell_type": "code",
   "execution_count": null,
   "metadata": {},
   "outputs": [],
   "source": [
    "import os\n",
    "\n",
    "from typing import Optional, List\n",
    "\n",
    "from sqlmodel import Field, SQLModel, Session, Relationship, create_engine\n",
    "\n",
    "# remove the database file if it exists\n",
    "if os.path.exists(\"sqlmodel_database.db\"):\n",
    "    os.remove(\"sqlmodel_database.db\")\n",
    "\n",
    "\n",
    "# Define associative tables first - we will use these in relationships for our main tables\n",
    "# It's easier to define these first because we can use them in the main tables' definitions,\n",
    "# otherwise, Python would have a problem and we would need to use something like ForwardRef (probably, I actually didn't get that to work :) )\n",
    "class ArticleKeyword(SQLModel, table=True):\n",
    "    __table_args__ = {\"extend_existing\": True} # This lets us run the Jupyter notebook cell multiple times without error\n",
    "    \n",
    "    article_doi: str = Field(foreign_key=\"article.doi\", primary_key=True)\n",
    "    keyword_id: str = Field(foreign_key=\"keyword.id\", primary_key=True)\n",
    "\n",
    "class ArticleAuthor(SQLModel, table=True):\n",
    "    __table_args__ = {\"extend_existing\": True}\n",
    "\n",
    "    article_doi: str = Field(foreign_key=\"article.doi\", primary_key=True)\n",
    "    author_id: str = Field(foreign_key=\"author.id\", primary_key=True)\n",
    "\n",
    "class Article(SQLModel, table=True):\n",
    "    __table_args__ = {\"extend_existing\": True}\n",
    "\n",
    "    doi: str = Field(primary_key=True)\n",
    "    title: str\n",
    "    publication_year: int\n",
    "    abstract: Optional[str] = Field(default=None)\n",
    "\n",
    "    keywords: list[\"Keyword\"] = Relationship(back_populates=\"articles\", link_model=ArticleKeyword)\n",
    "    authors: list[\"Author\"] = Relationship(back_populates=\"articles\", link_model=ArticleAuthor)\n",
    "\n",
    "class Author(SQLModel, table=True):\n",
    "    __table_args__ = {\"extend_existing\": True}\n",
    "\n",
    "    id: None | int = Field(primary_key=True)\n",
    "    first_name: str\n",
    "    last_name: str\n",
    "    affiliation: Optional[str] = Field(default=None)\n",
    "\n",
    "    articles: List[\"Article\"] = Relationship(back_populates=\"authors\", link_model=ArticleAuthor)\n",
    "\n",
    "\n",
    "class Keyword(SQLModel, table=True):\n",
    "    __table_args__ = {\"extend_existing\": True}\n",
    "\n",
    "    id: None | int = Field(primary_key=True)\n",
    "    keyword: str = Field(unique=True, index=True)\n",
    "\n",
    "    articles: List[\"Article\"] = Relationship(back_populates=\"keywords\", link_model=ArticleKeyword)\n",
    "\n"
   ]
  },
  {
   "cell_type": "code",
   "execution_count": null,
   "metadata": {},
   "outputs": [],
   "source": [
    "sqlite_file_name = \"sqlmodel_database.db\"\n",
    "sqlite_url = f\"sqlite:///{sqlite_file_name}\"\n",
    "\n",
    "engine = create_engine(sqlite_url)"
   ]
  },
  {
   "cell_type": "code",
   "execution_count": null,
   "metadata": {},
   "outputs": [],
   "source": [
    "SQLModel.metadata.create_all(engine)"
   ]
  },
  {
   "cell_type": "code",
   "execution_count": null,
   "metadata": {},
   "outputs": [],
   "source": [
    "import requests\n",
    "\n",
    "import datetime\n",
    "\n",
    "# most recent theoretical chemistry paper on ChemRXiv\n",
    "paper = requests.get(\"https://chemrxiv.org/engage/chemrxiv/public-api/v1/items?categoryIds=605c72ef153207001f6470ce&limit=1\")\n",
    "print(paper.json()[\"itemHits\"])"
   ]
  },
  {
   "cell_type": "code",
   "execution_count": null,
   "metadata": {},
   "outputs": [],
   "source": [
    "recent_paper ={\n",
    "    \"doi\": paper.json()[\"itemHits\"][0][\"item\"][\"doi\"],\n",
    "    \"title\": paper.json()[\"itemHits\"][0][\"item\"][\"title\"],\n",
    "    # get the current year - making some assumptions here :)\n",
    "    \"publication_year\": datetime.datetime.now().year,\n",
    "    \"abstract\": paper.json()[\"itemHits\"][0][\"item\"][\"abstract\"],\n",
    "    \"keywords\": paper.json()[\"itemHits\"][0][\"item\"][\"keywords\"],\n",
    "    \"authors\": paper.json()[\"itemHits\"][0][\"item\"][\"authors\"]\n",
    "}\n",
    "\n",
    "print(recent_paper)"
   ]
  },
  {
   "cell_type": "code",
   "execution_count": null,
   "metadata": {},
   "outputs": [],
   "source": [
    "keyword_objs = []\n",
    "for keyword in recent_paper[\"keywords\"]:\n",
    "    keyword_obj = Keyword(keyword=keyword.lower())\n",
    "    keyword_objs.append(keyword_obj)\n",
    "\n",
    "author_objs = []\n",
    "for author in recent_paper[\"authors\"]:\n",
    "    author_obj = Author(first_name=author[\"firstName\"], last_name=author[\"lastName\"], affiliation=author[\"institutions\"][0][\"name\"])\n",
    "    author_objs.append(author_obj)\n",
    "\n",
    "recent_paper[\"keywords\"] = keyword_objs\n",
    "recent_paper[\"authors\"] = author_objs"
   ]
  },
  {
   "cell_type": "code",
   "execution_count": null,
   "metadata": {},
   "outputs": [],
   "source": [
    "recent_paper[\"keywords\"]"
   ]
  },
  {
   "cell_type": "code",
   "execution_count": null,
   "metadata": {},
   "outputs": [],
   "source": [
    "with Session(engine) as session:\n",
    "    # Add the article\n",
    "    article = Article(**recent_paper)\n",
    "    session.add(article)\n",
    "    session.commit()"
   ]
  },
  {
   "cell_type": "code",
   "execution_count": null,
   "metadata": {},
   "outputs": [],
   "source": [
    "# Show how to query here."
   ]
  },
  {
   "cell_type": "markdown",
   "metadata": {},
   "source": [
    "Let's pull 50 more papers from ChemArxiv and add them to our database."
   ]
  },
  {
   "cell_type": "code",
   "execution_count": null,
   "metadata": {},
   "outputs": [],
   "source": [
    "import requests\n",
    "import datetime\n",
    "from sqlmodel import select, Session\n",
    "\n",
    "# Get the most recent theoretical chemistry papers on ChemRxiv\n",
    "papers = requests.get(\"https://chemrxiv.org/engage/chemrxiv/public-api/v1/items?categoryIds=605c72ef153207001f6470ce&limit=50&skip=1\")\n",
    "\n",
    "for paper in papers.json()[\"itemHits\"]:\n",
    "    recent_paper = {\n",
    "        \"doi\": paper[\"item\"][\"doi\"],\n",
    "        \"title\": paper[\"item\"][\"title\"],\n",
    "        \"publication_year\": datetime.datetime.now().year,\n",
    "        \"abstract\": paper[\"item\"][\"abstract\"],\n",
    "        \"keywords\": paper[\"item\"][\"keywords\"],\n",
    "        \"authors\": paper[\"item\"][\"authors\"]\n",
    "    }\n",
    "\n",
    "    keyword_objs = []\n",
    "    with Session(engine) as session:\n",
    "        for keyword in recent_paper[\"keywords\"]:\n",
    "            # Check if keyword already exists\n",
    "            normalized_keyword = keyword.lower()\n",
    "            existing_keyword = session.exec(select(Keyword).where(Keyword.keyword == normalized_keyword)).first()\n",
    "            if existing_keyword:\n",
    "                keyword_objs.append(existing_keyword)\n",
    "            else:\n",
    "                keyword_obj = Keyword(keyword=normalized_keyword)\n",
    "                session.add(keyword_obj)\n",
    "                session.commit()  # Commit to get the keyword ID\n",
    "                session.refresh(keyword_obj)  # Refresh to load the keyword ID\n",
    "                keyword_objs.append(keyword_obj)\n",
    "\n",
    "    author_objs = []\n",
    "    with Session(engine) as session:\n",
    "        for author in recent_paper[\"authors\"]:\n",
    "            affiliation = author[\"institutions\"][0][\"name\"] if author[\"institutions\"] else None\n",
    "\n",
    "            # Check if author already exists\n",
    "            existing_author = session.exec(\n",
    "                select(Author).where(\n",
    "                    Author.first_name == author[\"firstName\"],\n",
    "                    Author.last_name == author[\"lastName\"],\n",
    "                    Author.affiliation == affiliation\n",
    "                )\n",
    "            ).first()\n",
    "            \n",
    "            if existing_author:\n",
    "                author_objs.append(existing_author)\n",
    "            else:\n",
    "                author_obj = Author(\n",
    "                    first_name=author[\"firstName\"],\n",
    "                    last_name=author[\"lastName\"],\n",
    "                    affiliation=affiliation\n",
    "                )\n",
    "                session.add(author_obj)\n",
    "                session.commit()  # Commit to get the author ID\n",
    "                session.refresh(author_obj)  # Refresh to load the author ID\n",
    "                author_objs.append(author_obj)\n",
    "\n",
    "    recent_paper[\"keywords\"] = keyword_objs\n",
    "    recent_paper[\"authors\"] = author_objs\n",
    "\n",
    "    try:\n",
    "        with Session(engine) as session:\n",
    "            # Add the article\n",
    "            article = Article(**recent_paper)\n",
    "            session.add(article)\n",
    "            session.commit()\n",
    "    except Exception as e:\n",
    "        print(f\"Adding article {recent_paper['doi']} failed with error: {e}\")\n"
   ]
  },
  {
   "cell_type": "code",
   "execution_count": null,
   "metadata": {},
   "outputs": [],
   "source": [
    "keyword_to_search = \"machine learning\"\n",
    "\n",
    "with Session(engine) as session:\n",
    "    # Get the specific Keyword object by keyword\n",
    "    keyword = session.exec(select(Keyword).where(Keyword.keyword == keyword_to_search)).first()\n",
    "    \n",
    "    if keyword:\n",
    "        print(f\"Found keyword: {keyword.keyword}\")\n",
    "        # Access related articles directly\n",
    "        for article in keyword.articles:\n",
    "            print(f\"DOI: {article.doi}, Title: {article.title}, Year: {article.publication_year}\")\n",
    "    else:\n",
    "        print(f\"No articles found for keyword: {keyword_to_search}\")\n"
   ]
  },
  {
   "cell_type": "code",
   "execution_count": null,
   "metadata": {},
   "outputs": [],
   "source": []
  }
 ],
 "metadata": {
  "kernelspec": {
   "display_name": "database-tutorial",
   "language": "python",
   "name": "python3"
  },
  "language_info": {
   "codemirror_mode": {
    "name": "ipython",
    "version": 3
   },
   "file_extension": ".py",
   "mimetype": "text/x-python",
   "name": "python",
   "nbconvert_exporter": "python",
   "pygments_lexer": "ipython3",
   "version": "3.12.5"
  }
 },
 "nbformat": 4,
 "nbformat_minor": 2
}
