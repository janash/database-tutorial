{
 "cells": [
  {
   "cell_type": "markdown",
   "metadata": {},
   "source": [
    "<div style=\"text-align:center;\">\n",
    "  <img src=\"images/molssi_main_horizontal.png\" style=\"display: block; margin: 0 auto; max-height:200px;\">\n",
    "</div>\n",
    "\n",
    "# Building a Database with SQLModel\n",
    "\n",
    "<strong>Author(s):</strong> Jessica A. Nash, The Molecular Sciences Software Institute\n",
    "\n",
    "<div class=\"alert alert-block alert-info\"> \n",
    "<h2>Overview</h2>\n",
    "\n",
    "<strong>Questions:</strong>\n",
    "\n",
    "\n",
    "<strong>Objectives:</strong>\n",
    "\n",
    "</div>\n",
    "\n"
   ]
  },
  {
   "cell_type": "code",
   "execution_count": 1,
   "metadata": {},
   "outputs": [],
   "source": [
    "import os\n",
    "\n",
    "from typing import Optional, List\n",
    "\n",
    "from sqlmodel import Field, SQLModel, Session, Relationship, create_engine\n",
    "\n",
    "# remove the database file if it exists\n",
    "if os.path.exists(\"sqlmodel_database.db\"):\n",
    "    os.remove(\"sqlmodel_database.db\")\n",
    "\n",
    "\n",
    "# Define associative tables first - we will use these in relationships for our main tables\n",
    "# It's easier to define these first because we can use them in the main tables' definitions,\n",
    "# otherwise, Python would have a problem and we would need to use something like ForwardRef (probably, I actually didn't get that to work :) )\n",
    "class ArticleKeyword(SQLModel, table=True):\n",
    "    __table_args__ = {\"extend_existing\": True} # This lets us run the Jupyter notebook cell multiple times without error\n",
    "    \n",
    "    article_doi: str = Field(foreign_key=\"article.doi\", primary_key=True)\n",
    "    keyword_id: str = Field(foreign_key=\"keyword.id\", primary_key=True)\n",
    "\n",
    "class ArticleAuthor(SQLModel, table=True):\n",
    "    __table_args__ = {\"extend_existing\": True}\n",
    "\n",
    "    article_doi: str = Field(foreign_key=\"article.doi\", primary_key=True)\n",
    "    author_id: str = Field(foreign_key=\"author.id\", primary_key=True)\n",
    "\n",
    "class Article(SQLModel, table=True):\n",
    "    __table_args__ = {\"extend_existing\": True}\n",
    "\n",
    "    doi: str = Field(primary_key=True)\n",
    "    title: str\n",
    "    publication_year: int\n",
    "    abstract: Optional[str] = Field(default=None)\n",
    "\n",
    "    keywords: list[\"Keyword\"] = Relationship(back_populates=\"articles\", link_model=ArticleKeyword)\n",
    "    authors: list[\"Author\"] = Relationship(back_populates=\"articles\", link_model=ArticleAuthor)\n",
    "\n",
    "class Author(SQLModel, table=True):\n",
    "    __table_args__ = {\"extend_existing\": True}\n",
    "\n",
    "    id: None | int = Field(primary_key=True)\n",
    "    first_name: str\n",
    "    last_name: str\n",
    "    affiliation: Optional[str] = Field(default=None)\n",
    "\n",
    "    articles: List[\"Article\"] = Relationship(back_populates=\"authors\", link_model=ArticleAuthor)\n",
    "\n",
    "\n",
    "class Keyword(SQLModel, table=True):\n",
    "    __table_args__ = {\"extend_existing\": True}\n",
    "\n",
    "    id: None | int = Field(primary_key=True)\n",
    "    keyword: str = Field(unique=True, index=True)\n",
    "\n",
    "    articles: List[\"Article\"] = Relationship(back_populates=\"keywords\", link_model=ArticleKeyword)\n",
    "\n"
   ]
  },
  {
   "cell_type": "code",
   "execution_count": 2,
   "metadata": {},
   "outputs": [],
   "source": [
    "sqlite_file_name = \"sqlmodel_database.db\"\n",
    "sqlite_url = f\"sqlite:///{sqlite_file_name}\"\n",
    "\n",
    "engine = create_engine(sqlite_url)"
   ]
  },
  {
   "cell_type": "code",
   "execution_count": 3,
   "metadata": {},
   "outputs": [],
   "source": [
    "SQLModel.metadata.create_all(engine)"
   ]
  },
  {
   "cell_type": "code",
   "execution_count": 4,
   "metadata": {},
   "outputs": [
    {
     "name": "stdout",
     "output_type": "stream",
     "text": [
      "[{'item': {'id': '66cba705a4e53c48769eb2a8', 'doi': '10.26434/chemrxiv-2024-hjzcr', 'vor': None, 'title': 'Modeling the ionization efficiency of small molecules in positive electrospray ionization using molecular dynamics simulations', 'abstract': '    Technological advancements in liquid chromatography (LC) electrospray ionization (ESI) high resolution mass spectrometry (HRMS) have made it an increasingly popular analytical technique in non-targeted analysis (NTA) of environmental and biological samples. One critical limitation of current methods in NTA is the lack of available analytical standards for many of the compounds detected in biological and environmental samples. Computational approaches can provide estimates of concentrations by modeling the ionization efficiency of a compound expressed as the relative response factor (RRF). In this paper, we explore the application of molecular dynamics (MD) in the development of a predictive model for RRF.  We obtained measurements of RRF for 48 compounds with LC - quadrupole time-of-flight (QTOF) MS and calculated their RRF by dividing the observed peak areas by their concentrations. We used the CGenFF force field to generate the topologies and GROMACS to conduct the (MD) simulations (t = 1 ns). We calculated the Lennard-Jones and Coulomb interactions between the analytes and all other molecules in the ESI droplet, which were then used to construct a multilinear regression model for predicting RRF.  The best performing model showed a coefficient of determination (R2) of 0.82 and a mean absolute error (MAE) of 0.13 log units. This performance is comparable to other predictive models including machine learning models. While there is a need for further evaluation of diverse chemical structures, our approach showed great promise in predictions of RRF. ', 'contentType': {'id': '5ce663395846762193c9c430', 'name': 'Working Paper'}, 'categories': [{'id': '605c72ef153207001f6470ce', 'name': 'Theoretical and Computational Chemistry', 'description': 'Research on Theoretical and Computational Chemistry'}, {'id': '605c72ef153207001f6470d5', 'name': 'Analytical Chemistry', 'description': 'Research on Analytical Chemistry'}, {'id': '605c72ef153207001f6470da', 'name': 'Earth, Space, and Environmental Chemistry', 'description': 'Research on Earth, Space, and Environmental Chemistry'}, {'id': '60adf37803f321001cb104fa', 'name': 'Analytical Chemistry - General', 'description': 'Research on Analytical Chemistry - General'}, {'id': '60adf37803f321001cb10501', 'name': 'Mass Spectrometry', 'description': 'Research on Mass Spectrometry'}, {'id': '60adf37803f321001cb10530', 'name': 'Computational Chemistry and Modeling', 'description': 'Research on Computational Chemistry and Modeling'}], 'subject': {'id': '5e68cb1bd1f19d49ce3ac739', 'name': 'Chemistry', 'description': 'Discover early research outputs such as working papers, posters and presentations in Chemistry.'}, 'event': None, 'status': 'PUBLISHED', 'statusDate': '2024-08-26T12:39:13.255Z', 'funders': [{'funderId': '10.13039/100000002', 'name': 'National Institutes of Health', 'grantNumber': 'R00ES032892', 'url': None, 'title': None}, {'funderId': '10.13039/100000002', 'name': 'National Institutes of Health', 'grantNumber': 'K99ES032892', 'url': None, 'title': None}], 'authors': [{'orcid': '0000-0002-3402-7565', 'title': 'Dr', 'firstName': 'Dimitri', 'lastName': 'Abrahamsson', 'institutions': [{'name': 'New York University', 'country': 'United States', 'rorId': 'https://ror.org/0190ak572'}]}, {'orcid': None, 'title': 'Ms', 'firstName': 'Lelouda-Athanasia', 'lastName': 'Koronaiou', 'institutions': [{'name': 'Aristotle University of Thessaloniki', 'country': 'Greece', 'rorId': 'https://ror.org/02j61yw88'}]}, {'orcid': '0000-0001-7957-5859', 'title': 'Dr', 'firstName': 'Trevor', 'lastName': 'Johnson', 'institutions': [{'name': 'New York University', 'country': 'United States', 'rorId': 'https://ror.org/0190ak572'}]}, {'orcid': None, 'title': 'Dr', 'firstName': 'Dimitra', 'lastName': 'Lambropoulou', 'institutions': [{'name': 'Aristotle University of Thessaloniki', 'country': 'Greece', 'rorId': 'https://ror.org/02j61yw88'}]}], 'metrics': [{'description': 'Abstract Views', 'value': 0}, {'description': 'Citations', 'value': 0}, {'description': 'Content Downloads', 'value': 0}], 'version': '1', 'versionRefs': [{'version': '1', 'itemId': '66cba705a4e53c48769eb2a8', 'legacyId': None}], 'submittedDate': '2024-08-25T22:03:47.695Z', 'publishedDate': '2024-08-26T12:39:13.255Z', 'approvedDate': '2024-08-26T12:38:56.406Z', 'keywords': ['electrospray ionization', 'predictive modeling', 'relative response factor', 'molecular dynamics simulations'], 'hasCompetingInterests': False, 'competingInterestsDeclaration': None, 'gainedEthicsApproval': 'NOT_RELEVANT', 'suppItems': [{'id': '66cba956a4e53c48769ec3fc', 'title': 'Supporting Information', 'description': 'Supporting information includes supplemental text, figures and tables', 'asset': {'id': '66cba9814a5bfc29348823a1', 'mimeType': 'application/pdf', 'fileName': 'Supporting Information v3.pdf', 'fileSizeBytes': 2589214, 'smallThumbnail': {'url': 'https://chemrxiv.org/engage/api-gateway/chemrxiv/assets/orp/resource/item/66cba956a4e53c48769ec3fc/smallThumb/supporting-information.jpg'}, 'mediumThumbnail': {'url': 'https://chemrxiv.org/engage/api-gateway/chemrxiv/assets/orp/resource/item/66cba956a4e53c48769ec3fc/mediumThumb/supporting-information.jpg'}, 'largeThumbnail': {'url': 'https://chemrxiv.org/engage/api-gateway/chemrxiv/assets/orp/resource/item/66cba956a4e53c48769ec3fc/largeThumb/supporting-information.jpg'}, 'original': {'url': 'https://chemrxiv.org/engage/api-gateway/chemrxiv/assets/orp/resource/item/66cba956a4e53c48769ec3fc/original/supporting-information.pdf'}}}, {'id': '66cba9acf3f4b052901b17f3', 'title': 'Supplemental Spreadsheet', 'description': 'Underlying data for the calculations made in the paper', 'asset': {'id': '66cba9b44a5bfc2934882fbc', 'mimeType': 'application/vnd.openxmlformats-officedocument.spreadsheetml.sheet', 'fileName': 'Supplemental Spreadsheet v3.xlsx', 'fileSizeBytes': 257326, 'smallThumbnail': {'url': None}, 'mediumThumbnail': {'url': None}, 'largeThumbnail': {'url': None}, 'original': {'url': 'https://chemrxiv.org/engage/api-gateway/chemrxiv/assets/orp/resource/item/66cba9acf3f4b052901b17f3/original/supplemental-spreadsheet.xlsx'}}}], 'asset': {'id': '66cba8bd4a5bfc293487f6db', 'mimeType': 'application/pdf', 'fileName': 'Manuscript v5 - clean version.pdf', 'fileSizeBytes': 2226911, 'smallThumbnail': {'url': 'https://chemrxiv.org/engage/api-gateway/chemrxiv/assets/orp/resource/item/66cba705a4e53c48769eb2a8/smallThumb/modeling-the-ionization-efficiency-of-small-molecules-in-positive-electrospray-ionization-using-molecular-dynamics-simulations.jpg'}, 'mediumThumbnail': {'url': 'https://chemrxiv.org/engage/api-gateway/chemrxiv/assets/orp/resource/item/66cba705a4e53c48769eb2a8/mediumThumb/modeling-the-ionization-efficiency-of-small-molecules-in-positive-electrospray-ionization-using-molecular-dynamics-simulations.jpg'}, 'largeThumbnail': {'url': 'https://chemrxiv.org/engage/api-gateway/chemrxiv/assets/orp/resource/item/66cba705a4e53c48769eb2a8/largeThumb/modeling-the-ionization-efficiency-of-small-molecules-in-positive-electrospray-ionization-using-molecular-dynamics-simulations.jpg'}, 'original': {'url': 'https://chemrxiv.org/engage/api-gateway/chemrxiv/assets/orp/resource/item/66cba705a4e53c48769eb2a8/original/modeling-the-ionization-efficiency-of-small-molecules-in-positive-electrospray-ionization-using-molecular-dynamics-simulations.pdf'}}, 'license': {'id': '5cc9d9bf7d4e0000ac04ef25', 'name': 'CC BY NC ND 4.0', 'description': 'This license will allow Site users to copy and redistribute the Content in any medium or format. However, the Content may not be used for commercial purposes and if the user remixes, transforms or builds upon the Content they may not redistribute the modified material. There is a requirement to attribute the Author upon reuse of the Content.', 'url': 'https://creativecommons.org/licenses/by-nc-nd/4.0/'}, 'webLinks': [{'title': 'GitHub repository', 'description': 'Underlying code and datasets used in the paper', 'url': 'https://github.com/dimitriabrahamsson/electro-spray'}], 'origin': 'CHEMRXIV', 'termsAcceptance': True, 'versionNote': '', 'latestComments': [], 'commentsCount': 0, 'isLatestVersion': True, 'legacyId': None}}]\n"
     ]
    }
   ],
   "source": [
    "import requests\n",
    "\n",
    "import datetime\n",
    "\n",
    "# most recent theoretical chemistry paper on ChemRXiv\n",
    "paper = requests.get(\"https://chemrxiv.org/engage/chemrxiv/public-api/v1/items?categoryIds=605c72ef153207001f6470ce&limit=1\")\n",
    "print(paper.json()[\"itemHits\"])"
   ]
  },
  {
   "cell_type": "code",
   "execution_count": 5,
   "metadata": {},
   "outputs": [
    {
     "name": "stdout",
     "output_type": "stream",
     "text": [
      "{'doi': '10.26434/chemrxiv-2024-hjzcr', 'title': 'Modeling the ionization efficiency of small molecules in positive electrospray ionization using molecular dynamics simulations', 'publication_year': 2024, 'abstract': '    Technological advancements in liquid chromatography (LC) electrospray ionization (ESI) high resolution mass spectrometry (HRMS) have made it an increasingly popular analytical technique in non-targeted analysis (NTA) of environmental and biological samples. One critical limitation of current methods in NTA is the lack of available analytical standards for many of the compounds detected in biological and environmental samples. Computational approaches can provide estimates of concentrations by modeling the ionization efficiency of a compound expressed as the relative response factor (RRF). In this paper, we explore the application of molecular dynamics (MD) in the development of a predictive model for RRF.  We obtained measurements of RRF for 48 compounds with LC - quadrupole time-of-flight (QTOF) MS and calculated their RRF by dividing the observed peak areas by their concentrations. We used the CGenFF force field to generate the topologies and GROMACS to conduct the (MD) simulations (t = 1 ns). We calculated the Lennard-Jones and Coulomb interactions between the analytes and all other molecules in the ESI droplet, which were then used to construct a multilinear regression model for predicting RRF.  The best performing model showed a coefficient of determination (R2) of 0.82 and a mean absolute error (MAE) of 0.13 log units. This performance is comparable to other predictive models including machine learning models. While there is a need for further evaluation of diverse chemical structures, our approach showed great promise in predictions of RRF. ', 'keywords': ['electrospray ionization', 'predictive modeling', 'relative response factor', 'molecular dynamics simulations'], 'authors': [{'orcid': '0000-0002-3402-7565', 'title': 'Dr', 'firstName': 'Dimitri', 'lastName': 'Abrahamsson', 'institutions': [{'name': 'New York University', 'country': 'United States', 'rorId': 'https://ror.org/0190ak572'}]}, {'orcid': None, 'title': 'Ms', 'firstName': 'Lelouda-Athanasia', 'lastName': 'Koronaiou', 'institutions': [{'name': 'Aristotle University of Thessaloniki', 'country': 'Greece', 'rorId': 'https://ror.org/02j61yw88'}]}, {'orcid': '0000-0001-7957-5859', 'title': 'Dr', 'firstName': 'Trevor', 'lastName': 'Johnson', 'institutions': [{'name': 'New York University', 'country': 'United States', 'rorId': 'https://ror.org/0190ak572'}]}, {'orcid': None, 'title': 'Dr', 'firstName': 'Dimitra', 'lastName': 'Lambropoulou', 'institutions': [{'name': 'Aristotle University of Thessaloniki', 'country': 'Greece', 'rorId': 'https://ror.org/02j61yw88'}]}]}\n"
     ]
    }
   ],
   "source": [
    "recent_paper ={\n",
    "    \"doi\": paper.json()[\"itemHits\"][0][\"item\"][\"doi\"],\n",
    "    \"title\": paper.json()[\"itemHits\"][0][\"item\"][\"title\"],\n",
    "    # get the current year - making some assumptions here :)\n",
    "    \"publication_year\": datetime.datetime.now().year,\n",
    "    \"abstract\": paper.json()[\"itemHits\"][0][\"item\"][\"abstract\"],\n",
    "    \"keywords\": paper.json()[\"itemHits\"][0][\"item\"][\"keywords\"],\n",
    "    \"authors\": paper.json()[\"itemHits\"][0][\"item\"][\"authors\"]\n",
    "}\n",
    "\n",
    "print(recent_paper)"
   ]
  },
  {
   "cell_type": "code",
   "execution_count": 6,
   "metadata": {},
   "outputs": [],
   "source": [
    "keyword_objs = []\n",
    "for keyword in recent_paper[\"keywords\"]:\n",
    "    keyword_obj = Keyword(keyword=keyword.lower())\n",
    "    keyword_objs.append(keyword_obj)\n",
    "\n",
    "author_objs = []\n",
    "for author in recent_paper[\"authors\"]:\n",
    "    author_obj = Author(first_name=author[\"firstName\"], last_name=author[\"lastName\"], affiliation=author[\"institutions\"][0][\"name\"])\n",
    "    author_objs.append(author_obj)\n",
    "\n",
    "recent_paper[\"keywords\"] = keyword_objs\n",
    "recent_paper[\"authors\"] = author_objs"
   ]
  },
  {
   "cell_type": "code",
   "execution_count": 7,
   "metadata": {},
   "outputs": [
    {
     "data": {
      "text/plain": [
       "[Keyword(keyword='electrospray ionization'),\n",
       " Keyword(keyword='predictive modeling'),\n",
       " Keyword(keyword='relative response factor'),\n",
       " Keyword(keyword='molecular dynamics simulations')]"
      ]
     },
     "execution_count": 7,
     "metadata": {},
     "output_type": "execute_result"
    }
   ],
   "source": [
    "recent_paper[\"keywords\"]"
   ]
  },
  {
   "cell_type": "code",
   "execution_count": 8,
   "metadata": {},
   "outputs": [],
   "source": [
    "with Session(engine) as session:\n",
    "    # Add the article\n",
    "    article = Article(**recent_paper)\n",
    "    session.add(article)\n",
    "    session.commit()"
   ]
  },
  {
   "cell_type": "code",
   "execution_count": 9,
   "metadata": {},
   "outputs": [],
   "source": [
    "# Show how to query here."
   ]
  },
  {
   "cell_type": "markdown",
   "metadata": {},
   "source": [
    "Let's pull 50 more papers from ChemArxiv and add them to our database."
   ]
  },
  {
   "cell_type": "code",
   "execution_count": 10,
   "metadata": {},
   "outputs": [],
   "source": [
    "import requests\n",
    "import datetime\n",
    "from sqlmodel import select, Session\n",
    "\n",
    "# Get the most recent theoretical chemistry papers on ChemRxiv\n",
    "papers = requests.get(\"https://chemrxiv.org/engage/chemrxiv/public-api/v1/items?categoryIds=605c72ef153207001f6470ce&limit=50&skip=1\")\n",
    "\n",
    "for paper in papers.json()[\"itemHits\"]:\n",
    "    recent_paper = {\n",
    "        \"doi\": paper[\"item\"][\"doi\"],\n",
    "        \"title\": paper[\"item\"][\"title\"],\n",
    "        \"publication_year\": datetime.datetime.now().year,\n",
    "        \"abstract\": paper[\"item\"][\"abstract\"],\n",
    "        \"keywords\": paper[\"item\"][\"keywords\"],\n",
    "        \"authors\": paper[\"item\"][\"authors\"]\n",
    "    }\n",
    "\n",
    "    keyword_objs = []\n",
    "    with Session(engine) as session:\n",
    "        for keyword in recent_paper[\"keywords\"]:\n",
    "            # Check if keyword already exists\n",
    "            normalized_keyword = keyword.lower()\n",
    "            existing_keyword = session.exec(select(Keyword).where(Keyword.keyword == normalized_keyword)).first()\n",
    "            if existing_keyword:\n",
    "                keyword_objs.append(existing_keyword)\n",
    "            else:\n",
    "                keyword_obj = Keyword(keyword=normalized_keyword)\n",
    "                session.add(keyword_obj)\n",
    "                session.commit()  # Commit to get the keyword ID\n",
    "                session.refresh(keyword_obj)  # Refresh to load the keyword ID\n",
    "                keyword_objs.append(keyword_obj)\n",
    "\n",
    "    author_objs = []\n",
    "    with Session(engine) as session:\n",
    "        for author in recent_paper[\"authors\"]:\n",
    "            affiliation = author[\"institutions\"][0][\"name\"] if author[\"institutions\"] else None\n",
    "\n",
    "            # Check if author already exists\n",
    "            existing_author = session.exec(\n",
    "                select(Author).where(\n",
    "                    Author.first_name == author[\"firstName\"],\n",
    "                    Author.last_name == author[\"lastName\"],\n",
    "                    Author.affiliation == affiliation\n",
    "                )\n",
    "            ).first()\n",
    "            \n",
    "            if existing_author:\n",
    "                author_objs.append(existing_author)\n",
    "            else:\n",
    "                author_obj = Author(\n",
    "                    first_name=author[\"firstName\"],\n",
    "                    last_name=author[\"lastName\"],\n",
    "                    affiliation=affiliation\n",
    "                )\n",
    "                session.add(author_obj)\n",
    "                session.commit()  # Commit to get the author ID\n",
    "                session.refresh(author_obj)  # Refresh to load the author ID\n",
    "                author_objs.append(author_obj)\n",
    "\n",
    "    recent_paper[\"keywords\"] = keyword_objs\n",
    "    recent_paper[\"authors\"] = author_objs\n",
    "\n",
    "    try:\n",
    "        with Session(engine) as session:\n",
    "            # Add the article\n",
    "            article = Article(**recent_paper)\n",
    "            session.add(article)\n",
    "            session.commit()\n",
    "    except Exception as e:\n",
    "        print(f\"Adding article {recent_paper['doi']} failed with error: {e}\")\n"
   ]
  },
  {
   "cell_type": "code",
   "execution_count": 11,
   "metadata": {},
   "outputs": [
    {
     "name": "stdout",
     "output_type": "stream",
     "text": [
      "Found keyword: machine learning\n",
      "DOI: 10.26434/chemrxiv-2024-57klw, Title: Machine learning-assisted c-RASAR modeling of a curated set of orally active nephrotoxic drugs: Similarity-based predictions from close source neighbors, Year: 2024\n",
      "DOI: 10.26434/chemrxiv-2024-2xzct, Title: Catalytic Large Atomic Model (CLAM): A Machine-Learning-Based Interatomic Potential Universal Model, Year: 2024\n",
      "DOI: 10.26434/chemrxiv-2024-34n5h, Title: Harnessing DFT and Machine Learning for Accurate Optical Gap Prediction in Conjugated Polymers, Year: 2024\n"
     ]
    }
   ],
   "source": [
    "keyword_to_search = \"machine learning\"\n",
    "\n",
    "with Session(engine) as session:\n",
    "    # Get the specific Keyword object by keyword\n",
    "    keyword = session.exec(select(Keyword).where(Keyword.keyword == keyword_to_search)).first()\n",
    "    \n",
    "    if keyword:\n",
    "        print(f\"Found keyword: {keyword.keyword}\")\n",
    "        # Access related articles directly\n",
    "        for article in keyword.articles:\n",
    "            print(f\"DOI: {article.doi}, Title: {article.title}, Year: {article.publication_year}\")\n",
    "    else:\n",
    "        print(f\"No articles found for keyword: {keyword_to_search}\")\n"
   ]
  },
  {
   "cell_type": "code",
   "execution_count": null,
   "metadata": {},
   "outputs": [],
   "source": []
  }
 ],
 "metadata": {
  "kernelspec": {
   "display_name": "database-tutorial",
   "language": "python",
   "name": "python3"
  },
  "language_info": {
   "codemirror_mode": {
    "name": "ipython",
    "version": 3
   },
   "file_extension": ".py",
   "mimetype": "text/x-python",
   "name": "python",
   "nbconvert_exporter": "python",
   "pygments_lexer": "ipython3",
   "version": "3.12.5"
  }
 },
 "nbformat": 4,
 "nbformat_minor": 2
}
