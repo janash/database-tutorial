{
 "cells": [
  {
   "cell_type": "markdown",
   "metadata": {},
   "source": [
    "<div style=\"text-align:center;\">\n",
    "  <img src=\"images/molssi_main_horizontal.png\" style=\"display: block; margin: 0 auto; max-height:200px;\">\n",
    "</div>\n",
    "\n",
    "# Building a Database with SQLModel\n",
    "\n",
    "<strong>Author(s):</strong> Jessica A. Nash, The Molecular Sciences Software Institute\n",
    "\n",
    "<div class=\"alert alert-block alert-info\"> \n",
    "<h2>Overview</h2>\n",
    "\n",
    "<strong>Questions:</strong>\n",
    "\n",
    "* What is an ORM and why is it useful in database management?\n",
    "* What are common Python packages for ORMs?\n",
    "* What are the benefits of using ORMs?\n",
    "* How do I create databases using SQL model.\n",
    "\n",
    "<strong>Objectives:</strong>\n",
    "\n",
    "* Create a database table structure using SQLModel.\n",
    "\n",
    "</div>\n",
    "\n",
    "In the previous notebook, we learned about SQL queries and how to build a SQLite database by building queries and executing them using Python.\n",
    "When we took this approach, we had to write the SQL ourselves, which can be time-consuming and error-prone, and also varies depending on the database system we are using.\n",
    "In this notebook, we'll learn about a Python library called SQLModel that can be used to build databases by writing Python classes. The classes are then used to create the database schema and interact with the database without writing SQL queries.\n",
    "\n",
    "SQLModel is something called an  ORM, or an \"object-relational mapping\" library. \n",
    "An ORM is a programming technique for converting data between incompatible type systems using object-oriented programming languages. \n",
    "This allows us to interact with a database using Python objects, which can make our code more readable and maintainable.\n",
    "\n",
    "The \"classic\" ORM in Python is [SQLAlchemy](https://www.sqlalchemy.org/), which is a very powerful and flexible library.\n",
    "Many of MolSSI's own projects such as QCArchive or SEAMM use SQLAlchemy for their databases.\n",
    "SQLModel is a more \"modern\" ORM that is built on top of SQLAlchemy, and is designed to be easier to use and more Pythonic.\n",
    "SQLModel combines SQLAlchemy with data validation through [Pydantic](https://docs.pydantic.dev/latest/) and is easier to plug into apps like APIs using FastAPI.\n",
    "\n",
    "This notebook starts with a convenience function for removing the database we will create in it (this is in case you run the notebook more than once!)"
   ]
  },
  {
   "cell_type": "code",
   "execution_count": 1,
   "metadata": {},
   "outputs": [],
   "source": [
    "import os\n",
    "\n",
    "def remove_db():\n",
    "    \"\"\"Convenience function to remove database file for notebook.\"\"\"\n",
    "    if os.path.exists(\"sqlmodel_database.db\"):\n",
    "        os.remove(\"sqlmodel_database.db\")\n",
    "\n",
    "remove_db()"
   ]
  },
  {
   "cell_type": "markdown",
   "metadata": {},
   "source": [
    "## Defining a Table using SQLModel\n",
    "\n",
    "When using an ORM, you define tables using Python classes and inheritance.\n",
    "Briefly, inheritance is a way to define a new class that inherits attributes and methods from an existing class.\n",
    "The classes will start with  the behavior of some base class, and is extended through additional code definition.\n",
    "\n",
    "In the case of SQLModel, we can create a SQL table by inheriting from the class `SQLModel` and setting the `table` argument to `True`.\n",
    "Defining the columns of the table is very similar to defining a model using Pydantic.\n",
    "SQLModel uses SQLAlchemy, a standard ORM in Python coupled with Pydantic for validation, making it a bit quicker to prototype than SQLAlchemy.\n",
    "Each column is given a name by adding a class attribute to your class. \n",
    "The name of the column will correspond to the name of the attribue in the class.\n",
    "The name of the SQL table will correspond to the name of the class, but in all lower case.\n",
    "\n",
    "When using SQLModel, The attributes (columns) must be accompanied by type-hinting.\n",
    "This will allow SQLModel to map the Python type of the variable to the SQL type.\n",
    "\n",
    "Finally, if there are any constraints on the column such as a primary key or uniqueness, \n",
    "that is added by using the `SQLModel` `Field` object.\n",
    "\n",
    "In the cell below, we have defined columns for the `Article` table.\n",
    "The class is set up to define a SQL table that has fields named `doi` (type `str`), `title` (type `str`), `publication_year` (type `int`), `abstract` (`optional`, type `str`, default `None`)."
   ]
  },
  {
   "cell_type": "code",
   "execution_count": 2,
   "metadata": {},
   "outputs": [],
   "source": [
    "from typing import Optional\n",
    "\n",
    "from sqlmodel import Field, SQLModel, Session, create_engine\n",
    "\n",
    "class Article(SQLModel, table=True):\n",
    "    \n",
    "    doi: str = Field(primary_key=True)\n",
    "    title: str\n",
    "    publication_year: int\n",
    "    abstract: Optional[str] = Field(default=None)"
   ]
  },
  {
   "cell_type": "markdown",
   "metadata": {},
   "source": [
    "After defining a single table, we can use SQLModel to create and connect to a database."
   ]
  },
  {
   "cell_type": "code",
   "execution_count": 3,
   "metadata": {},
   "outputs": [],
   "source": [
    "sqlite_file_name = \"sqlmodel_database.db\"\n",
    "sqlite_url = f\"sqlite:///{sqlite_file_name}\"\n",
    "\n",
    "engine = create_engine(sqlite_url, echo=True)"
   ]
  },
  {
   "cell_type": "markdown",
   "metadata": {},
   "source": [
    "For the purposes of this tutorial, we're using the `echo=True` option to the SQL engine. \n",
    "This was set in the cell above.\n",
    "When you work with objects in SQLModel, the library is building and executing the SQL queries under the hood.\n",
    "The library will construct queries of the appropriate SQL dialect depending on what type of SQL database you are connecting to.\n",
    "Using `echo=True` when using a SQLite database will show us the SQL queries being executed, but if we were to use a different type of SQL database, we would see those types of queries.\n",
    "\n",
    "Our database is currently created but empty. To actually add tables to our database, we use `SQLModel.metadata.create_all` and pass in our database engine.\n",
    "SQLModel will automatically create tables for any classes we've defined using `SQLModel` and the `table=True` argument."
   ]
  },
  {
   "cell_type": "code",
   "execution_count": 4,
   "metadata": {},
   "outputs": [
    {
     "name": "stdout",
     "output_type": "stream",
     "text": [
      "2024-08-30 17:25:52,931 INFO sqlalchemy.engine.Engine BEGIN (implicit)\n",
      "2024-08-30 17:25:52,933 INFO sqlalchemy.engine.Engine PRAGMA main.table_info(\"article\")\n",
      "2024-08-30 17:25:52,933 INFO sqlalchemy.engine.Engine [raw sql] ()\n",
      "2024-08-30 17:25:52,936 INFO sqlalchemy.engine.Engine PRAGMA temp.table_info(\"article\")\n",
      "2024-08-30 17:25:52,938 INFO sqlalchemy.engine.Engine [raw sql] ()\n",
      "2024-08-30 17:25:52,949 INFO sqlalchemy.engine.Engine \n",
      "CREATE TABLE article (\n",
      "\tdoi VARCHAR NOT NULL, \n",
      "\ttitle VARCHAR NOT NULL, \n",
      "\tpublication_year INTEGER NOT NULL, \n",
      "\tabstract VARCHAR, \n",
      "\tPRIMARY KEY (doi)\n",
      ")\n",
      "\n",
      "\n",
      "2024-08-30 17:25:52,950 INFO sqlalchemy.engine.Engine [no key 0.00133s] ()\n",
      "2024-08-30 17:25:52,960 INFO sqlalchemy.engine.Engine COMMIT\n"
     ]
    }
   ],
   "source": [
    "SQLModel.metadata.create_all(engine)"
   ]
  },
  {
   "cell_type": "markdown",
   "metadata": {},
   "source": [
    "In the cell output above, you will be able to see the SQL query that SQLModel constructed to build our table, namely\n",
    "\n",
    "```sql\n",
    "CREATE TABLE article (\n",
    "\tdoi VARCHAR NOT NULL, \n",
    "\ttitle VARCHAR NOT NULL, \n",
    "\tpublication_year INTEGER NOT NULL, \n",
    "\tabstract VARCHAR, \n",
    "\tPRIMARY KEY (doi)\n",
    ")\n",
    "```\n",
    "\n",
    "Instead of us writing the SQL statement as we did in the last notebook, the ORM translates our object to SQL code and executes it for us.\n",
    "\n",
    "If you view your database file now, you will see a databbase with a single `Article` table. \n",
    "SQLModel (using SQLAlchemy underneath) has mapped our Python class to a SQL statement for creating a table.\n",
    "\n",
    "<div class=\"alert alert-block alert-warning\">\n",
    "\n",
    "## Exercise\n",
    "Create classes for the `keyword` table and the `author` table.\n",
    "\n",
    "The `author` table should have : `id` (integer, primary key), `first_name`, `last_name`, `affiliation` (optional). See note below for author ID.\n",
    "\n",
    "The `keyword` table should have `id` (integer, primary key) and `keyword`.\n",
    "\n",
    "For the `id` columns on both tables. To make the `id` autoincrement without the user adding an ID, use `None | int` or `Optional[int]` as the type. \n",
    "This will allow someone to not pass in an author ID an have the table autoincrement.\n",
    "</div>\n"
   ]
  },
  {
   "cell_type": "code",
   "execution_count": 5,
   "metadata": {},
   "outputs": [],
   "source": [
    "class Author(SQLModel, table=True):\n",
    "\n",
    "    id: Optional[int] = Field(primary_key=True)\n",
    "    first_name: str\n",
    "    last_name: str\n",
    "    affiliation: Optional[str] = Field(default=None)\n",
    "\n",
    "class Keyword(SQLModel, table=True):\n",
    "\n",
    "    id: Optional[int] = Field(primary_key=True)\n",
    "    keyword: str = Field(unique=True, index=True)"
   ]
  },
  {
   "cell_type": "code",
   "execution_count": 6,
   "metadata": {},
   "outputs": [
    {
     "name": "stdout",
     "output_type": "stream",
     "text": [
      "2024-08-30 17:25:55,343 INFO sqlalchemy.engine.Engine BEGIN (implicit)\n",
      "2024-08-30 17:25:55,349 INFO sqlalchemy.engine.Engine PRAGMA main.table_info(\"article\")\n",
      "2024-08-30 17:25:55,352 INFO sqlalchemy.engine.Engine [raw sql] ()\n",
      "2024-08-30 17:25:55,356 INFO sqlalchemy.engine.Engine PRAGMA main.table_info(\"author\")\n",
      "2024-08-30 17:25:55,357 INFO sqlalchemy.engine.Engine [raw sql] ()\n",
      "2024-08-30 17:25:55,360 INFO sqlalchemy.engine.Engine PRAGMA temp.table_info(\"author\")\n",
      "2024-08-30 17:25:55,364 INFO sqlalchemy.engine.Engine [raw sql] ()\n",
      "2024-08-30 17:25:55,365 INFO sqlalchemy.engine.Engine PRAGMA main.table_info(\"keyword\")\n",
      "2024-08-30 17:25:55,366 INFO sqlalchemy.engine.Engine [raw sql] ()\n",
      "2024-08-30 17:25:55,368 INFO sqlalchemy.engine.Engine PRAGMA temp.table_info(\"keyword\")\n",
      "2024-08-30 17:25:55,369 INFO sqlalchemy.engine.Engine [raw sql] ()\n",
      "2024-08-30 17:25:55,371 INFO sqlalchemy.engine.Engine \n",
      "CREATE TABLE author (\n",
      "\tid INTEGER NOT NULL, \n",
      "\tfirst_name VARCHAR NOT NULL, \n",
      "\tlast_name VARCHAR NOT NULL, \n",
      "\taffiliation VARCHAR, \n",
      "\tPRIMARY KEY (id)\n",
      ")\n",
      "\n",
      "\n",
      "2024-08-30 17:25:55,372 INFO sqlalchemy.engine.Engine [no key 0.00108s] ()\n",
      "2024-08-30 17:25:55,388 INFO sqlalchemy.engine.Engine \n",
      "CREATE TABLE keyword (\n",
      "\tid INTEGER NOT NULL, \n",
      "\tkeyword VARCHAR NOT NULL, \n",
      "\tPRIMARY KEY (id)\n",
      ")\n",
      "\n",
      "\n",
      "2024-08-30 17:25:55,390 INFO sqlalchemy.engine.Engine [no key 0.00193s] ()\n",
      "2024-08-30 17:25:55,409 INFO sqlalchemy.engine.Engine CREATE UNIQUE INDEX ix_keyword_keyword ON keyword (keyword)\n",
      "2024-08-30 17:25:55,411 INFO sqlalchemy.engine.Engine [no key 0.00167s] ()\n",
      "2024-08-30 17:25:55,429 INFO sqlalchemy.engine.Engine COMMIT\n"
     ]
    }
   ],
   "source": [
    "SQLModel.metadata.create_all(engine)"
   ]
  },
  {
   "cell_type": "markdown",
   "metadata": {},
   "source": [
    "### Associative Tables\n",
    "\n",
    "Finally for our associative tables we add `foreign_key` to our column fields referencing our other tables, and create our composite primary key by making both columns primary keys."
   ]
  },
  {
   "cell_type": "code",
   "execution_count": 7,
   "metadata": {},
   "outputs": [],
   "source": [
    "class ArticleKeyword(SQLModel, table=True):\n",
    "    __table_args__ = {\"extend_existing\": True} # This lets us run the Jupyter notebook cell multiple times without error\n",
    "    \n",
    "    article_doi: str = Field(foreign_key=\"article.doi\", primary_key=True)\n",
    "    keyword_id: int = Field(foreign_key=\"keyword.id\", primary_key=True)\n"
   ]
  },
  {
   "cell_type": "markdown",
   "metadata": {},
   "source": [
    "<div class=\"alert alert-block alert-warning\">\n",
    "\n",
    "## Exercise\n",
    "\n",
    "Define the `ArticleAuthor` associative table.\n",
    "\n",
    "</div>"
   ]
  },
  {
   "cell_type": "code",
   "execution_count": 8,
   "metadata": {},
   "outputs": [],
   "source": [
    "\n",
    "class ArticleAuthor(SQLModel, table=True):\n",
    "    __table_args__ = {\"extend_existing\": True}\n",
    "\n",
    "    article_doi: str = Field(foreign_key=\"article.doi\", primary_key=True)\n",
    "    author_id: int = Field(foreign_key=\"author.id\", primary_key=True)"
   ]
  },
  {
   "cell_type": "markdown",
   "metadata": {},
   "source": [
    "The cell below adds our new tables to the database."
   ]
  },
  {
   "cell_type": "code",
   "execution_count": 9,
   "metadata": {},
   "outputs": [
    {
     "name": "stdout",
     "output_type": "stream",
     "text": [
      "2024-08-30 17:26:00,539 INFO sqlalchemy.engine.Engine BEGIN (implicit)\n",
      "2024-08-30 17:26:00,543 INFO sqlalchemy.engine.Engine PRAGMA main.table_info(\"article\")\n",
      "2024-08-30 17:26:00,544 INFO sqlalchemy.engine.Engine [raw sql] ()\n",
      "2024-08-30 17:26:00,546 INFO sqlalchemy.engine.Engine PRAGMA main.table_info(\"author\")\n",
      "2024-08-30 17:26:00,547 INFO sqlalchemy.engine.Engine [raw sql] ()\n",
      "2024-08-30 17:26:00,550 INFO sqlalchemy.engine.Engine PRAGMA main.table_info(\"keyword\")\n",
      "2024-08-30 17:26:00,552 INFO sqlalchemy.engine.Engine [raw sql] ()\n",
      "2024-08-30 17:26:00,555 INFO sqlalchemy.engine.Engine PRAGMA main.table_info(\"articlekeyword\")\n",
      "2024-08-30 17:26:00,556 INFO sqlalchemy.engine.Engine [raw sql] ()\n",
      "2024-08-30 17:26:00,558 INFO sqlalchemy.engine.Engine PRAGMA temp.table_info(\"articlekeyword\")\n",
      "2024-08-30 17:26:00,559 INFO sqlalchemy.engine.Engine [raw sql] ()\n",
      "2024-08-30 17:26:00,560 INFO sqlalchemy.engine.Engine PRAGMA main.table_info(\"articleauthor\")\n",
      "2024-08-30 17:26:00,561 INFO sqlalchemy.engine.Engine [raw sql] ()\n",
      "2024-08-30 17:26:00,562 INFO sqlalchemy.engine.Engine PRAGMA temp.table_info(\"articleauthor\")\n",
      "2024-08-30 17:26:00,562 INFO sqlalchemy.engine.Engine [raw sql] ()\n",
      "2024-08-30 17:26:00,565 INFO sqlalchemy.engine.Engine \n",
      "CREATE TABLE articlekeyword (\n",
      "\tarticle_doi VARCHAR NOT NULL, \n",
      "\tkeyword_id INTEGER NOT NULL, \n",
      "\tPRIMARY KEY (article_doi, keyword_id), \n",
      "\tFOREIGN KEY(article_doi) REFERENCES article (doi), \n",
      "\tFOREIGN KEY(keyword_id) REFERENCES keyword (id)\n",
      ")\n",
      "\n",
      "\n",
      "2024-08-30 17:26:00,566 INFO sqlalchemy.engine.Engine [no key 0.00123s] ()\n",
      "2024-08-30 17:26:00,579 INFO sqlalchemy.engine.Engine \n",
      "CREATE TABLE articleauthor (\n",
      "\tarticle_doi VARCHAR NOT NULL, \n",
      "\tauthor_id INTEGER NOT NULL, \n",
      "\tPRIMARY KEY (article_doi, author_id), \n",
      "\tFOREIGN KEY(article_doi) REFERENCES article (doi), \n",
      "\tFOREIGN KEY(author_id) REFERENCES author (id)\n",
      ")\n",
      "\n",
      "\n",
      "2024-08-30 17:26:00,580 INFO sqlalchemy.engine.Engine [no key 0.00105s] ()\n",
      "2024-08-30 17:26:00,591 INFO sqlalchemy.engine.Engine COMMIT\n"
     ]
    }
   ],
   "source": [
    "SQLModel.metadata.create_all(engine)"
   ]
  },
  {
   "cell_type": "markdown",
   "metadata": {},
   "source": [
    "## Adding Data to the Database\n",
    "\n",
    "Now that we've defined our database schema, we can add data to the database.\n",
    "We'll use the paper we've retrieved from ChemRxiv to demonstrate."
   ]
  },
  {
   "cell_type": "code",
   "execution_count": 10,
   "metadata": {},
   "outputs": [
    {
     "name": "stdout",
     "output_type": "stream",
     "text": [
      "{'id': '66cc884620ac769e5fe4275b', 'doi': '10.26434/chemrxiv-2024-jjdsq', 'vor': None, 'title': 'Latin American Natural Product Database (LANaPDB): an update ', 'abstract': 'Natural product (NP) databases are crucial tools in computer-aided drug design (CADD). Over the last decade, there has been a worldwide effort to assemble information regarding natural products (NPs) isolated and characterized in certain geographical regions. In 2023, it was published LANaPDB, to our knowledge, it is the first attempt to gather and standardize all the NP databases of Latin America. Herein, we present and analyze in detail the contents of an updated version of LANaPDB, which includes 619 newly added compounds from Colombia, Costa Rica, and Mexico. The present version of LANaPDB has a total of 13,578 compounds, coming from ten databases of seven Latin American countries. A chemoinformatic characterization of LANAPDB was carried out, which includes the structural classification of the compounds, calculation of six physicochemical properties of pharmaceutical interest, visualization of the chemical space, determination of the structural diversity, molecular complexity, synthetic feasibility, commercial availability, predicted and reported biological activity. In addition, the LANaPDB compounds were cross-referenced to two of the largest public chemical compound databases annotated with biological activity: ChEMBL and PubChem. The Latin American natural product collection LANaPDB is publicly available and can be downloaded at https://github.com/alexgoga21/LANaPDB-version-2/tree/main.', 'contentType': {'id': '5ce663395846762193c9c430', 'name': 'Working Paper'}, 'categories': [{'id': '605c72ef153207001f6470ce', 'name': 'Theoretical and Computational Chemistry', 'description': 'Research on Theoretical and Computational Chemistry'}, {'id': '605c72ef153207001f6470d0', 'name': 'Biological and Medicinal Chemistry', 'description': 'Research on Biological and Medicinal Chemistry'}, {'id': '60adf37803f321001cb1052b', 'name': 'Chemical Biology', 'description': 'Research on Chemical Biology'}, {'id': '60adf37803f321001cb10530', 'name': 'Computational Chemistry and Modeling', 'description': 'Research on Computational Chemistry and Modeling'}, {'id': '60adf37803f321001cb10535', 'name': 'Chemoinformatics - Computational Chemistry', 'description': 'Research on Chemoinformatics - Computational Chemistry'}], 'subject': {'id': '5e68cb1bd1f19d49ce3ac739', 'name': 'Chemistry', 'description': 'Discover early research outputs such as working papers, posters and presentations in Chemistry.'}, 'event': None, 'status': 'PUBLISHED', 'statusDate': '2024-08-27T13:17:00.368Z', 'funders': [{'funderId': '', 'name': 'Programa de Apoyo a Proyectos de Investigación e Innovación Tecnológica (PAPIIT)', 'grantNumber': 'IG200124', 'url': None, 'title': None}, {'funderId': '', 'name': 'Sao Paulo Research Foundation (FAPESP)', 'grantNumber': '#2020/11967-3 (DFG/FAPESP), #2022/08333-8 (DAAD/FAPESP), #2013/07600-3 (CIBFar-CEPID), #2014/50926-0, #465637/2014-0 (INCT BioNat CNPq/FAPESP)', 'url': None, 'title': None}, {'funderId': '', 'name': 'Technological University of Pereira (UTP)', 'grantNumber': 'E3-23-1', 'url': None, 'title': None}, {'funderId': '', 'name': 'Vice Chancellor for Research of the University of Costa Rica', 'grantNumber': '115-C2-126', 'url': None, 'title': None}], 'authors': [{'orcid': '0000-0003-4444-8221', 'title': None, 'firstName': 'Alejandro', 'lastName': 'Gómez-García', 'institutions': [{'name': 'Universidad Nacional Autónoma de México', 'country': 'Mexico', 'rorId': 'https://ror.org/01tmp8f25'}]}, {'orcid': None, 'title': None, 'firstName': 'Daniel A.', 'lastName': 'Acuña Jiménez', 'institutions': [{'name': 'Universidad de Costa Rica', 'country': 'Costa Rica', 'rorId': 'https://ror.org/02yzgww51'}]}, {'orcid': '0000-0003-4029-4528', 'title': None, 'firstName': 'William J.', 'lastName': 'Zamora', 'institutions': [{'name': 'Universidad de Costa Rica', 'country': 'Costa Rica', 'rorId': 'https://ror.org/02yzgww51'}]}, {'orcid': None, 'title': None, 'firstName': 'Haruna L.', 'lastName': 'Barazorda-Ccahuana', 'institutions': [{'name': 'Universidad Católica de Santa María', 'country': '', 'rorId': ''}]}, {'orcid': None, 'title': None, 'firstName': 'Miguel Á.', 'lastName': 'Chávez-Fumagalli', 'institutions': [{'name': 'Universidad Católica de Santa María', 'country': '', 'rorId': ''}]}, {'orcid': None, 'title': None, 'firstName': 'Marilia', 'lastName': 'Valli', 'institutions': [{'name': 'University of São Paulo', 'country': '', 'rorId': ''}]}, {'orcid': None, 'title': None, 'firstName': 'Adriano D.', 'lastName': 'Andricopulo', 'institutions': [{'name': 'University of São Paulo', 'country': '', 'rorId': ''}]}, {'orcid': '0000-0003-0615-8776', 'title': None, 'firstName': 'Vanderlan da S.', 'lastName': 'Bolzani', 'institutions': [{'name': 'São Paulo State University', 'country': '', 'rorId': ''}]}, {'orcid': None, 'title': None, 'firstName': 'Dionisio A.', 'lastName': 'Olmedo', 'institutions': [{'name': 'University of Panama', 'country': '', 'rorId': ''}]}, {'orcid': None, 'title': None, 'firstName': 'Pablo N.', 'lastName': 'Solís', 'institutions': [{'name': 'University of Panama', 'country': '', 'rorId': ''}]}, {'orcid': '0000-0002-0411-6962', 'title': None, 'firstName': 'Marvin J.', 'lastName': 'Núñez', 'institutions': [{'name': 'University of El Salvador', 'country': 'El Salvador', 'rorId': 'https://ror.org/03sbpft28'}]}, {'orcid': '0000-0002-5216-220X', 'title': None, 'firstName': 'Johny R.', 'lastName': 'Rodríguez Pérez', 'institutions': [{'name': 'Universidad Tecnológica de Pereira', 'country': '', 'rorId': ''}]}, {'orcid': None, 'title': None, 'firstName': 'Hoover A.', 'lastName': 'Valencia Sánchez', 'institutions': [{'name': 'Universidad Tecnológica de Pereira', 'country': '', 'rorId': ''}]}, {'orcid': None, 'title': None, 'firstName': 'Héctor F.', 'lastName': 'Cortés Hernández', 'institutions': [{'name': 'Universidad Tecnológica de Pereira', 'country': '', 'rorId': ''}]}, {'orcid': None, 'title': None, 'firstName': 'Oscar M.', 'lastName': 'Mosquera Martinez', 'institutions': [{'name': 'Universidad Tecnológica de Pereira', 'country': '', 'rorId': ''}]}, {'orcid': '0000-0003-4940-1107', 'title': None, 'firstName': 'Jose L.', 'lastName': 'Medina-Franco', 'institutions': [{'name': 'Universidad Nacional Autónoma de México', 'country': 'Mexico', 'rorId': 'https://ror.org/01tmp8f25'}]}], 'metrics': [{'description': 'Abstract Views', 'value': 0}, {'description': 'Citations', 'value': 0}, {'description': 'Content Downloads', 'value': 0}], 'version': '1', 'versionRefs': [{'version': '1', 'itemId': '66cc884620ac769e5fe4275b', 'legacyId': None}], 'submittedDate': '2024-08-26T14:32:13.965Z', 'publishedDate': '2024-08-27T13:17:00.368Z', 'approvedDate': '2024-08-27T13:16:41.709Z', 'keywords': ['chemoinformatics', 'chemical space', 'database', 'diversity', 'drug discovery', 'Latin America', 'open science'], 'hasCompetingInterests': False, 'competingInterestsDeclaration': None, 'gainedEthicsApproval': 'NOT_RELEVANT', 'suppItems': [], 'asset': {'id': '66cc8fe84a5bfc2934d68500', 'mimeType': 'application/pdf', 'fileName': 'Manuscript.pdf', 'fileSizeBytes': 2307250, 'smallThumbnail': {'url': 'https://chemrxiv.org/engage/api-gateway/chemrxiv/assets/orp/resource/item/66cc884620ac769e5fe4275b/smallThumb/latin-american-natural-product-database-la-na-pdb-an-update.jpg'}, 'mediumThumbnail': {'url': 'https://chemrxiv.org/engage/api-gateway/chemrxiv/assets/orp/resource/item/66cc884620ac769e5fe4275b/mediumThumb/latin-american-natural-product-database-la-na-pdb-an-update.jpg'}, 'largeThumbnail': {'url': 'https://chemrxiv.org/engage/api-gateway/chemrxiv/assets/orp/resource/item/66cc884620ac769e5fe4275b/largeThumb/latin-american-natural-product-database-la-na-pdb-an-update.jpg'}, 'original': {'url': 'https://chemrxiv.org/engage/api-gateway/chemrxiv/assets/orp/resource/item/66cc884620ac769e5fe4275b/original/latin-american-natural-product-database-la-na-pdb-an-update.pdf'}}, 'license': {'id': '5cc9d9bf7d4e0000ac04ef23', 'name': 'CC BY 4.0', 'description': 'This license will allow Site users to copy and redistribute the Content in any medium or format and remix, transform and build upon the Content for any purpose, even commercially. There is a requirement to attribute the Author upon reuse of the Content.', 'url': 'https://creativecommons.org/licenses/by/4.0/'}, 'webLinks': [{'title': 'Latin American Natural Product Database', 'description': 'File with the entire and updatad database of natural products from Latin America', 'url': 'https://github.com/alexgoga21/LANaPDB-version-2/tree/main'}, {'title': 'TMAP of LANAPDB', 'description': 'Interactive version of the TMAP  of the Latin American Natural Product Database ', 'url': 'https://github.com/alexgoga21/LANaPDB-version-2/blob/main/Interactive%20TMAP.html'}], 'origin': 'CHEMRXIV', 'termsAcceptance': True, 'versionNote': '', 'latestComments': [], 'commentsCount': 0, 'isLatestVersion': True, 'legacyId': None}\n"
     ]
    }
   ],
   "source": [
    "import json\n",
    "\n",
    "\n",
    "datafile = \"data/one_paper.json\"\n",
    "\n",
    "with open(datafile) as f:\n",
    "    search_data = json.load(f)\n",
    "\n",
    "paper_data = search_data[\"itemHits\"][0][\"item\"]\n",
    "print(paper_data)"
   ]
  },
  {
   "cell_type": "markdown",
   "metadata": {},
   "source": [
    "To add data to the database, we create instances of our objects.\n",
    "We first create a database session using `Session` with our engine. \n",
    "We add a row to our `article` table by using our `Article` class and passing in the required arguments (the columns we defined in the class).\n",
    "\n",
    "```python\n",
    "Article(doi=paper_data[\"doi\"], title=paper_data[\"title\"], publication_year=2024, abstract=paper_data[\"abstract\"])\n",
    "```\n",
    "\n",
    "Then, we can add the row to the database session using `session.add()`.\n",
    "Finally, we commit the changes to the database using `session.commit()`.\n",
    "\n",
    "We follow the same process for adding each keyword associated with the paper to the database.\n",
    "In the example below, we are normalizing the keywords by converting all of them to lowercase before adding them to the database.\n"
   ]
  },
  {
   "cell_type": "code",
   "execution_count": 11,
   "metadata": {},
   "outputs": [
    {
     "name": "stdout",
     "output_type": "stream",
     "text": [
      "2024-08-30 17:26:04,382 INFO sqlalchemy.engine.Engine BEGIN (implicit)\n",
      "2024-08-30 17:26:04,391 INFO sqlalchemy.engine.Engine INSERT INTO article (doi, title, publication_year, abstract) VALUES (?, ?, ?, ?)\n",
      "2024-08-30 17:26:04,392 INFO sqlalchemy.engine.Engine [generated in 0.00133s] ('10.26434/chemrxiv-2024-jjdsq', 'Latin American Natural Product Database (LANaPDB): an update ', 2024, 'Natural product (NP) databases are crucial tools in computer-aided drug design (CADD). Over the last decade, there has been a worldwide effort to ass ... (1120 characters truncated) ... American natural product collection LANaPDB is publicly available and can be downloaded at https://github.com/alexgoga21/LANaPDB-version-2/tree/main.')\n",
      "2024-08-30 17:26:04,395 INFO sqlalchemy.engine.Engine COMMIT\n",
      "2024-08-30 17:26:04,408 INFO sqlalchemy.engine.Engine BEGIN (implicit)\n",
      "2024-08-30 17:26:04,410 INFO sqlalchemy.engine.Engine INSERT INTO keyword (keyword) VALUES (?)\n",
      "2024-08-30 17:26:04,411 INFO sqlalchemy.engine.Engine [generated in 0.00100s] ('chemoinformatics',)\n",
      "2024-08-30 17:26:04,414 INFO sqlalchemy.engine.Engine COMMIT\n",
      "2024-08-30 17:26:04,424 INFO sqlalchemy.engine.Engine BEGIN (implicit)\n",
      "2024-08-30 17:26:04,425 INFO sqlalchemy.engine.Engine INSERT INTO keyword (keyword) VALUES (?)\n",
      "2024-08-30 17:26:04,426 INFO sqlalchemy.engine.Engine [cached since 0.0162s ago] ('chemical space',)\n",
      "2024-08-30 17:26:04,428 INFO sqlalchemy.engine.Engine COMMIT\n",
      "2024-08-30 17:26:04,436 INFO sqlalchemy.engine.Engine BEGIN (implicit)\n",
      "2024-08-30 17:26:04,437 INFO sqlalchemy.engine.Engine INSERT INTO keyword (keyword) VALUES (?)\n",
      "2024-08-30 17:26:04,438 INFO sqlalchemy.engine.Engine [cached since 0.02823s ago] ('database',)\n",
      "2024-08-30 17:26:04,440 INFO sqlalchemy.engine.Engine COMMIT\n",
      "2024-08-30 17:26:04,452 INFO sqlalchemy.engine.Engine BEGIN (implicit)\n",
      "2024-08-30 17:26:04,454 INFO sqlalchemy.engine.Engine INSERT INTO keyword (keyword) VALUES (?)\n",
      "2024-08-30 17:26:04,456 INFO sqlalchemy.engine.Engine [cached since 0.0461s ago] ('diversity',)\n",
      "2024-08-30 17:26:04,459 INFO sqlalchemy.engine.Engine COMMIT\n",
      "2024-08-30 17:26:04,470 INFO sqlalchemy.engine.Engine BEGIN (implicit)\n",
      "2024-08-30 17:26:04,472 INFO sqlalchemy.engine.Engine INSERT INTO keyword (keyword) VALUES (?)\n",
      "2024-08-30 17:26:04,474 INFO sqlalchemy.engine.Engine [cached since 0.06417s ago] ('drug discovery',)\n",
      "2024-08-30 17:26:04,478 INFO sqlalchemy.engine.Engine COMMIT\n",
      "2024-08-30 17:26:04,492 INFO sqlalchemy.engine.Engine BEGIN (implicit)\n",
      "2024-08-30 17:26:04,495 INFO sqlalchemy.engine.Engine INSERT INTO keyword (keyword) VALUES (?)\n",
      "2024-08-30 17:26:04,497 INFO sqlalchemy.engine.Engine [cached since 0.0868s ago] ('latin america',)\n",
      "2024-08-30 17:26:04,500 INFO sqlalchemy.engine.Engine COMMIT\n",
      "2024-08-30 17:26:04,518 INFO sqlalchemy.engine.Engine BEGIN (implicit)\n",
      "2024-08-30 17:26:04,520 INFO sqlalchemy.engine.Engine INSERT INTO keyword (keyword) VALUES (?)\n",
      "2024-08-30 17:26:04,521 INFO sqlalchemy.engine.Engine [cached since 0.1115s ago] ('open science',)\n",
      "2024-08-30 17:26:04,525 INFO sqlalchemy.engine.Engine COMMIT\n"
     ]
    }
   ],
   "source": [
    "with Session(engine) as session:\n",
    "\n",
    "    first_article = Article(doi=paper_data[\"doi\"], title=paper_data[\"title\"], publication_year=2024, abstract=paper_data[\"abstract\"])\n",
    "    session.add(first_article)\n",
    "    session.commit()\n",
    "\n",
    "    for keyword in paper_data[\"keywords\"]:\n",
    "        keyword_obj = Keyword(keyword=keyword.lower())\n",
    "        session.add(keyword_obj)\n",
    "        session.commit()"
   ]
  },
  {
   "cell_type": "markdown",
   "metadata": {},
   "source": [
    "Although defining these models has made some things about connecting to the database and defining tables simpler, we're still missing an easy way to add and access data across our associative tables.\n",
    "Luckily, ORM's have functionality built in to make this easier. \n",
    "We'll have to redefine our models for this, so we'll move on to the next notebook."
   ]
  }
 ],
 "metadata": {
  "kernelspec": {
   "display_name": "Python 3 (ipykernel)",
   "language": "python",
   "name": "python3"
  },
  "language_info": {
   "codemirror_mode": {
    "name": "ipython",
    "version": 3
   },
   "file_extension": ".py",
   "mimetype": "text/x-python",
   "name": "python",
   "nbconvert_exporter": "python",
   "pygments_lexer": "ipython3",
   "version": "3.12.5"
  }
 },
 "nbformat": 4,
 "nbformat_minor": 4
}
