{
 "cells": [
  {
   "cell_type": "markdown",
   "metadata": {},
   "source": [
    "# Adding Relationships to SQLModel\n",
    "\n",
    "<strong>Author(s):</strong> Jessica A. Nash, The Molecular Sciences Software Institute\n",
    "\n",
    "<div class=\"alert alert-block alert-info\"> \n",
    "<h2>Overview</h2>\n",
    "\n",
    "<strong>Questions:</strong>\n",
    "\n",
    "* How can I automatically link tables in a database using SQLModel?\n",
    "* How do relationships simplify querying across tables?\n",
    "\n",
    "<strong>Objectives:</strong>\n",
    "\n",
    "* Add relationships to SQLModel models.\n",
    "\n",
    "</div>\n",
    "\n",
    "Our tables are now fully defined as we had discussed in the previous notebooks.\n",
    "However, there are more benefits to using ORMs than we were able to discuss.\n",
    "One conveneint thing about ORMs is the ability to define relationships betweent tables on the classes you define.\n",
    "\n",
    "Although not discussed in the previous notebook, if we wanted to query our previous database for an article and access the keywords,\n",
    "we would have to either do two queries or we would need to do a SQL `join` operation.\n",
    "However, when using an ORM, we can define additional relationships on the tables that allow us to access this more easily.\n",
    "\n",
    "In this next section, we'll add relationships to our SQLModel models.\n",
    "To get started, we'll remove our old database and get started with a new one"
   ]
  },
  {
   "cell_type": "code",
   "execution_count": null,
   "metadata": {},
   "outputs": [],
   "source": [
    "import os \n",
    "\n",
    "from typing import Optional, List\n",
    "\n",
    "from sqlmodel import Field, SQLModel, Session, Relationship, create_engine\n",
    "\n",
    "def remove_db():\n",
    "    \"\"\"Convenience function to remove database file for notebook.\"\"\"\n",
    "    if os.path.exists(\"sqlmodel_database_relationships.db\"):\n",
    "        os.remove(\"sqlmodel_database_relationships.db\")\n",
    "\n",
    "remove_db()"
   ]
  },
  {
   "cell_type": "markdown",
   "metadata": {},
   "source": [
    "As discussed in our first notebook on databases, articles and authors have a `many to many` relationship.\n",
    "This means one article can have many authors and vice versa. \n",
    "Using SQLModel, we can define this many to many relationship on our tables.\n",
    "Essentially, we will tell SQLModel to use our association table automatically.\n",
    "\n",
    "The cell below redefines our associative tables first, then repeats our `Author` definition.\n",
    "A final line is added to both `Article` and `Author` that defines a relationship between articles and authors.\n",
    "The lines added specifically are\n",
    "\n",
    "(in `Article`)\n",
    "```python\n",
    "authors: List[\"Author\"] = Relationship(back_populates=\"articles\", link_model=ArticleAuthor)\n",
    "```\n",
    "\n",
    "and \n",
    "\n",
    "(in `Author`)\n",
    "```python\n",
    " articles: List[\"Article\"] = Relationship(back_populates=\"authors\", link_model=ArticleAuthor)\n",
    "```\n",
    "\n",
    "This defines a `relationship` on the `article` table and on the `author` table. \n",
    "It says when we access an article we should get a list of `Author` objects with the article.\n",
    "We are also telling the ORM that these two are linked using the `AriticleAuthor` table by giving the `linkmodel` keyword.\n",
    "\n",
    "After this definition, we can use `Article.authors` or `Author.articles` to reference across tables.\n"
   ]
  },
  {
   "cell_type": "code",
   "execution_count": null,
   "metadata": {},
   "outputs": [],
   "source": [
    "class ArticleKeyword(SQLModel, table=True):\n",
    "    __table_args__ = {\"extend_existing\": True} # This lets us run the Jupyter notebook cell multiple times without error\n",
    "    \n",
    "    article_doi: str = Field(foreign_key=\"article.doi\", primary_key=True)\n",
    "    keyword_id: int = Field(foreign_key=\"keyword.id\", primary_key=True)\n",
    "\n",
    "class ArticleAuthor(SQLModel, table=True):\n",
    "    __table_args__ = {\"extend_existing\": True}\n",
    "\n",
    "    article_doi: str = Field(foreign_key=\"article.doi\", primary_key=True)\n",
    "    author_id: int = Field(foreign_key=\"author.id\", primary_key=True)\n",
    "\n",
    "\n",
    "class Article(SQLModel, table=True):\n",
    "    __table_args__ = {\"extend_existing\": True}\n",
    "    \n",
    "    doi: str = Field(primary_key=True)\n",
    "    title: str\n",
    "    publication_year: int\n",
    "    abstract: Optional[str] = Field(default=None)\n",
    "\n",
    "    authors: List[\"Author\"] = Relationship(back_populates=\"articles\", link_model=ArticleAuthor)\n",
    "\n",
    "class Author(SQLModel, table=True):\n",
    "    __table_args__ = {\"extend_existing\": True}\n",
    "\n",
    "    id: Optional[int] = Field(primary_key=True)\n",
    "    first_name: str\n",
    "    last_name: str\n",
    "    affiliation: Optional[str] = Field(default=None)\n",
    "\n",
    "    articles: List[\"Article\"] = Relationship(back_populates=\"authors\", link_model=ArticleAuthor)\n"
   ]
  },
  {
   "cell_type": "markdown",
   "metadata": {},
   "source": [
    "<div class=\"alert alert-block alert-warning\">\n",
    "\n",
    "## Exercise\n",
    "Redefine the Keyword table and add a relationship with `Article`.\n",
    "</div>"
   ]
  },
  {
   "cell_type": "code",
   "execution_count": null,
   "metadata": {},
   "outputs": [],
   "source": [
    "class Article(SQLModel, table=True):\n",
    "    __table_args__ = {\"extend_existing\": True}\n",
    "    \n",
    "    doi: str = Field(primary_key=True)\n",
    "    title: str\n",
    "    publication_year: int\n",
    "    abstract: Optional[str] = Field(default=None)\n",
    "\n",
    "    authors: List[\"Author\"] = Relationship(back_populates=\"articles\", link_model=ArticleAuthor)\n",
    "\n",
    "    # add relationship to keywords\n",
    "    keywords: List[\"Keyword\"] = Relationship(back_populates=\"articles\", link_model=ArticleKeyword)\n",
    "\n",
    "## Add Keyword table with relationship here\n",
    "class Keyword(SQLModel, table=True):\n",
    "    __table_args__ = {\"extend_existing\": True}\n",
    "\n",
    "    id: None | int = Field(primary_key=True)\n",
    "    keyword: str = Field(unique=True, index=True)\n",
    "\n",
    "    articles: list[\"Article\"] = Relationship(back_populates=\"keywords\", link_model=ArticleKeyword)"
   ]
  },
  {
   "cell_type": "markdown",
   "metadata": {},
   "source": [
    "In the cell below we create another database. \n",
    "This time, we set `echo=False` so that we don't see the SQL commands that are being executed."
   ]
  },
  {
   "cell_type": "code",
   "execution_count": null,
   "metadata": {},
   "outputs": [],
   "source": [
    "sqlite_file_name = \"sqlmodel_database_relationships.db\"\n",
    "sqlite_url = f\"sqlite:///{sqlite_file_name}\"\n",
    "\n",
    "engine = create_engine(sqlite_url, echo=False)\n",
    "\n",
    "SQLModel.metadata.create_all(engine)"
   ]
  },
  {
   "cell_type": "markdown",
   "metadata": {},
   "source": [
    "The cell below adds 50 papers pulled from ChemRxiv to the database.\n",
    "As you can see, we are adding keywords to the `Article` object instead of adding each keyword individually and linking them."
   ]
  },
  {
   "cell_type": "code",
   "execution_count": null,
   "metadata": {},
   "outputs": [],
   "source": [
    "import json\n",
    "\n",
    "from sqlmodel import select, col\n",
    "\n",
    "with open(\"data/fifty_papers.json\") as f:\n",
    "    data = json.load(f)[\"itemHits\"]\n",
    "\n",
    "with Session(engine) as session:\n",
    "\n",
    "    for paper in data:\n",
    "        paper_data = paper[\"item\"]\n",
    "\n",
    "        keywords = []\n",
    "        for keyword in paper_data[\"keywords\"]:\n",
    "            # Check if keyword is in database\\\n",
    "            keyword = keyword.lower()\n",
    "\n",
    "            stmt = select(Keyword).where(Keyword.keyword == keyword)\n",
    "\n",
    "            result = session.exec(stmt).one_or_none()\n",
    "\n",
    "            if not result:\n",
    "                keyword_obj = Keyword(keyword=keyword.lower())\n",
    "            else:\n",
    "                keyword_obj = result\n",
    "            \n",
    "            keywords.append(keyword_obj)\n",
    "            \n",
    "\n",
    "        article = Article(doi=paper_data[\"doi\"], title=paper_data[\"title\"], publication_year=2024, abstract=paper_data[\"abstract\"], keywords=keywords)\n",
    "        session.add(article)\n",
    "        session.commit()"
   ]
  },
  {
   "cell_type": "markdown",
   "metadata": {},
   "source": [
    "The cell below shows querying the `article` table for articles that have keywords that contain the phrase \"molecular dynamics\".\n",
    "The Python code for `stmt` results in a SQL Alchemy query being built, as showin printed below."
   ]
  },
  {
   "cell_type": "code",
   "execution_count": null,
   "metadata": {},
   "outputs": [],
   "source": [
    "stmt = select(Article).where(\n",
    "        Article.keywords.any(Keyword.keyword.contains(\"molecular dynamics\"))\n",
    ") \n",
    "\n",
    "print(stmt)"
   ]
  },
  {
   "cell_type": "code",
   "execution_count": null,
   "metadata": {},
   "outputs": [],
   "source": [
    "# perform query\n",
    "result = session.exec(stmt).all()\n",
    "\n",
    "print(len(result))"
   ]
  }
 ],
 "metadata": {
  "kernelspec": {
   "display_name": "Python 3 (ipykernel)",
   "language": "python",
   "name": "python3"
  },
  "language_info": {
   "codemirror_mode": {
    "name": "ipython",
    "version": 3
   },
   "file_extension": ".py",
   "mimetype": "text/x-python",
   "name": "python",
   "nbconvert_exporter": "python",
   "pygments_lexer": "ipython3",
   "version": "3.12.5"
  }
 },
 "nbformat": 4,
 "nbformat_minor": 4
}
