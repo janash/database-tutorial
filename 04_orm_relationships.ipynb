{
 "cells": [
  {
   "cell_type": "markdown",
   "metadata": {},
   "source": [
    "## Adding Relationships\n",
    "\n",
    "Our tables are now fully defined as we had discussed in the previous notebooks.\n",
    "However, we can also use SQLModel to add additional relationships between tables.\n",
    "\n",
    "Although not discussed in the previous notebook, if we wanted to query our previous database for an article and access the keywords,\n",
    "we would have to either do two queries or we would need to do a SQL `join` operation.\n",
    "However, when using an ORM, we can define additional relationships on the tables that allow us to access this more easily\n",
    "\n",
    "In this next section, we'll add relationships to our SQLModel models.\n",
    "To get started, we'll remove our old database and get started with a new one"
   ]
  },
  {
   "cell_type": "markdown",
   "metadata": {},
   "source": [
    "The cell below redefines our associative tables first, then repeats our `Author` definition.\n",
    "A final line is added to both `Article` and `Author` that defines a relationship between articles and authors.\n",
    "\n",
    "```\n",
    "authors: List[\"Author\"] = Relationship(back_populates=\"articles\", link_model=ArticleAuthor)\n",
    "```\n",
    "\n",
    "This defines a `relationship` on the `article` table. It says when we access an article we should get a list of `Author` objects with the article.\n",
    "We are also telling the ORM that these two are linked using the `AriticleAuthor` table.\n",
    "\n",
    "Now when working with our objects we can use `Article.authors` or `Author.articles` to reference across tables.\n",
    "\n"
   ]
  },
  {
   "cell_type": "code",
   "execution_count": 1,
   "metadata": {},
   "outputs": [],
   "source": [
    "import os \n",
    "\n",
    "from typing import Optional, List\n",
    "\n",
    "from sqlmodel import Field, SQLModel, Session, Relationship, create_engine"
   ]
  },
  {
   "cell_type": "code",
   "execution_count": 2,
   "metadata": {},
   "outputs": [],
   "source": [
    "class ArticleKeyword(SQLModel, table=True):\n",
    "    __table_args__ = {\"extend_existing\": True} # This lets us run the Jupyter notebook cell multiple times without error\n",
    "    \n",
    "    article_doi: str = Field(foreign_key=\"article.doi\", primary_key=True)\n",
    "    keyword_id: str = Field(foreign_key=\"keyword.id\", primary_key=True)\n",
    "\n",
    "class ArticleAuthor(SQLModel, table=True):\n",
    "    __table_args__ = {\"extend_existing\": True}\n",
    "\n",
    "    article_doi: str = Field(foreign_key=\"article.doi\", primary_key=True)\n",
    "    author_id: str = Field(foreign_key=\"author.id\", primary_key=True)\n",
    "\n",
    "\n",
    "class Article(SQLModel, table=True):\n",
    "    __table_args__ = {\"extend_existing\": True}\n",
    "    \n",
    "    doi: str = Field(primary_key=True)\n",
    "    title: str\n",
    "    publication_year: int\n",
    "    abstract: Optional[str] = Field(default=None)\n",
    "\n",
    "    authors: List[\"Author\"] = Relationship(back_populates=\"articles\", link_model=ArticleAuthor)\n",
    "\n",
    "class Author(SQLModel, table=True):\n",
    "    __table_args__ = {\"extend_existing\": True}\n",
    "\n",
    "    id: None | int = Field(primary_key=True)\n",
    "    first_name: str\n",
    "    last_name: str\n",
    "    affiliation: Optional[str] = Field(default=None)\n",
    "\n",
    "    articles: List[\"Article\"] = Relationship(back_populates=\"authors\", link_model=ArticleAuthor)\n"
   ]
  },
  {
   "cell_type": "markdown",
   "metadata": {},
   "source": [
    "<div class=\"alert alert-block alert-warning\">\n",
    "\n",
    "## Exercise\n",
    "Redefine the Keyword table and add a relationship with `Article`.\n",
    "</div>"
   ]
  },
  {
   "cell_type": "code",
   "execution_count": 3,
   "metadata": {},
   "outputs": [
    {
     "name": "stderr",
     "output_type": "stream",
     "text": [
      "/home/janash/miniconda3/envs/database-tutorial/lib/python3.12/site-packages/sqlmodel/main.py:638: SAWarning: This declarative base already contains a class with the same class name and module name as __main__.Article, and will be replaced in the string-lookup table.\n",
      "  DeclarativeMeta.__init__(cls, classname, bases, dict_, **kw)\n"
     ]
    }
   ],
   "source": [
    "class Article(SQLModel, table=True):\n",
    "    __table_args__ = {\"extend_existing\": True}\n",
    "    \n",
    "    doi: str = Field(primary_key=True)\n",
    "    title: str\n",
    "    publication_year: int\n",
    "    abstract: Optional[str] = Field(default=None)\n",
    "\n",
    "    authors: List[\"Author\"] = Relationship(back_populates=\"articles\", link_model=ArticleAuthor)\n",
    "\n",
    "## Add Keyword with relationship here\n",
    "\n",
    "\n",
    "class Keyword(SQLModel, table=True):\n",
    "    __table_args__ = {\"extend_existing\": True}\n",
    "\n",
    "    id: None | int = Field(primary_key=True)\n",
    "    keyword: str = Field(unique=True, index=True)\n",
    "\n",
    "    articles: list[\"Article\"] = Relationship(back_populates=\"keywords\", link_model=ArticleKeyword)"
   ]
  },
  {
   "cell_type": "code",
   "execution_count": 5,
   "metadata": {},
   "outputs": [
    {
     "name": "stdout",
     "output_type": "stream",
     "text": [
      "2024-08-28 04:51:11,862 INFO sqlalchemy.engine.Engine BEGIN (implicit)\n",
      "2024-08-28 04:51:11,870 INFO sqlalchemy.engine.Engine PRAGMA main.table_info(\"articlekeyword\")\n",
      "2024-08-28 04:51:11,875 INFO sqlalchemy.engine.Engine [raw sql] ()\n",
      "2024-08-28 04:51:11,876 INFO sqlalchemy.engine.Engine PRAGMA temp.table_info(\"articlekeyword\")\n",
      "2024-08-28 04:51:11,887 INFO sqlalchemy.engine.Engine [raw sql] ()\n",
      "2024-08-28 04:51:11,888 INFO sqlalchemy.engine.Engine PRAGMA main.table_info(\"articleauthor\")\n",
      "2024-08-28 04:51:11,889 INFO sqlalchemy.engine.Engine [raw sql] ()\n",
      "2024-08-28 04:51:11,890 INFO sqlalchemy.engine.Engine PRAGMA temp.table_info(\"articleauthor\")\n",
      "2024-08-28 04:51:11,891 INFO sqlalchemy.engine.Engine [raw sql] ()\n",
      "2024-08-28 04:51:11,891 INFO sqlalchemy.engine.Engine PRAGMA main.table_info(\"article\")\n",
      "2024-08-28 04:51:11,892 INFO sqlalchemy.engine.Engine [raw sql] ()\n",
      "2024-08-28 04:51:11,893 INFO sqlalchemy.engine.Engine PRAGMA temp.table_info(\"article\")\n",
      "2024-08-28 04:51:11,893 INFO sqlalchemy.engine.Engine [raw sql] ()\n",
      "2024-08-28 04:51:11,894 INFO sqlalchemy.engine.Engine PRAGMA main.table_info(\"author\")\n",
      "2024-08-28 04:51:11,894 INFO sqlalchemy.engine.Engine [raw sql] ()\n",
      "2024-08-28 04:51:11,896 INFO sqlalchemy.engine.Engine PRAGMA temp.table_info(\"author\")\n",
      "2024-08-28 04:51:11,896 INFO sqlalchemy.engine.Engine [raw sql] ()\n",
      "2024-08-28 04:51:11,897 INFO sqlalchemy.engine.Engine PRAGMA main.table_info(\"keyword\")\n",
      "2024-08-28 04:51:11,898 INFO sqlalchemy.engine.Engine [raw sql] ()\n",
      "2024-08-28 04:51:11,899 INFO sqlalchemy.engine.Engine PRAGMA temp.table_info(\"keyword\")\n",
      "2024-08-28 04:51:11,899 INFO sqlalchemy.engine.Engine [raw sql] ()\n",
      "2024-08-28 04:51:11,901 INFO sqlalchemy.engine.Engine \n",
      "CREATE TABLE article (\n",
      "\tdoi VARCHAR NOT NULL, \n",
      "\ttitle VARCHAR NOT NULL, \n",
      "\tpublication_year INTEGER NOT NULL, \n",
      "\tabstract VARCHAR, \n",
      "\tPRIMARY KEY (doi)\n",
      ")\n",
      "\n",
      "\n",
      "2024-08-28 04:51:11,901 INFO sqlalchemy.engine.Engine [no key 0.00046s] ()\n"
     ]
    },
    {
     "name": "stdout",
     "output_type": "stream",
     "text": [
      "2024-08-28 04:51:11,929 INFO sqlalchemy.engine.Engine \n",
      "CREATE TABLE author (\n",
      "\tid INTEGER NOT NULL, \n",
      "\tfirst_name VARCHAR NOT NULL, \n",
      "\tlast_name VARCHAR NOT NULL, \n",
      "\taffiliation VARCHAR, \n",
      "\tPRIMARY KEY (id)\n",
      ")\n",
      "\n",
      "\n",
      "2024-08-28 04:51:11,930 INFO sqlalchemy.engine.Engine [no key 0.00088s] ()\n",
      "2024-08-28 04:51:11,939 INFO sqlalchemy.engine.Engine \n",
      "CREATE TABLE keyword (\n",
      "\tid INTEGER NOT NULL, \n",
      "\tkeyword VARCHAR NOT NULL, \n",
      "\tPRIMARY KEY (id)\n",
      ")\n",
      "\n",
      "\n",
      "2024-08-28 04:51:11,939 INFO sqlalchemy.engine.Engine [no key 0.00065s] ()\n",
      "2024-08-28 04:51:11,948 INFO sqlalchemy.engine.Engine CREATE UNIQUE INDEX ix_keyword_keyword ON keyword (keyword)\n",
      "2024-08-28 04:51:11,949 INFO sqlalchemy.engine.Engine [no key 0.00101s] ()\n",
      "2024-08-28 04:51:11,960 INFO sqlalchemy.engine.Engine \n",
      "CREATE TABLE articlekeyword (\n",
      "\tarticle_doi VARCHAR NOT NULL, \n",
      "\tkeyword_id VARCHAR NOT NULL, \n",
      "\tPRIMARY KEY (article_doi, keyword_id), \n",
      "\tFOREIGN KEY(article_doi) REFERENCES article (doi), \n",
      "\tFOREIGN KEY(keyword_id) REFERENCES keyword (id)\n",
      ")\n",
      "\n",
      "\n",
      "2024-08-28 04:51:11,961 INFO sqlalchemy.engine.Engine [no key 0.00084s] ()\n",
      "2024-08-28 04:51:11,971 INFO sqlalchemy.engine.Engine \n",
      "CREATE TABLE articleauthor (\n",
      "\tarticle_doi VARCHAR NOT NULL, \n",
      "\tauthor_id VARCHAR NOT NULL, \n",
      "\tPRIMARY KEY (article_doi, author_id), \n",
      "\tFOREIGN KEY(article_doi) REFERENCES article (doi), \n",
      "\tFOREIGN KEY(author_id) REFERENCES author (id)\n",
      ")\n",
      "\n",
      "\n",
      "2024-08-28 04:51:11,971 INFO sqlalchemy.engine.Engine [no key 0.00085s] ()\n",
      "2024-08-28 04:51:11,981 INFO sqlalchemy.engine.Engine COMMIT\n"
     ]
    }
   ],
   "source": [
    "sqlite_file_name = \"sqlmodel_database.db\"\n",
    "sqlite_url = f\"sqlite:///{sqlite_file_name}\"\n",
    "\n",
    "engine = create_engine(sqlite_url, echo=True)\n",
    "\n",
    "SQLModel.metadata.create_all(engine)"
   ]
  },
  {
   "cell_type": "code",
   "execution_count": null,
   "metadata": {},
   "outputs": [],
   "source": []
  }
 ],
 "metadata": {
  "kernelspec": {
   "display_name": "database-tutorial",
   "language": "python",
   "name": "python3"
  },
  "language_info": {
   "codemirror_mode": {
    "name": "ipython",
    "version": 3
   },
   "file_extension": ".py",
   "mimetype": "text/x-python",
   "name": "python",
   "nbconvert_exporter": "python",
   "pygments_lexer": "ipython3",
   "version": "3.12.5"
  }
 },
 "nbformat": 4,
 "nbformat_minor": 2
}
