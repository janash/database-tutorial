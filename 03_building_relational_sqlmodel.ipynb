{
 "cells": [
  {
   "cell_type": "markdown",
   "metadata": {},
   "source": [
    "<div style=\"text-align:center;\">\n",
    "  <img src=\"images/molssi_main_horizontal.png\" style=\"display: block; margin: 0 auto; max-height:200px;\">\n",
    "</div>\n",
    "\n",
    "# Building a Database with SQLModel\n",
    "\n",
    "<strong>Author(s):</strong> Jessica A. Nash, The Molecular Sciences Software Institute\n",
    "\n",
    "<div class=\"alert alert-block alert-info\"> \n",
    "<h2>Overview</h2>\n",
    "\n",
    "<strong>Questions:</strong>\n",
    "\n",
    "* What is an ORM and why is it useful in database management?\n",
    "* What are common Python packages for ORMs?\n",
    "* What are the benefits of using ORMs?\n",
    "* How do I create databases using SQL model.\n",
    "\n",
    "<strong>Objectives:</strong>\n",
    "\n",
    "* Create a database table structure using SQLModel.\n",
    "\n",
    "</div>\n",
    "\n",
    "In the previous notebook, we learned about SQL queries and how to build a SQLite database by building queries and executing them using Python.\n",
    "When we took this approach, we had to write the SQL ourselves, which can be time-consuming and error-prone, and also varies depending on the database system we are using.\n",
    "In this notebook, we'll learn about a Python library called SQLModel that can be used to build databases by writing Python classes. The classes are then used to create the database schema and interact with the database without writing SQL queries.\n",
    "\n",
    "SQLModel is something called an  ORM, or an \"object-relational mapping\" library. \n",
    "An ORM is a programming technique for converting data between incompatible type systems using object-oriented programming languages. \n",
    "This allows us to interact with a database using Python objects, which can make our code more readable and maintainable.\n",
    "\n",
    "The \"classic\" ORM in Python is [SQLAlchemy](https://www.sqlalchemy.org/), which is a very powerful and flexible library.\n",
    "Many of MolSSI's own projects such as QCArchive or SEAMM use SQLAlchemy for their databases.\n",
    "SQLModel is a more \"modern\" ORM that is built on top of SQLAlchemy, and is designed to be easier to use and more Pythonic.\n",
    "SQLModel combines SQLAlchemy with data validation through [Pydantic](https://docs.pydantic.dev/latest/) and is easier to plug into apps like APIs using FastAPI.\n",
    "\n",
    "This notebook starts with a convenience function for removing the database we will create in it (this is in case you run the notebook more than once!)"
   ]
  },
  {
   "cell_type": "code",
   "execution_count": null,
   "metadata": {},
   "outputs": [],
   "source": [
    "import os\n",
    "\n",
    "def remove_db():\n",
    "    \"\"\"Convenience function to remove database file for notebook.\"\"\"\n",
    "    if os.path.exists(\"sqlmodel_database.db\"):\n",
    "        os.remove(\"sqlmodel_database.db\")\n",
    "\n",
    "remove_db()"
   ]
  },
  {
   "cell_type": "markdown",
   "metadata": {},
   "source": [
    "## Defining a Table using SQLModel\n",
    "\n",
    "When using an ORM, you define tables using Python classes and inheritance.\n",
    "Briefly, inheritance is a way to define a new class that inherits attributes and methods from an existing class.\n",
    "The classes will start with  the behavior of some base class, and is extended through additional code definition.\n",
    "\n",
    "In the case of SQLModel, we can create a SQL table by inheriting from the class `SQLModel` and setting the `table` argument to `True`.\n",
    "Defining the columns of the table is very similar to defining a model using Pydantic.\n",
    "SQLModel uses SQLAlchemy, a standard ORM in Python coupled with Pydantic for validation, making it a bit quicker to prototype than SQLAlchemy.\n",
    "Each column is given a name by adding a class attribute to your class. \n",
    "The name of the column will correspond to the name of the attribue in the class.\n",
    "The name of the SQL table will correspond to the name of the class, but in all lower case.\n",
    "\n",
    "When using SQLModel, The attributes (columns) must be accompanied by type-hinting.\n",
    "This will allow SQLModel to map the Python type of the variable to the SQL type.\n",
    "\n",
    "Finally, if there are any constraints on the column such as a primary key or uniqueness, \n",
    "that is added by using the `SQLModel` `Field` object.\n",
    "\n",
    "In the cell below, we have defined columns for the `Article` table.\n",
    "The class is set up to define a SQL table that has fields named `doi` (type `str`), `title` (type `str`), `publication_year` (type `int`), `abstract` (`optional`, type `str`, default `None`)."
   ]
  },
  {
   "cell_type": "code",
   "execution_count": null,
   "metadata": {},
   "outputs": [],
   "source": [
    "from typing import Optional\n",
    "\n",
    "from sqlmodel import Field, SQLModel, Session, create_engine\n",
    "\n",
    "class Article(SQLModel, table=True):\n",
    "    \n",
    "    doi: str = Field(primary_key=True)\n",
    "    title: str\n",
    "    publication_year: int\n",
    "    abstract: Optional[str] = Field(default=None)"
   ]
  },
  {
   "cell_type": "markdown",
   "metadata": {},
   "source": [
    "After defining a single table, we can use SQLModel to create and connect to a database."
   ]
  },
  {
   "cell_type": "code",
   "execution_count": null,
   "metadata": {},
   "outputs": [],
   "source": [
    "sqlite_file_name = \"sqlmodel_database.db\"\n",
    "sqlite_url = f\"sqlite:///{sqlite_file_name}\"\n",
    "\n",
    "engine = create_engine(sqlite_url, echo=True)"
   ]
  },
  {
   "cell_type": "markdown",
   "metadata": {},
   "source": [
    "For the purposes of this tutorial, we're using the `echo=True` option to the SQL engine. \n",
    "This was set in the cell above.\n",
    "When you work with objects in SQLModel, the library is building and executing the SQL queries under the hood.\n",
    "The library will construct queries of the appropriate SQL dialect depending on what type of SQL database you are connecting to.\n",
    "Using `echo=True` when using a SQLite database will show us the SQL queries being executed, but if we were to use a different type of SQL database, we would see those types of queries.\n",
    "\n",
    "Our database is currently created but empty. To actually add tables to our database, we use `SQLModel.metadata.create_all` and pass in our database engine.\n",
    "SQLModel will automatically create tables for any classes we've defined using `SQLModel` and the `table=True` argument."
   ]
  },
  {
   "cell_type": "code",
   "execution_count": null,
   "metadata": {},
   "outputs": [],
   "source": [
    "SQLModel.metadata.create_all(engine)"
   ]
  },
  {
   "cell_type": "markdown",
   "metadata": {},
   "source": [
    "In the cell output above, you will be able to see the SQL query that SQLModel constructed to build our table, namely\n",
    "\n",
    "```sql\n",
    "CREATE TABLE article (\n",
    "\tdoi VARCHAR NOT NULL, \n",
    "\ttitle VARCHAR NOT NULL, \n",
    "\tpublication_year INTEGER NOT NULL, \n",
    "\tabstract VARCHAR, \n",
    "\tPRIMARY KEY (doi)\n",
    ")\n",
    "```\n",
    "\n",
    "Instead of us writing the SQL statement as we did in the last notebook, the ORM translates our object to SQL code and executes it for us.\n",
    "\n",
    "If you view your database file now, you will see a databbase with a single `Article` table. \n",
    "SQLModel (using SQLAlchemy underneath) has mapped our Python class to a SQL statement for creating a table.\n",
    "\n",
    "<div class=\"alert alert-block alert-warning\">\n",
    "\n",
    "## Exercise\n",
    "Create classes for the `keyword` table and the `author` table.\n",
    "\n",
    "The `author` table should have : `id` (integer, primary key), `first_name`, `last_name`, `affiliation` (optional). See note below for author ID.\n",
    "\n",
    "The `keyword` table should have `id` (integer, primary key) and `keyword`.\n",
    "\n",
    "For the `id` columns on both tables. To make the `id` autoincrement without the user adding an ID, use `None | int` or `Optional[int]` as the type. \n",
    "This will allow someone to not pass in an author ID an have the table autoincrement.\n",
    "</div>\n"
   ]
  },
  {
   "cell_type": "code",
   "execution_count": null,
   "metadata": {},
   "outputs": [],
   "source": [
    "# Complete exercise here\n",
    "\n"
   ]
  },
  {
   "cell_type": "code",
   "execution_count": null,
   "metadata": {},
   "outputs": [],
   "source": [
    "SQLModel.metadata.create_all(engine)"
   ]
  },
  {
   "cell_type": "markdown",
   "metadata": {},
   "source": [
    "### Associative Tables\n",
    "\n",
    "Finally for our associative tables we add `foreign_key` to our column fields referencing our other tables, and create our composite primary key by making both columns primary keys."
   ]
  },
  {
   "cell_type": "code",
   "execution_count": null,
   "metadata": {},
   "outputs": [],
   "source": [
    "class ArticleKeyword(SQLModel, table=True):\n",
    "    __table_args__ = {\"extend_existing\": True} # This lets us run the Jupyter notebook cell multiple times without error\n",
    "    \n",
    "    article_doi: str = Field(foreign_key=\"article.doi\", primary_key=True)\n",
    "    keyword_id: int = Field(foreign_key=\"keyword.id\", primary_key=True)\n"
   ]
  },
  {
   "cell_type": "markdown",
   "metadata": {},
   "source": [
    "<div class=\"alert alert-block alert-warning\">\n",
    "\n",
    "## Exercise\n",
    "\n",
    "Define the `ArticleAuthor` associative table.\n",
    "\n",
    "</div>"
   ]
  },
  {
   "cell_type": "code",
   "execution_count": null,
   "metadata": {},
   "outputs": [],
   "source": []
  },
  {
   "cell_type": "markdown",
   "metadata": {},
   "source": [
    "The cell below adds our new tables to the database."
   ]
  },
  {
   "cell_type": "code",
   "execution_count": null,
   "metadata": {},
   "outputs": [],
   "source": [
    "SQLModel.metadata.create_all(engine)"
   ]
  },
  {
   "cell_type": "markdown",
   "metadata": {},
   "source": [
    "## Adding Data to the Database\n",
    "\n",
    "Now that we've defined our database schema, we can add data to the database.\n",
    "We'll use the paper we've retrieved from ChemRxiv to demonstrate."
   ]
  },
  {
   "cell_type": "code",
   "execution_count": null,
   "metadata": {},
   "outputs": [],
   "source": [
    "import json\n",
    "\n",
    "\n",
    "datafile = \"data/one_paper.json\"\n",
    "\n",
    "with open(datafile) as f:\n",
    "    search_data = json.load(f)\n",
    "\n",
    "paper_data = search_data[\"itemHits\"][0][\"item\"]\n",
    "print(paper_data)"
   ]
  },
  {
   "cell_type": "markdown",
   "metadata": {},
   "source": [
    "To add data to the database, we create instances of our objects.\n",
    "We first create a database session using `Session` with our engine. \n",
    "We add a row to our `article` table by using our `Article` class and passing in the required arguments (the columns we defined in the class).\n",
    "\n",
    "```python\n",
    "Article(doi=paper_data[\"doi\"], title=paper_data[\"title\"], publication_year=2024, abstract=paper_data[\"abstract\"])\n",
    "```\n",
    "\n",
    "Then, we can add the row to the database session using `session.add()`.\n",
    "Finally, we commit the changes to the database using `session.commit()`.\n",
    "\n",
    "We follow the same process for adding each keyword associated with the paper to the database.\n",
    "In the example below, we are normalizing the keywords by converting all of them to lowercase before adding them to the database.\n"
   ]
  },
  {
   "cell_type": "code",
   "execution_count": null,
   "metadata": {},
   "outputs": [],
   "source": [
    "with Session(engine) as session:\n",
    "\n",
    "    first_article = Article(doi=paper_data[\"doi\"], title=paper_data[\"title\"], publication_year=2024, abstract=paper_data[\"abstract\"])\n",
    "    session.add(first_article)\n",
    "    session.commit()\n",
    "\n",
    "    for keyword in paper_data[\"keywords\"]:\n",
    "        keyword_obj = Keyword(keyword=keyword.lower())\n",
    "        session.add(keyword_obj)\n",
    "        session.commit()"
   ]
  },
  {
   "cell_type": "markdown",
   "metadata": {},
   "source": [
    "Although defining these models has made some things about connecting to the database and defining tables simpler, we're still missing an easy way to add and access data across our associative tables.\n",
    "Luckily, ORM's have functionality built in to make this easier. \n",
    "We'll have to redefine our models for this, so we'll move on to the next notebook."
   ]
  }
 ],
 "metadata": {
  "kernelspec": {
   "display_name": "Python 3 (ipykernel)",
   "language": "python",
   "name": "python3"
  },
  "language_info": {
   "codemirror_mode": {
    "name": "ipython",
    "version": 3
   },
   "file_extension": ".py",
   "mimetype": "text/x-python",
   "name": "python",
   "nbconvert_exporter": "python",
   "pygments_lexer": "ipython3",
   "version": "3.12.5"
  }
 },
 "nbformat": 4,
 "nbformat_minor": 4
}
