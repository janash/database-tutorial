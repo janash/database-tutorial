{
 "cells": [
  {
   "cell_type": "markdown",
   "metadata": {},
   "source": [
    "<div style=\"text-align:center;\">\n",
    "  <img src=\"images/molssi_main_horizontal.png\" style=\"display: block; margin: 0 auto; max-height:200px;\">\n",
    "</div>\n",
    "\n",
    "# Building a Database with SQLModel\n",
    "\n",
    "<strong>Author(s):</strong> Jessica A. Nash, The Molecular Sciences Software Institute\n",
    "\n",
    "<div class=\"alert alert-block alert-info\"> \n",
    "<h2>Overview</h2>\n",
    "\n",
    "<strong>Questions:</strong>\n",
    "\n",
    "\n",
    "<strong>Objectives:</strong>\n",
    "\n",
    "</div>\n",
    "\n"
   ]
  },
  {
   "cell_type": "code",
   "execution_count": 1,
   "metadata": {},
   "outputs": [],
   "source": [
    "import os \n",
    "\n",
    "from typing import Optional, List\n",
    "\n",
    "from sqlmodel import Field, SQLModel, Session, create_engine"
   ]
  },
  {
   "cell_type": "markdown",
   "metadata": {},
   "source": [
    "Explanation here."
   ]
  },
  {
   "cell_type": "code",
   "execution_count": 2,
   "metadata": {},
   "outputs": [],
   "source": [
    "def remove_db():\n",
    "    \"\"\"Convenience function to remove database file for notebook.\"\"\"\n",
    "    if os.path.exists(\"sqlmodel_database.db\"):\n",
    "        os.remove(\"sqlmodel_database.db\")\n",
    "\n",
    "remove_db()"
   ]
  },
  {
   "cell_type": "markdown",
   "metadata": {},
   "source": [
    "## Defining a Table using SQLModel\n",
    "\n",
    "When using an ORM, you define tables using Python classes using inheritance.\n",
    "The classes will inherit from some base class that defines the behavior of the object.\n",
    "\n",
    "In the case of SQLModel, we can create a SQL table by inheriting from the class `SQLModel` and setting the `table` argument to `True`.\n",
    "Defining the columns of the table is very similar to defining a model using [Pydantic].\n",
    "SQLModel uses SQLAlchemy, a standard ORM in Python coupled with Pydantic for validation, making it a bit quicker to prototype than SQLAlchemy.\n",
    "Each column is given a name by adding a class attribute to your class. \n",
    "The name of the column will correspond to the name of the attribue in the class.\n",
    "The name of the SQL table will correspond to the name of the class, but in all lower case.\n",
    "\n",
    "The attributes must be accompanied by type-hinting.\n",
    "This will allow SQLModel to map the Python type of the variable to the SQL type.\n",
    "\n",
    "Finally, if there are any constraints on the column such as a primary key or uniqueness, \n",
    "that is added by using the `SQLModel` field object.\n",
    "\n",
    "In the cell below, we have defined columns for the `Article` table."
   ]
  },
  {
   "cell_type": "code",
   "execution_count": 3,
   "metadata": {},
   "outputs": [],
   "source": [
    "class Article(SQLModel, table=True):\n",
    "    \n",
    "    doi: str = Field(primary_key=True)\n",
    "    title: str\n",
    "    publication_year: int\n",
    "    abstract: Optional[str] = Field(default=None)"
   ]
  },
  {
   "cell_type": "markdown",
   "metadata": {},
   "source": [
    "After defining a single table, we can use SQLModel to create and connect to a database."
   ]
  },
  {
   "cell_type": "code",
   "execution_count": 4,
   "metadata": {},
   "outputs": [],
   "source": [
    "sqlite_file_name = \"sqlmodel_database.db\"\n",
    "sqlite_url = f\"sqlite:///{sqlite_file_name}\"\n",
    "\n",
    "engine = create_engine(sqlite_url, echo=True)"
   ]
  },
  {
   "cell_type": "markdown",
   "metadata": {},
   "source": [
    "For the purposes of this tutorial, we're using the `echo=True` option to the SQL engine. \n",
    "This was set in the cell above.\n",
    "When you work with objects in SQLModel, the library is building and executing the SQL queries under the hood.\n",
    "The library will construct queries of the appropriate SQL dialect depending on what type of SQL database you are connecting to.\n",
    "Using `echo=True` when using a SQLite database will show us the SQL queries being executed, but if we were to use a different type of SQL database, we would see those types of queries.\n",
    "\n",
    "Our database is currently created but empty. To actually add tables to our database, we use `SQLModel.metadata.create_all` and pass in our database engine.\n",
    "SQLModel will automatically create tables for any classes we've defined using `SQLModel` and the `table=True` argument."
   ]
  },
  {
   "cell_type": "code",
   "execution_count": 5,
   "metadata": {},
   "outputs": [
    {
     "name": "stdout",
     "output_type": "stream",
     "text": [
      "2024-08-29 10:59:01,111 INFO sqlalchemy.engine.Engine BEGIN (implicit)\n",
      "2024-08-29 10:59:01,111 INFO sqlalchemy.engine.Engine PRAGMA main.table_info(\"article\")\n",
      "2024-08-29 10:59:01,112 INFO sqlalchemy.engine.Engine [raw sql] ()\n",
      "2024-08-29 10:59:01,113 INFO sqlalchemy.engine.Engine PRAGMA temp.table_info(\"article\")\n",
      "2024-08-29 10:59:01,114 INFO sqlalchemy.engine.Engine [raw sql] ()\n",
      "2024-08-29 10:59:01,116 INFO sqlalchemy.engine.Engine \n",
      "CREATE TABLE article (\n",
      "\tdoi VARCHAR NOT NULL, \n",
      "\ttitle VARCHAR NOT NULL, \n",
      "\tpublication_year INTEGER NOT NULL, \n",
      "\tabstract VARCHAR, \n",
      "\tPRIMARY KEY (doi)\n",
      ")\n",
      "\n",
      "\n",
      "2024-08-29 10:59:01,116 INFO sqlalchemy.engine.Engine [no key 0.00066s] ()\n",
      "2024-08-29 10:59:01,134 INFO sqlalchemy.engine.Engine COMMIT\n"
     ]
    }
   ],
   "source": [
    "SQLModel.metadata.create_all(engine)"
   ]
  },
  {
   "cell_type": "markdown",
   "metadata": {},
   "source": [
    "In the cell output above, you will be able to see the SQL query that SQLModel constructed to build our table, namely\n",
    "\n",
    "```sql\n",
    "CREATE TABLE article (\n",
    "\tdoi VARCHAR NOT NULL, \n",
    "\ttitle VARCHAR NOT NULL, \n",
    "\tpublication_year INTEGER NOT NULL, \n",
    "\tabstract VARCHAR, \n",
    "\tPRIMARY KEY (doi)\n",
    ")\n",
    "```\n",
    "\n",
    "Instead of us writing the SQL statement as we did in the last notebook, the ORM translates our object to SQL code and executes it for us.\n",
    "\n",
    "If you view your database file now, you will see a databbase with a single `Article` table. \n",
    "SQLModel (using SQLAlchemy underneath) has mapped our Python class to a SQL statement for creating a table.\n",
    "\n",
    "<div class=\"alert alert-block alert-warning\">\n",
    "\n",
    "## Exercise\n",
    "Create classes for the `keyword` table and the `author` table.\n",
    "\n",
    "The `author` table should have : `id` (integer, primary key), `first_name`, `last_name`, `affiliation` (optional). See note below for author ID.\n",
    "\n",
    "The `keyword` table should have `id` (integer, primary key) and `keyword`.\n",
    "\n",
    "For the `id` columns on both tables, use `None | int` as the type. \n",
    "This will allow someone to not pass in an author ID an have the table autoincrement.\n",
    "</div>\n"
   ]
  },
  {
   "cell_type": "code",
   "execution_count": 6,
   "metadata": {},
   "outputs": [],
   "source": [
    "class Author(SQLModel, table=True):\n",
    "\n",
    "    id: None | int = Field(primary_key=True)\n",
    "    first_name: str\n",
    "    last_name: str\n",
    "    affiliation: Optional[str] = Field(default=None)\n",
    "\n",
    "class Keyword(SQLModel, table=True):\n",
    "\n",
    "    id: None | int = Field(primary_key=True)\n",
    "    keyword: str = Field(unique=True, index=True)"
   ]
  },
  {
   "cell_type": "code",
   "execution_count": 7,
   "metadata": {},
   "outputs": [
    {
     "name": "stdout",
     "output_type": "stream",
     "text": [
      "2024-08-29 10:59:05,323 INFO sqlalchemy.engine.Engine BEGIN (implicit)\n",
      "2024-08-29 10:59:05,326 INFO sqlalchemy.engine.Engine PRAGMA main.table_info(\"article\")\n",
      "2024-08-29 10:59:05,326 INFO sqlalchemy.engine.Engine [raw sql] ()\n",
      "2024-08-29 10:59:05,328 INFO sqlalchemy.engine.Engine PRAGMA main.table_info(\"author\")\n",
      "2024-08-29 10:59:05,329 INFO sqlalchemy.engine.Engine [raw sql] ()\n",
      "2024-08-29 10:59:05,331 INFO sqlalchemy.engine.Engine PRAGMA temp.table_info(\"author\")\n",
      "2024-08-29 10:59:05,331 INFO sqlalchemy.engine.Engine [raw sql] ()\n",
      "2024-08-29 10:59:05,332 INFO sqlalchemy.engine.Engine PRAGMA main.table_info(\"keyword\")\n",
      "2024-08-29 10:59:05,333 INFO sqlalchemy.engine.Engine [raw sql] ()\n",
      "2024-08-29 10:59:05,334 INFO sqlalchemy.engine.Engine PRAGMA temp.table_info(\"keyword\")\n",
      "2024-08-29 10:59:05,334 INFO sqlalchemy.engine.Engine [raw sql] ()\n",
      "2024-08-29 10:59:05,335 INFO sqlalchemy.engine.Engine \n",
      "CREATE TABLE author (\n",
      "\tid INTEGER NOT NULL, \n",
      "\tfirst_name VARCHAR NOT NULL, \n",
      "\tlast_name VARCHAR NOT NULL, \n",
      "\taffiliation VARCHAR, \n",
      "\tPRIMARY KEY (id)\n",
      ")\n",
      "\n",
      "\n",
      "2024-08-29 10:59:05,336 INFO sqlalchemy.engine.Engine [no key 0.00050s] ()\n",
      "2024-08-29 10:59:05,345 INFO sqlalchemy.engine.Engine \n",
      "CREATE TABLE keyword (\n",
      "\tid INTEGER NOT NULL, \n",
      "\tkeyword VARCHAR NOT NULL, \n",
      "\tPRIMARY KEY (id)\n",
      ")\n",
      "\n",
      "\n",
      "2024-08-29 10:59:05,346 INFO sqlalchemy.engine.Engine [no key 0.00065s] ()\n",
      "2024-08-29 10:59:05,356 INFO sqlalchemy.engine.Engine CREATE UNIQUE INDEX ix_keyword_keyword ON keyword (keyword)\n",
      "2024-08-29 10:59:05,357 INFO sqlalchemy.engine.Engine [no key 0.00060s] ()\n",
      "2024-08-29 10:59:05,366 INFO sqlalchemy.engine.Engine COMMIT\n"
     ]
    }
   ],
   "source": [
    "SQLModel.metadata.create_all(engine)"
   ]
  },
  {
   "cell_type": "markdown",
   "metadata": {},
   "source": [
    "### Associative Tables\n",
    "\n",
    "Finally for our associative tables we add `foreign_key` to our column fields referencing our other tables, and create our composite primary key by making both columns primary keys."
   ]
  },
  {
   "cell_type": "code",
   "execution_count": 8,
   "metadata": {},
   "outputs": [],
   "source": [
    "class ArticleKeyword(SQLModel, table=True):\n",
    "    __table_args__ = {\"extend_existing\": True} # This lets us run the Jupyter notebook cell multiple times without error\n",
    "    \n",
    "    article_doi: str = Field(foreign_key=\"article.doi\", primary_key=True)\n",
    "    keyword_id: str = Field(foreign_key=\"keyword.id\", primary_key=True)\n",
    "\n",
    "class ArticleAuthor(SQLModel, table=True):\n",
    "    __table_args__ = {\"extend_existing\": True}\n",
    "\n",
    "    article_doi: str = Field(foreign_key=\"article.doi\", primary_key=True)\n",
    "    author_id: str = Field(foreign_key=\"author.id\", primary_key=True)"
   ]
  },
  {
   "cell_type": "code",
   "execution_count": 9,
   "metadata": {},
   "outputs": [
    {
     "name": "stdout",
     "output_type": "stream",
     "text": [
      "2024-08-29 10:59:11,618 INFO sqlalchemy.engine.Engine BEGIN (implicit)\n",
      "2024-08-29 10:59:11,620 INFO sqlalchemy.engine.Engine PRAGMA main.table_info(\"article\")\n",
      "2024-08-29 10:59:11,620 INFO sqlalchemy.engine.Engine [raw sql] ()\n",
      "2024-08-29 10:59:11,621 INFO sqlalchemy.engine.Engine PRAGMA main.table_info(\"author\")\n",
      "2024-08-29 10:59:11,622 INFO sqlalchemy.engine.Engine [raw sql] ()\n",
      "2024-08-29 10:59:11,623 INFO sqlalchemy.engine.Engine PRAGMA main.table_info(\"keyword\")\n",
      "2024-08-29 10:59:11,624 INFO sqlalchemy.engine.Engine [raw sql] ()\n",
      "2024-08-29 10:59:11,624 INFO sqlalchemy.engine.Engine PRAGMA main.table_info(\"articlekeyword\")\n",
      "2024-08-29 10:59:11,625 INFO sqlalchemy.engine.Engine [raw sql] ()\n",
      "2024-08-29 10:59:11,626 INFO sqlalchemy.engine.Engine PRAGMA temp.table_info(\"articlekeyword\")\n",
      "2024-08-29 10:59:11,627 INFO sqlalchemy.engine.Engine [raw sql] ()\n",
      "2024-08-29 10:59:11,630 INFO sqlalchemy.engine.Engine PRAGMA main.table_info(\"articleauthor\")\n",
      "2024-08-29 10:59:11,632 INFO sqlalchemy.engine.Engine [raw sql] ()\n",
      "2024-08-29 10:59:11,633 INFO sqlalchemy.engine.Engine PRAGMA temp.table_info(\"articleauthor\")\n",
      "2024-08-29 10:59:11,633 INFO sqlalchemy.engine.Engine [raw sql] ()\n",
      "2024-08-29 10:59:11,634 INFO sqlalchemy.engine.Engine \n",
      "CREATE TABLE articlekeyword (\n",
      "\tarticle_doi VARCHAR NOT NULL, \n",
      "\tkeyword_id VARCHAR NOT NULL, \n",
      "\tPRIMARY KEY (article_doi, keyword_id), \n",
      "\tFOREIGN KEY(article_doi) REFERENCES article (doi), \n",
      "\tFOREIGN KEY(keyword_id) REFERENCES keyword (id)\n",
      ")\n",
      "\n",
      "\n",
      "2024-08-29 10:59:11,635 INFO sqlalchemy.engine.Engine [no key 0.00065s] ()\n",
      "2024-08-29 10:59:11,653 INFO sqlalchemy.engine.Engine \n",
      "CREATE TABLE articleauthor (\n",
      "\tarticle_doi VARCHAR NOT NULL, \n",
      "\tauthor_id VARCHAR NOT NULL, \n",
      "\tPRIMARY KEY (article_doi, author_id), \n",
      "\tFOREIGN KEY(article_doi) REFERENCES article (doi), \n",
      "\tFOREIGN KEY(author_id) REFERENCES author (id)\n",
      ")\n",
      "\n",
      "\n",
      "2024-08-29 10:59:11,654 INFO sqlalchemy.engine.Engine [no key 0.00078s] ()\n",
      "2024-08-29 10:59:11,693 INFO sqlalchemy.engine.Engine COMMIT\n"
     ]
    }
   ],
   "source": [
    "SQLModel.metadata.create_all(engine)"
   ]
  },
  {
   "cell_type": "markdown",
   "metadata": {},
   "source": [
    "## Adding Data to the Database"
   ]
  },
  {
   "cell_type": "code",
   "execution_count": 10,
   "metadata": {},
   "outputs": [
    {
     "name": "stdout",
     "output_type": "stream",
     "text": [
      "{'id': '66cc884620ac769e5fe4275b', 'doi': '10.26434/chemrxiv-2024-jjdsq', 'vor': None, 'title': 'Latin American Natural Product Database (LANaPDB): an update ', 'abstract': 'Natural product (NP) databases are crucial tools in computer-aided drug design (CADD). Over the last decade, there has been a worldwide effort to assemble information regarding natural products (NPs) isolated and characterized in certain geographical regions. In 2023, it was published LANaPDB, to our knowledge, it is the first attempt to gather and standardize all the NP databases of Latin America. Herein, we present and analyze in detail the contents of an updated version of LANaPDB, which includes 619 newly added compounds from Colombia, Costa Rica, and Mexico. The present version of LANaPDB has a total of 13,578 compounds, coming from ten databases of seven Latin American countries. A chemoinformatic characterization of LANAPDB was carried out, which includes the structural classification of the compounds, calculation of six physicochemical properties of pharmaceutical interest, visualization of the chemical space, determination of the structural diversity, molecular complexity, synthetic feasibility, commercial availability, predicted and reported biological activity. In addition, the LANaPDB compounds were cross-referenced to two of the largest public chemical compound databases annotated with biological activity: ChEMBL and PubChem. The Latin American natural product collection LANaPDB is publicly available and can be downloaded at https://github.com/alexgoga21/LANaPDB-version-2/tree/main.', 'contentType': {'id': '5ce663395846762193c9c430', 'name': 'Working Paper'}, 'categories': [{'id': '605c72ef153207001f6470ce', 'name': 'Theoretical and Computational Chemistry', 'description': 'Research on Theoretical and Computational Chemistry'}, {'id': '605c72ef153207001f6470d0', 'name': 'Biological and Medicinal Chemistry', 'description': 'Research on Biological and Medicinal Chemistry'}, {'id': '60adf37803f321001cb1052b', 'name': 'Chemical Biology', 'description': 'Research on Chemical Biology'}, {'id': '60adf37803f321001cb10530', 'name': 'Computational Chemistry and Modeling', 'description': 'Research on Computational Chemistry and Modeling'}, {'id': '60adf37803f321001cb10535', 'name': 'Chemoinformatics - Computational Chemistry', 'description': 'Research on Chemoinformatics - Computational Chemistry'}], 'subject': {'id': '5e68cb1bd1f19d49ce3ac739', 'name': 'Chemistry', 'description': 'Discover early research outputs such as working papers, posters and presentations in Chemistry.'}, 'event': None, 'status': 'PUBLISHED', 'statusDate': '2024-08-27T13:17:00.368Z', 'funders': [{'funderId': '', 'name': 'Programa de Apoyo a Proyectos de Investigación e Innovación Tecnológica (PAPIIT)', 'grantNumber': 'IG200124', 'url': None, 'title': None}, {'funderId': '', 'name': 'Sao Paulo Research Foundation (FAPESP)', 'grantNumber': '#2020/11967-3 (DFG/FAPESP), #2022/08333-8 (DAAD/FAPESP), #2013/07600-3 (CIBFar-CEPID), #2014/50926-0, #465637/2014-0 (INCT BioNat CNPq/FAPESP)', 'url': None, 'title': None}, {'funderId': '', 'name': 'Technological University of Pereira (UTP)', 'grantNumber': 'E3-23-1', 'url': None, 'title': None}, {'funderId': '', 'name': 'Vice Chancellor for Research of the University of Costa Rica', 'grantNumber': '115-C2-126', 'url': None, 'title': None}], 'authors': [{'orcid': '0000-0003-4444-8221', 'title': None, 'firstName': 'Alejandro', 'lastName': 'Gómez-García', 'institutions': [{'name': 'Universidad Nacional Autónoma de México', 'country': 'Mexico', 'rorId': 'https://ror.org/01tmp8f25'}]}, {'orcid': None, 'title': None, 'firstName': 'Daniel A.', 'lastName': 'Acuña Jiménez', 'institutions': [{'name': 'Universidad de Costa Rica', 'country': 'Costa Rica', 'rorId': 'https://ror.org/02yzgww51'}]}, {'orcid': '0000-0003-4029-4528', 'title': None, 'firstName': 'William J.', 'lastName': 'Zamora', 'institutions': [{'name': 'Universidad de Costa Rica', 'country': 'Costa Rica', 'rorId': 'https://ror.org/02yzgww51'}]}, {'orcid': None, 'title': None, 'firstName': 'Haruna L.', 'lastName': 'Barazorda-Ccahuana', 'institutions': [{'name': 'Universidad Católica de Santa María', 'country': '', 'rorId': ''}]}, {'orcid': None, 'title': None, 'firstName': 'Miguel Á.', 'lastName': 'Chávez-Fumagalli', 'institutions': [{'name': 'Universidad Católica de Santa María', 'country': '', 'rorId': ''}]}, {'orcid': None, 'title': None, 'firstName': 'Marilia', 'lastName': 'Valli', 'institutions': [{'name': 'University of São Paulo', 'country': '', 'rorId': ''}]}, {'orcid': None, 'title': None, 'firstName': 'Adriano D.', 'lastName': 'Andricopulo', 'institutions': [{'name': 'University of São Paulo', 'country': '', 'rorId': ''}]}, {'orcid': '0000-0003-0615-8776', 'title': None, 'firstName': 'Vanderlan da S.', 'lastName': 'Bolzani', 'institutions': [{'name': 'São Paulo State University', 'country': '', 'rorId': ''}]}, {'orcid': None, 'title': None, 'firstName': 'Dionisio A.', 'lastName': 'Olmedo', 'institutions': [{'name': 'University of Panama', 'country': '', 'rorId': ''}]}, {'orcid': None, 'title': None, 'firstName': 'Pablo N.', 'lastName': 'Solís', 'institutions': [{'name': 'University of Panama', 'country': '', 'rorId': ''}]}, {'orcid': '0000-0002-0411-6962', 'title': None, 'firstName': 'Marvin J.', 'lastName': 'Núñez', 'institutions': [{'name': 'University of El Salvador', 'country': 'El Salvador', 'rorId': 'https://ror.org/03sbpft28'}]}, {'orcid': '0000-0002-5216-220X', 'title': None, 'firstName': 'Johny R.', 'lastName': 'Rodríguez Pérez', 'institutions': [{'name': 'Universidad Tecnológica de Pereira', 'country': '', 'rorId': ''}]}, {'orcid': None, 'title': None, 'firstName': 'Hoover A.', 'lastName': 'Valencia Sánchez', 'institutions': [{'name': 'Universidad Tecnológica de Pereira', 'country': '', 'rorId': ''}]}, {'orcid': None, 'title': None, 'firstName': 'Héctor F.', 'lastName': 'Cortés Hernández', 'institutions': [{'name': 'Universidad Tecnológica de Pereira', 'country': '', 'rorId': ''}]}, {'orcid': None, 'title': None, 'firstName': 'Oscar M.', 'lastName': 'Mosquera Martinez', 'institutions': [{'name': 'Universidad Tecnológica de Pereira', 'country': '', 'rorId': ''}]}, {'orcid': '0000-0003-4940-1107', 'title': None, 'firstName': 'Jose L.', 'lastName': 'Medina-Franco', 'institutions': [{'name': 'Universidad Nacional Autónoma de México', 'country': 'Mexico', 'rorId': 'https://ror.org/01tmp8f25'}]}], 'metrics': [{'description': 'Abstract Views', 'value': 0}, {'description': 'Citations', 'value': 0}, {'description': 'Content Downloads', 'value': 0}], 'version': '1', 'versionRefs': [{'version': '1', 'itemId': '66cc884620ac769e5fe4275b', 'legacyId': None}], 'submittedDate': '2024-08-26T14:32:13.965Z', 'publishedDate': '2024-08-27T13:17:00.368Z', 'approvedDate': '2024-08-27T13:16:41.709Z', 'keywords': ['chemoinformatics', 'chemical space', 'database', 'diversity', 'drug discovery', 'Latin America', 'open science'], 'hasCompetingInterests': False, 'competingInterestsDeclaration': None, 'gainedEthicsApproval': 'NOT_RELEVANT', 'suppItems': [], 'asset': {'id': '66cc8fe84a5bfc2934d68500', 'mimeType': 'application/pdf', 'fileName': 'Manuscript.pdf', 'fileSizeBytes': 2307250, 'smallThumbnail': {'url': 'https://chemrxiv.org/engage/api-gateway/chemrxiv/assets/orp/resource/item/66cc884620ac769e5fe4275b/smallThumb/latin-american-natural-product-database-la-na-pdb-an-update.jpg'}, 'mediumThumbnail': {'url': 'https://chemrxiv.org/engage/api-gateway/chemrxiv/assets/orp/resource/item/66cc884620ac769e5fe4275b/mediumThumb/latin-american-natural-product-database-la-na-pdb-an-update.jpg'}, 'largeThumbnail': {'url': 'https://chemrxiv.org/engage/api-gateway/chemrxiv/assets/orp/resource/item/66cc884620ac769e5fe4275b/largeThumb/latin-american-natural-product-database-la-na-pdb-an-update.jpg'}, 'original': {'url': 'https://chemrxiv.org/engage/api-gateway/chemrxiv/assets/orp/resource/item/66cc884620ac769e5fe4275b/original/latin-american-natural-product-database-la-na-pdb-an-update.pdf'}}, 'license': {'id': '5cc9d9bf7d4e0000ac04ef23', 'name': 'CC BY 4.0', 'description': 'This license will allow Site users to copy and redistribute the Content in any medium or format and remix, transform and build upon the Content for any purpose, even commercially. There is a requirement to attribute the Author upon reuse of the Content.', 'url': 'https://creativecommons.org/licenses/by/4.0/'}, 'webLinks': [{'title': 'Latin American Natural Product Database', 'description': 'File with the entire and updatad database of natural products from Latin America', 'url': 'https://github.com/alexgoga21/LANaPDB-version-2/tree/main'}, {'title': 'TMAP of LANAPDB', 'description': 'Interactive version of the TMAP  of the Latin American Natural Product Database ', 'url': 'https://github.com/alexgoga21/LANaPDB-version-2/blob/main/Interactive%20TMAP.html'}], 'origin': 'CHEMRXIV', 'termsAcceptance': True, 'versionNote': '', 'latestComments': [], 'commentsCount': 0, 'isLatestVersion': True, 'legacyId': None}\n"
     ]
    }
   ],
   "source": [
    "import json\n",
    "\n",
    "\n",
    "datafile = \"data/one_paper.json\"\n",
    "\n",
    "with open(datafile) as f:\n",
    "    search_data = json.load(f)\n",
    "\n",
    "paper_data = search_data[\"itemHits\"][0][\"item\"]\n",
    "print(paper_data)"
   ]
  },
  {
   "cell_type": "markdown",
   "metadata": {},
   "source": [
    "To add data to the database, we create instances of our objects. \n",
    "We'll start by adding the article."
   ]
  },
  {
   "cell_type": "code",
   "execution_count": 11,
   "metadata": {},
   "outputs": [
    {
     "name": "stdout",
     "output_type": "stream",
     "text": [
      "2024-08-29 10:59:18,689 INFO sqlalchemy.engine.Engine BEGIN (implicit)\n",
      "2024-08-29 10:59:18,693 INFO sqlalchemy.engine.Engine INSERT INTO article (doi, title, publication_year, abstract) VALUES (?, ?, ?, ?)\n",
      "2024-08-29 10:59:18,694 INFO sqlalchemy.engine.Engine [generated in 0.00138s] ('10.26434/chemrxiv-2024-jjdsq', 'Latin American Natural Product Database (LANaPDB): an update ', 2024, 'Natural product (NP) databases are crucial tools in computer-aided drug design (CADD). Over the last decade, there has been a worldwide effort to ass ... (1120 characters truncated) ... American natural product collection LANaPDB is publicly available and can be downloaded at https://github.com/alexgoga21/LANaPDB-version-2/tree/main.')\n",
      "2024-08-29 10:59:18,696 INFO sqlalchemy.engine.Engine COMMIT\n",
      "2024-08-29 10:59:18,709 INFO sqlalchemy.engine.Engine BEGIN (implicit)\n",
      "2024-08-29 10:59:18,710 INFO sqlalchemy.engine.Engine INSERT INTO keyword (keyword) VALUES (?)\n",
      "2024-08-29 10:59:18,711 INFO sqlalchemy.engine.Engine [generated in 0.00062s] ('chemoinformatics',)\n",
      "2024-08-29 10:59:18,712 INFO sqlalchemy.engine.Engine COMMIT\n",
      "2024-08-29 10:59:18,719 INFO sqlalchemy.engine.Engine BEGIN (implicit)\n",
      "2024-08-29 10:59:18,719 INFO sqlalchemy.engine.Engine INSERT INTO keyword (keyword) VALUES (?)\n",
      "2024-08-29 10:59:18,720 INFO sqlalchemy.engine.Engine [cached since 0.009374s ago] ('chemical space',)\n",
      "2024-08-29 10:59:18,721 INFO sqlalchemy.engine.Engine COMMIT\n",
      "2024-08-29 10:59:18,727 INFO sqlalchemy.engine.Engine BEGIN (implicit)\n",
      "2024-08-29 10:59:18,727 INFO sqlalchemy.engine.Engine INSERT INTO keyword (keyword) VALUES (?)\n",
      "2024-08-29 10:59:18,728 INFO sqlalchemy.engine.Engine [cached since 0.01752s ago] ('database',)\n",
      "2024-08-29 10:59:18,729 INFO sqlalchemy.engine.Engine COMMIT\n",
      "2024-08-29 10:59:18,736 INFO sqlalchemy.engine.Engine BEGIN (implicit)\n",
      "2024-08-29 10:59:18,736 INFO sqlalchemy.engine.Engine INSERT INTO keyword (keyword) VALUES (?)\n",
      "2024-08-29 10:59:18,737 INFO sqlalchemy.engine.Engine [cached since 0.02632s ago] ('diversity',)\n",
      "2024-08-29 10:59:18,738 INFO sqlalchemy.engine.Engine COMMIT\n",
      "2024-08-29 10:59:18,744 INFO sqlalchemy.engine.Engine BEGIN (implicit)\n",
      "2024-08-29 10:59:18,744 INFO sqlalchemy.engine.Engine INSERT INTO keyword (keyword) VALUES (?)\n",
      "2024-08-29 10:59:18,745 INFO sqlalchemy.engine.Engine [cached since 0.03439s ago] ('drug discovery',)\n",
      "2024-08-29 10:59:18,745 INFO sqlalchemy.engine.Engine COMMIT\n",
      "2024-08-29 10:59:18,752 INFO sqlalchemy.engine.Engine BEGIN (implicit)\n",
      "2024-08-29 10:59:18,752 INFO sqlalchemy.engine.Engine INSERT INTO keyword (keyword) VALUES (?)\n",
      "2024-08-29 10:59:18,753 INFO sqlalchemy.engine.Engine [cached since 0.04269s ago] ('latin america',)\n",
      "2024-08-29 10:59:18,754 INFO sqlalchemy.engine.Engine COMMIT\n",
      "2024-08-29 10:59:18,762 INFO sqlalchemy.engine.Engine BEGIN (implicit)\n",
      "2024-08-29 10:59:18,763 INFO sqlalchemy.engine.Engine INSERT INTO keyword (keyword) VALUES (?)\n",
      "2024-08-29 10:59:18,763 INFO sqlalchemy.engine.Engine [cached since 0.0531s ago] ('open science',)\n",
      "2024-08-29 10:59:18,765 INFO sqlalchemy.engine.Engine COMMIT\n"
     ]
    }
   ],
   "source": [
    "with Session(engine) as session:\n",
    "\n",
    "    first_article = Article(doi=paper_data[\"doi\"], title=paper_data[\"title\"], publication_year=2024, abstract=paper_data[\"abstract\"])\n",
    "    session.add(first_article)\n",
    "    session.commit()\n",
    "\n",
    "    for keyword in paper_data[\"keywords\"]:\n",
    "        keyword_obj = Keyword(keyword=keyword.lower())\n",
    "        session.add(keyword_obj)\n",
    "        session.commit()"
   ]
  },
  {
   "cell_type": "markdown",
   "metadata": {},
   "source": [
    "Although defining these models has made some things about connecting to the database and defining tables simpler, we're still missing an easy way to add and access data across our associative tables.\n",
    "Luckily, ORM's have functionality built in to make this easier. \n",
    "We'll have to redefine our models for this, so we'll move on to the next notebook."
   ]
  }
 ],
 "metadata": {
  "kernelspec": {
   "display_name": "Python 3 (ipykernel)",
   "language": "python",
   "name": "python3"
  },
  "language_info": {
   "codemirror_mode": {
    "name": "ipython",
    "version": 3
   },
   "file_extension": ".py",
   "mimetype": "text/x-python",
   "name": "python",
   "nbconvert_exporter": "python",
   "pygments_lexer": "ipython3",
   "version": "3.12.5"
  }
 },
 "nbformat": 4,
 "nbformat_minor": 4
}
