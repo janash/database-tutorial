{
 "cells": [
  {
   "cell_type": "markdown",
   "metadata": {},
   "source": [
    "<div style=\"text-align:center;\">\n",
    "  <img src=\"images/molssi_main_horizontal.png\" style=\"display: block; margin: 0 auto; max-height:200px;\">\n",
    "</div>\n",
    "\n",
    "# Building a Database with SQL and SQLite\n",
    "\n",
    "<strong>Author(s):</strong> Jessica A. Nash, The Molecular Sciences Software Institute\n",
    "\n",
    "<div class=\"alert alert-block alert-info\"> \n",
    "<h2>Overview</h2>\n",
    "\n",
    "<strong>Questions:</strong>\n",
    "\n",
    "* How do we create a database using SQL commands?\n",
    "\n",
    "* What are SQL commands, and how do we use them to define and manipulate tables?\n",
    "\n",
    "* How do we interact with a SQLite database using Python?\n",
    "\n",
    "<strong>Objectives:</strong>\n",
    "\n",
    "* Understand how to create and initialize a SQLite database.\n",
    "\n",
    "* Learn the basic SQL commands for creating tables and inserting data.\n",
    "\n",
    "* Use Python to interact with SQLite databases.\n",
    "\n",
    "</div>\n",
    "\n",
    "## Introduction to SQLite\n",
    "\n",
    "Relational databases are often implemented in some flavor of SQL (Structured Query Language).\n",
    "Structured Query Language (SQL) is a language used to manage and manipulate relational databases.\n",
    "Some common SQL databases include MySQL, PostgreSQL, and SQLite.\n",
    "Each of these has their own SQL dialect, though they share many common features.\n",
    "\n",
    "In this lesson, we will be learning about SQL command using SQLite. \n",
    "\n",
    "SQLite is a lightweight, self-contained SQL database engine that is widely used for local databases in applications. \n",
    "It doesn't require a separate server to run, which makes it ideal for use in smaller applications or prototyping.\n",
    "\n",
    "In this lesson, we'll create a database using SQLite, define our tables, and insert some initial data. \n",
    "Python has [built-in support as part of the Python Standard Library to interact with SQLite databases](https://docs.python.org/3/library/sqlite3.html), \n",
    "so we'll use the `sqlite3` module to interact with our database. \n",
    "At the end of this lesson, we'll also show how you could have performed the same tasks using the SQLite command line interface.\n",
    "\n",
    "<div class=\"alert alert-block alert-success\">\n",
    "\n",
    "<h3>Tip: Viewing Database Files</h3>\n",
    "\n",
    "If you would like to be able to view the database file that is created, we recommend installing [this plugin for VS Code](https://marketplace.visualstudio.com/items?itemName=qwtel.sqlite-viewer).\n",
    "\n",
    "</div>\n",
    "\n",
    "## Using SQLite from Python\n",
    "\n",
    "To use SQLite from Python, we need to import the `sqlite3` module.\n",
    "We then, create a database connection by giving a file path to the database file we would like to use.\n",
    "As stated earlier, SQLite is a serverless database, so the database file is the database itself.\n",
    "In the next cell, we create a sqlite database called `research_articles.db`."
   ]
  },
  {
   "cell_type": "code",
   "execution_count": null,
   "metadata": {},
   "outputs": [],
   "source": [
    "import os\n",
    "\n",
    "def remove_db():\n",
    "    # remove the database file if it exists\n",
    "    if os.path.exists(\"research_articles.db\"):\n",
    "        os.remove(\"research_articles.db\")\n",
    "\n",
    "remove_db()"
   ]
  },
  {
   "cell_type": "code",
   "execution_count": null,
   "metadata": {},
   "outputs": [],
   "source": [
    "import sqlite3\n",
    "\n",
    "# Connect to a database (or create one if it doesn't exist)\n",
    "connection = sqlite3.connect('research_articles.db')\n",
    "\n",
    "print(\"Opened database successfully\")"
   ]
  },
  {
   "cell_type": "markdown",
   "metadata": {},
   "source": [
    "If you are watching your file system, you will now see that a file has been created in the current directory with the name `research_articles.db`.\n",
    "If you now view your database file using the SQLite plugin for VS Code, you will see that the database is empty.\n",
    "\n",
    "After creating the connection, we create a cursor object to interact with the database."
   ]
  },
  {
   "cell_type": "code",
   "execution_count": null,
   "metadata": {},
   "outputs": [],
   "source": [
    "# Create a cursor object using the connection\n",
    "cursor = connection.cursor()\n",
    "\n",
    "# Print a confirmation message\n",
    "print(\"Cursor created.\")"
   ]
  },
  {
   "cell_type": "markdown",
   "metadata": {},
   "source": [
    "We will use this cursor to add data to our database.\n",
    "\n",
    "Currently, we have a database, but the database has no tables or structure.\n",
    "In order to add data to our database, we first need to define the database structure by defining our databases tables.\n",
    "As a reminder, we decided to have three tables: `authors`, `articles`, and `author_article`.\n",
    "\n",
    "To define these, we will have to write SQL commands.\n",
    "SQL is what is called a \"declarative language\". \n",
    "This means when you use SQL, you are telling the computer *what* to do, but not necessarily *how* it is done. \n",
    "You will not control the program flow with loops and conditionals like in Python or C++, rather you issue commands like `SELECT` or `CREATE`.\n",
    "A SQL command is generally composed of several key parts: keywords, identifiers, operators, and the data itself. \n",
    "Keywords are specific terms like `SELECT`, `CREATE`, `INSERT`, and `DELETE`, each referring to a possible action in the database. \n",
    "\n",
    "For example, to create a table, you would use the `CREATE TABLE` keyword followed by your chosen table name and details about the columns it should contain.\n",
    "You use the `CREATE TABLE` keyword followed by the table name and a list of columns with their names and types.\n",
    "\n",
    "```sql\n",
    "CREATE TABLE table_name (\n",
    "    column1_name column1_type conditions,\n",
    "    column2_name column2_type conditions,\n",
    "    ...\n",
    ");\n",
    "```\n",
    "\n",
    "For example, to create our `DOI` column in our article table, the syntax would be something like\n",
    "\n",
    "```\n",
    "CREATE TABLE IF NOT EXISTS Article (\n",
    "    DOI TEXT PRIMARY KEY\n",
    ")\n",
    "```\n",
    "\n",
    "This says to create a table called `Article` and to add a column called `DOI`\n",
    "that has the data type `TEXT` and that this column should be the primary key.\n",
    "\n",
    "The next cell contains the full SQL command for creating the `article` table.\n",
    "We first define the SQL command as a multiline string in Python.\n",
    "Next, we use the cursor object to execute the SQL command.\n",
    "Finally, we commit the changes to the database."
   ]
  },
  {
   "cell_type": "code",
   "execution_count": null,
   "metadata": {},
   "outputs": [],
   "source": [
    "# SQL command to create Article table\n",
    "article_table_command = \"\"\"\n",
    "CREATE TABLE IF NOT EXISTS articles (\n",
    "    DOI TEXT PRIMARY KEY,\n",
    "    article_title TEXT NOT NULL,\n",
    "    publication_year INTEGER NOT NULL,\n",
    "    abstract TEXT\n",
    ");\n",
    "\"\"\"\n",
    "\n",
    "# Execute the SQL commands\n",
    "cursor.execute(article_table_command)\n",
    "\n",
    "# Commit the changes\n",
    "connection.commit()"
   ]
  },
  {
   "cell_type": "markdown",
   "metadata": {},
   "source": [
    "If we now examine our database file using the SQLite plugin for VS Code, we will see that the `article` table has been created.\n",
    "The primary key (the `DOI` column) is shown with a key icon next to it.\n",
    "The viewer shows us that we don't have any data in the database yet.\n",
    "\n",
    "<div style=\"text-align:center;\">\n",
    "  <img src=\"images/article_table.png\" style=\"display: block; margin: 0 auto; max-height:400px;\">\n",
    "</div>"
   ]
  },
  {
   "cell_type": "markdown",
   "metadata": {},
   "source": [
    "## Database Transactions\n",
    "\n",
    "What we just did in the previous cell is an example of a database **transaction**.\n",
    "A transaction is a single unit of work that ensures that the change we wanted to make (in this case, creating a table) either happens completely or doesn't happen at all if something goes wrong.\n",
    "\n",
    "In the cell above, the transaction concludes with the  `commit` method. \n",
    "When you execute the `CREATE TABLE` statement, a transaction begins. \n",
    "The COMMIT command finalizes this transaction, making all changes permanent and visible to other users or processes interacting with the database. "
   ]
  },
  {
   "cell_type": "code",
   "execution_count": null,
   "metadata": {},
   "outputs": [],
   "source": [
    "# SQL command to create Article table\n",
    "author_table_command = \"\"\"\n",
    "CREATE TABLE IF NOT EXISTS authors (\n",
    "    author_id INTEGER PRIMARY KEY AUTOINCREMENT,\n",
    "    first_name TEXT NOT NULL,\n",
    "    last_name TEXT NOT NULL,\n",
    "    affiliation TEXT\n",
    ");\n",
    "\"\"\"\n",
    "\n",
    "# Execute the SQL commands\n",
    "cursor.execute(author_table_command)\n",
    "\n",
    "# Commit the changes\n",
    "connection.commit()\n"
   ]
  },
  {
   "cell_type": "markdown",
   "metadata": {},
   "source": [
    "To add the `article_author` table, we need use the concepts of a **foreign key**.\n",
    "Foreign keys tell SQL that the values in this table will reference another table.\n",
    "This article-authors table will also have what is called a **composite primary key**.\n",
    "A composite primary key is a primary key that consists of more than one column.\n",
    "Usually, a primary key in a table must be unique. In the case of a composite primary key, \n",
    "the combination of values for the key must be unique.\n"
   ]
  },
  {
   "cell_type": "code",
   "execution_count": null,
   "metadata": {},
   "outputs": [],
   "source": [
    "article_author_table_command = \"\"\"\n",
    "CREATE TABLE IF NOT EXISTS article_authors (\n",
    "    article_id TEXT,\n",
    "    author_id INTEGER,\n",
    "    PRIMARY KEY (article_id, author_id),\n",
    "    FOREIGN KEY (article_id) REFERENCES articles(DOI),\n",
    "    FOREIGN KEY (author_id) REFERENCES authors(author_id)\n",
    ");\n",
    "\"\"\"\n",
    "\n",
    "# Execute the SQL commands\n",
    "cursor.execute(article_author_table_command)\n",
    "\n",
    "# Commit the changes\n",
    "connection.commit()"
   ]
  },
  {
   "cell_type": "markdown",
   "metadata": {},
   "source": [
    "\n",
    "<div class=\"alert alert-block alert-warning\">\n",
    "\n",
    "## Exercise\n",
    "Using the examples above, construct SQL queries for creating the `keywords` table and for creating the `article_keyword` associative table.\n",
    "\n",
    "</div>"
   ]
  },
  {
   "cell_type": "code",
   "execution_count": null,
   "metadata": {},
   "outputs": [],
   "source": []
  },
  {
   "cell_type": "markdown",
   "metadata": {},
   "source": [
    "# Inserting Data\n",
    "\n",
    "Let's insert some data into our database.\n",
    "In the `data` folder of this repository, we've saved data for a single paper (`data/one_paper.json`).\n",
    "This is an arbitrary paper that was retrieved while we were wrting the tutorial from ChemRxiv.\n",
    "\n",
    "<div class=\"alert alert-block alert-success\">\n",
    "\n",
    "### Where did we get this data?\n",
    "\n",
    "We retrieved this data using the REST API for ChemRxiv and saved it as a json.\n",
    "In the example below, we pull the most recent article in the \"Theoretical and Computational Chemistry\" category from ChemRxiv.\n",
    "Note that this will likely be different when run on different dates.\n",
    "\n",
    "<div class=\"alert alert-block\">\n",
    "\n",
    "```python\n",
    "import requests\n",
    "\n",
    "import datetime\n",
    "\n",
    "# most recent theoretical chemistry paper on ChemRXiv\n",
    "paper = requests.get(\"https://chemrxiv.org/engage/chemrxiv/public-api/v1/items?categoryIds=605c72ef153207001f6470ce&limit=1\")\n",
    "print(paper.json()[\"itemHits\"])\n",
    "```\n",
    "</div>\n",
    "\n",
    "</div>\n",
    "\n",
    "In the cell below, we use the Python `json` library to load this previously saved data.\n"
   ]
  },
  {
   "cell_type": "code",
   "execution_count": null,
   "metadata": {},
   "outputs": [],
   "source": [
    "import json\n",
    "\n",
    "with open(\"data/one_paper.json\") as f:\n",
    "    paper = json.load(f)\n",
    "\n",
    "print(paper)"
   ]
  },
  {
   "cell_type": "markdown",
   "metadata": {},
   "source": [
    "We can gather data needed for our database from the JSON.\n",
    "Note that ChemRxiv has a lot more information than we are going to store in our datbase.\n",
    "In fact, they probably have their own database with this information!\n",
    "Some choices we've made here are for simplicity and to illustrate the concepts we are learning."
   ]
  },
  {
   "cell_type": "code",
   "execution_count": null,
   "metadata": {},
   "outputs": [],
   "source": [
    "import datetime\n",
    "\n",
    "recent_paper ={\n",
    "    \"DOI\": paper[\"itemHits\"][0][\"item\"][\"doi\"],\n",
    "    \"title\": paper[\"itemHits\"][0][\"item\"][\"title\"],\n",
    "    # get the current year - making some assumptions here :)\n",
    "    \"year\": datetime.datetime.now().year,\n",
    "    \"abstract\": paper[\"itemHits\"][0][\"item\"][\"abstract\"],\n",
    "    \"keywords\": paper[\"itemHits\"][0][\"item\"][\"keywords\"],\n",
    "    \"authors\": paper[\"itemHits\"][0][\"item\"][\"authors\"]\n",
    "}\n",
    "\n",
    "for k,v in recent_paper.items():\n",
    "    print(f\"{k}: {v}\")"
   ]
  },
  {
   "cell_type": "markdown",
   "metadata": {},
   "source": [
    "To insert data into our database, we use the `INSERT INTO` SQL command.\n",
    "We leave question marks `?` in the SQL command where we want to insert data,\n",
    "then feed the data to be inserted into the database as a tuple as the second argument to the `execute` method.\n",
    "This is a safety feature to prevent SQL injection attacks."
   ]
  },
  {
   "cell_type": "code",
   "execution_count": null,
   "metadata": {},
   "outputs": [],
   "source": [
    "# Insert the data\n",
    "insert_article_command = \"\"\"\n",
    " INSERT INTO articles (DOI, article_title, publication_year, abstract)\n",
    "    VALUES (?, ?, ?, ?)\"\"\"\n",
    "\n",
    "cursor.execute(insert_article_command, (recent_paper[\"DOI\"], recent_paper[\"title\"], recent_paper[\"year\"], recent_paper[\"abstract\"]))\n",
    "\n",
    "# Commit the changes\n",
    "connection.commit()\n"
   ]
  },
  {
   "cell_type": "markdown",
   "metadata": {},
   "source": [
    "Processing our keywords and authors is a bit more complicated.\n",
    "We need to insert the keywords into the `keywords` table and the authors into the `authors` table, \n",
    "then make our associations.\n",
    "We will first need to add the keywords (or authors) so that the values can get IDs.\n",
    "Then, using the IDs of the keywords, we can associated the keywords with the paper in the database."
   ]
  },
  {
   "cell_type": "code",
   "execution_count": null,
   "metadata": {},
   "outputs": [],
   "source": [
    "for keyword in recent_paper[\"keywords\"]:\n",
    "    print(keyword)\n",
    "\n",
    "insert_keyword_command = \"\"\"\n",
    "    INSERT INTO keywords (keyword)\n",
    "    VALUES (?)\n",
    "\"\"\"\n",
    "keyword_ids = []\n",
    "for keyword in recent_paper[\"keywords\"]:\n",
    "    cursor.execute(insert_keyword_command, (keyword,))\n",
    "\n",
    "connection.commit()"
   ]
  },
  {
   "cell_type": "markdown",
   "metadata": {},
   "source": [
    "Now, we need to add the association between these keywords and the paper we've retrieved.\n",
    "\n",
    "In order to associate the keywords with our paper, we must first retrieve the keyword ID, then add a new entry in our associative table using that ID and the paper ID."
   ]
  },
  {
   "cell_type": "code",
   "execution_count": null,
   "metadata": {},
   "outputs": [],
   "source": [
    "paper_id = recent_paper[\"DOI\"]\n",
    "\n",
    "query_statement = \"\"\"SELECT keyword_id from keywords WHERE keywords.keyword == ?\"\"\"\n",
    "\n",
    "associative_statement = \"\"\"INSERT INTO article_keywords (article_id, keyword_id) VALUES (?, ?)\"\"\"\n",
    "\n",
    "for keyword in recent_paper[\"keywords\"]:\n",
    "    cursor.execute(query_statement, (keyword,) )\n",
    "    result = cursor.fetchone()[0]\n",
    "    cursor.execute(associative_statement, (paper_id, result))\n",
    "    "
   ]
  },
  {
   "cell_type": "markdown",
   "metadata": {},
   "source": [
    "<div class=\"alert alert-block alert-success\">\n",
    "\n",
    "<h3>Tip: Using INSERT OR IGNORE to Prevent Duplicate Entries</h3>\n",
    "\n",
    "In some cases, you might want to insert a keyword only if it doesn't already exist in the table.\n",
    "SQLite provides a convenient way to handle this with the `INSERT OR IGNORE` statement.\n",
    "This command attempts to insert the data, but if a conflict (like a `UNIQUE` constraint violation) occurs,\n",
    "it ignores the insertion instead of throwing an error. \n",
    "This approach can help maintain data integrity without needing to manually check for existing entries.\n",
    "\n",
    "<div class=\"alert alert-block\">\n",
    "\n",
    "```python\n",
    "\n",
    "insert_keyword_command = \"\"\"\n",
    "    INSERT OR IGNORE INTO keywords (keyword)\n",
    "    VALUES (?);\n",
    "\"\"\"\n",
    "```\n",
    "</div>\n",
    "\n",
    "</div>\n",
    "\n"
   ]
  },
  {
   "cell_type": "markdown",
   "metadata": {},
   "source": [
    "\n",
    "<div class=\"alert alert-block alert-warning\">\n",
    "\n",
    "## Exercise\n",
    "Add authors to the database for the paper.\n",
    "</div>"
   ]
  },
  {
   "cell_type": "code",
   "execution_count": null,
   "metadata": {},
   "outputs": [],
   "source": []
  },
  {
   "cell_type": "code",
   "execution_count": null,
   "metadata": {},
   "outputs": [],
   "source": []
  },
  {
   "cell_type": "markdown",
   "metadata": {},
   "source": [
    "This notebook has introduced creating and interacting with a database using SQLite and Python.\n",
    "Using this method, you write \"raw\" SQL queries and use Python to execute them. \n",
    "If you wanted to switch your database to another dialect of SQL such as Postgres or MySQL, you would need to rewrite these queries.\n",
    "\n",
    "In the next notebook, we'll introduce the concept of an object-relational mapper or ORM. ORMs are programming objects (like classes) that are used to interact with and create databases. \n",
    "The offer the advantage of being more secure and transferable across SQL dialects. "
   ]
  }
 ],
 "metadata": {
  "kernelspec": {
   "display_name": "Python 3 (ipykernel)",
   "language": "python",
   "name": "python3"
  },
  "language_info": {
   "codemirror_mode": {
    "name": "ipython",
    "version": 3
   },
   "file_extension": ".py",
   "mimetype": "text/x-python",
   "name": "python",
   "nbconvert_exporter": "python",
   "pygments_lexer": "ipython3",
   "version": "3.12.5"
  }
 },
 "nbformat": 4,
 "nbformat_minor": 4
}
