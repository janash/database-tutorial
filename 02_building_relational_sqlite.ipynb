{
 "cells": [
  {
   "cell_type": "markdown",
   "metadata": {},
   "source": [
    "<div style=\"text-align:center;\">\n",
    "  <img src=\"images/molssi_main_horizontal.png\" style=\"display: block; margin: 0 auto; max-height:200px;\">\n",
    "</div>\n",
    "\n",
    "# Building a Database with SQL and SQLite\n",
    "\n",
    "<strong>Author(s):</strong> Jessica A. Nash, The Molecular Sciences Software Institute\n",
    "\n",
    "<div class=\"alert alert-block alert-info\"> \n",
    "<h2>Overview</h2>\n",
    "\n",
    "<strong>Questions:</strong>\n",
    "\n",
    "* How do we create a database using SQL commands?\n",
    "\n",
    "* What are SQL commands, and how do we use them to define and manipulate tables?\n",
    "\n",
    "* How do we interact with a SQLite database using Python?\n",
    "\n",
    "<strong>Objectives:</strong>\n",
    "\n",
    "* Understand how to create and initialize a SQLite database.\n",
    "\n",
    "* Learn the basic SQL commands for creating tables and inserting data.\n",
    "\n",
    "* Use Python to interact with SQLite databases.\n",
    "\n",
    "</div>\n",
    "\n",
    "## Introduction to SQLite\n",
    "\n",
    "Relational databases are often implemented in some flavor of SQL (Structured Query Language).\n",
    "Structured Query Language (SQL) is a language used to manage and manipulate relational databases.\n",
    "Some common SQL databases include MySQL, PostgreSQL, and SQLite.\n",
    "Each of these has their own SQL dialect, though they share many common features.\n",
    "\n",
    "In this lesson, we will be learning about SQL command using SQLite. \n",
    "\n",
    "SQLite is a lightweight, self-contained SQL database engine that is widely used for local databases in applications. \n",
    "It doesn't require a separate server to run, which makes it ideal for use in smaller applications or prototyping.\n",
    "\n",
    "In this lesson, we'll create a database using SQLite, define our tables, and insert some initial data. \n",
    "Python has [built-in support as part of the Python Standard Library to interact with SQLite databases](https://docs.python.org/3/library/sqlite3.html), \n",
    "so we'll use the `sqlite3` module to interact with our database. \n",
    "At the end of this lesson, we'll also show how you could have performed the same tasks using the SQLite command line interface.\n",
    "\n",
    "<div class=\"alert alert-block alert-success\">\n",
    "\n",
    "<h3>Tip: Viewing Database Files</h3>\n",
    "\n",
    "If you would like to be able to view the database file that is created, we recommend installing [this plugin for VS Code](https://marketplace.visualstudio.com/items?itemName=qwtel.sqlite-viewer).\n",
    "\n",
    "</div>\n",
    "\n",
    "## Using SQLite from Python\n",
    "\n",
    "To use SQLite from Python, we need to import the `sqlite3` module.\n",
    "We then, create a database connection by giving a file path to the database file we would like to use.\n",
    "As stated earlier, SQLite is a serverless database, so the database file is the database itself."
   ]
  },
  {
   "cell_type": "code",
   "execution_count": 25,
   "metadata": {},
   "outputs": [
    {
     "name": "stdout",
     "output_type": "stream",
     "text": [
      "Opened database successfully\n"
     ]
    }
   ],
   "source": [
    "import sqlite3\n",
    "\n",
    "# Connect to a database (or create one if it doesn't exist)\n",
    "connection = sqlite3.connect('research_articles.db')\n",
    "\n",
    "print(\"Opened database successfully\")"
   ]
  },
  {
   "cell_type": "markdown",
   "metadata": {},
   "source": [
    "If you are watching your file system, you will now see that a file has been created in the current directory with the name `research_articles.db`.\n",
    "If you now view your database file using the SQLite plugin for VS Code, you will see that the database is empty.\n",
    "\n",
    "After creating the connection, we create a cursor object to interact with the database."
   ]
  },
  {
   "cell_type": "code",
   "execution_count": 26,
   "metadata": {},
   "outputs": [
    {
     "name": "stdout",
     "output_type": "stream",
     "text": [
      "Cursor created.\n"
     ]
    }
   ],
   "source": [
    "\n",
    "# Create a cursor object using the connection\n",
    "cursor = connection.cursor()\n",
    "\n",
    "# Print a confirmation message\n",
    "print(\"Cursor created.\")\n"
   ]
  },
  {
   "cell_type": "markdown",
   "metadata": {},
   "source": [
    "We will use this cursor to add data to our database.\n",
    "\n",
    "Currently, we have a database, but the database has no tables or structure.\n",
    "In order to add data to our database, we first need to define the database structure by defining our databases tables.\n",
    "As a reminder, we decided to have three tables: `authors`, `articles`, and `author_article`.\n",
    "\n",
    "To define these, we will have to write SQL commands.\n",
    "An SQL command is generally composed of several key parts: keywords, identifiers, operators, and the data itself. \n",
    "Keywords are specific terms like `SELECT`, `CREATE`, `INSERT`, and `DELETE`, each referring to a possible action in the database. \n",
    "\n",
    "For example, to create a table, you would use the `CREATE TABLE` keyword followed by your chosen table name and details about the columns it should contain.\n",
    "You use the `CREATE TABLE` keyword followed by the table name and a list of columns with their names and types.\n",
    "\n",
    "```sql\n",
    "CREATE TABLE table_name (\n",
    "    column1_name column1_type conditions,\n",
    "    column2_name column2_type conditions,\n",
    "    ...\n",
    ");\n",
    "```\n",
    "\n",
    "For example, to create our `DOI` column in our article table, the syntax would be something like\n",
    "\n",
    "```\n",
    "CREATE TABLE IF NOT EXISTS Article (\n",
    "    DOI TEXT PRIMARY KEY\n",
    ")\n",
    "```\n",
    "\n",
    "This says to create a table called `Article` and to add a column called `DOI`\n",
    "that has the data type `TEXT` and that this column should be the primary key.\n",
    "\n",
    "The next cell contains the full SQL command for creating the `article` table.\n",
    "We first define the SQL command as a multiline string in Python.\n",
    "Next, we use the cursor object to execute the SQL command.\n",
    "Finally, we commit the changes to the database."
   ]
  },
  {
   "cell_type": "code",
   "execution_count": 27,
   "metadata": {},
   "outputs": [],
   "source": [
    "# SQL command to create Article table\n",
    "article_table_command = \"\"\"\n",
    "CREATE TABLE IF NOT EXISTS articles (\n",
    "    DOI TEXT PRIMARY KEY,\n",
    "    article_title TEXT NOT NULL,\n",
    "    publication_year INTEGER NOT NULL,\n",
    "    abstract TEXT\n",
    ");\n",
    "\"\"\"\n",
    "\n",
    "# Execute the SQL commands\n",
    "cursor.execute(article_table_command)\n",
    "\n",
    "# Commit the changes\n",
    "connection.commit()\n"
   ]
  },
  {
   "cell_type": "markdown",
   "metadata": {},
   "source": [
    "If we now examine our database file using the SQLite plugin for VS Code, we will see that the `article` table has been created.\n",
    "The primary key (the `DOI` column) is shown with a key icon next to it.\n",
    "The viewer shows us that we don't have any data in the database yet.\n",
    "\n",
    "<div style=\"text-align:center;\">\n",
    "  <img src=\"images/article_table.png\" style=\"display: block; margin: 0 auto; max-height:400px;\">\n",
    "</div>"
   ]
  },
  {
   "cell_type": "markdown",
   "metadata": {},
   "source": [
    "## Database Transactions\n",
    "\n",
    "What we just did in the previous cell is an example of a database **transaction**.\n",
    "A transaction is a single unit of work that ensures that the change we wanted to make (in this case, creating a table) either happens completely or doesn't happen at all if something goes wrong.\n",
    "\n",
    "In the cell above, the transaction concludes with the  `commit` method. \n",
    "When you execute the `CREATE TABLE` statement, a transaction begins. \n",
    "The COMMIT command finalizes this transaction, making all changes permanent and visible to other users or processes interacting with the database. \n",
    "\n",
    "<div class=\"alert alert-block alert-warning\">\n",
    "\n",
    "## Exercise\n",
    "\n",
    "Add the SQL commands to create the `authors` table in the cell below. \n",
    "\n",
    "Use the following columns:\n",
    "* `author_id` (INTEGER, PRIMARY KEY)\n",
    "* `first_name` (TEXT, NOT NULL)\n",
    "* `last_name` (TEXT, NOT NULL)\n",
    "* `affiliation` (TEXT, OPTIONAL)\n",
    "\n",
    "</div>"
   ]
  },
  {
   "cell_type": "code",
   "execution_count": 28,
   "metadata": {},
   "outputs": [],
   "source": [
    "# SQL command to create Article table\n",
    "author_table_command = \"\"\"\n",
    "CREATE TABLE IF NOT EXISTS authors (\n",
    "    author_id INT PRIMARY KEY,\n",
    "    first_name TEXT NOT NULL,\n",
    "    last_name TEXT NOT NULL,\n",
    "    affiliation TEXT\n",
    ");\n",
    "\"\"\"\n",
    "\n",
    "# Execute the SQL commands\n",
    "cursor.execute(author_table_command)\n",
    "\n",
    "# Commit the changes\n",
    "connection.commit()\n"
   ]
  },
  {
   "cell_type": "markdown",
   "metadata": {},
   "source": [
    "To add the `article_author` table, we need use the concepts of a **foreign key**.\n",
    "This table will also have what is called a **composite primary key**.\n",
    "A composite primary key is a primary key that consists of more than one column.\n"
   ]
  },
  {
   "cell_type": "code",
   "execution_count": 29,
   "metadata": {},
   "outputs": [],
   "source": [
    "article_author_table_command = \"\"\"\n",
    "CREATE TABLE IF NOT EXISTS article_authors (\n",
    "    article_id TEXT,\n",
    "    author_id INT,\n",
    "    PRIMARY KEY (article_id, author_id),\n",
    "    FOREIGN KEY (article_id) REFERENCES articles(DOI),\n",
    "    FOREIGN KEY (author_id) REFERENCES authors(author_id)\n",
    ");\n",
    "\"\"\"\n",
    "\n",
    "# Execute the SQL commands\n",
    "cursor.execute(article_author_table_command)\n",
    "\n",
    "# Commit the changes\n",
    "connection.commit()"
   ]
  },
  {
   "cell_type": "markdown",
   "metadata": {},
   "source": [
    "Next, we'll make the keyword tables discussed in the exercise for notebook 1."
   ]
  },
  {
   "cell_type": "code",
   "execution_count": 30,
   "metadata": {},
   "outputs": [],
   "source": [
    "keyword_table_command = \"\"\"\n",
    "CREATE TABLE IF NOT EXISTS keywords (\n",
    "    keyword_id INTEGER PRIMARY KEY,\n",
    "    keyword TEXT NOT NULL\n",
    ");\n",
    "\"\"\"\n",
    "\n",
    "keyword_article_table_command = \"\"\"\n",
    "CREATE TABLE IF NOT EXISTS article_keywords (\n",
    "    article_id TEXT,\n",
    "    keyword_id INTEGER,\n",
    "    PRIMARY KEY (article_id, keyword_id),\n",
    "    FOREIGN KEY (article_id) REFERENCES articles(DOI),\n",
    "    FOREIGN KEY (keyword_id) REFERENCES keywords(keyword_id)\n",
    ");\n",
    "\"\"\"\n",
    "\n",
    "# Execute the SQL commands\n",
    "cursor.execute(keyword_table_command)\n",
    "cursor.execute(keyword_article_table_command)\n",
    "\n",
    "# Commit the changes\n",
    "connection.commit()"
   ]
  },
  {
   "cell_type": "markdown",
   "metadata": {},
   "source": [
    "# Inserting Data\n",
    "\n",
    "Let's insert some data into our database.\n",
    "To get some data, we'll use the REST API for ChemRxiv.\n",
    "\n",
    "In the cell below, we pull the most recent article in the \"Theoretical and Computational Chemistry\" category from ChemRxiv.\n",
    "Note that this will be different every time the notebook is run."
   ]
  },
  {
   "cell_type": "code",
   "execution_count": 33,
   "metadata": {},
   "outputs": [
    {
     "name": "stdout",
     "output_type": "stream",
     "text": [
      "[{'item': {'id': '66cba705a4e53c48769eb2a8', 'doi': '10.26434/chemrxiv-2024-hjzcr', 'vor': None, 'title': 'Modeling the ionization efficiency of small molecules in positive electrospray ionization using molecular dynamics simulations', 'abstract': '    Technological advancements in liquid chromatography (LC) electrospray ionization (ESI) high resolution mass spectrometry (HRMS) have made it an increasingly popular analytical technique in non-targeted analysis (NTA) of environmental and biological samples. One critical limitation of current methods in NTA is the lack of available analytical standards for many of the compounds detected in biological and environmental samples. Computational approaches can provide estimates of concentrations by modeling the ionization efficiency of a compound expressed as the relative response factor (RRF). In this paper, we explore the application of molecular dynamics (MD) in the development of a predictive model for RRF.  We obtained measurements of RRF for 48 compounds with LC - quadrupole time-of-flight (QTOF) MS and calculated their RRF by dividing the observed peak areas by their concentrations. We used the CGenFF force field to generate the topologies and GROMACS to conduct the (MD) simulations (t = 1 ns). We calculated the Lennard-Jones and Coulomb interactions between the analytes and all other molecules in the ESI droplet, which were then used to construct a multilinear regression model for predicting RRF.  The best performing model showed a coefficient of determination (R2) of 0.82 and a mean absolute error (MAE) of 0.13 log units. This performance is comparable to other predictive models including machine learning models. While there is a need for further evaluation of diverse chemical structures, our approach showed great promise in predictions of RRF. ', 'contentType': {'id': '5ce663395846762193c9c430', 'name': 'Working Paper'}, 'categories': [{'id': '605c72ef153207001f6470ce', 'name': 'Theoretical and Computational Chemistry', 'description': 'Research on Theoretical and Computational Chemistry'}, {'id': '605c72ef153207001f6470d5', 'name': 'Analytical Chemistry', 'description': 'Research on Analytical Chemistry'}, {'id': '605c72ef153207001f6470da', 'name': 'Earth, Space, and Environmental Chemistry', 'description': 'Research on Earth, Space, and Environmental Chemistry'}, {'id': '60adf37803f321001cb104fa', 'name': 'Analytical Chemistry - General', 'description': 'Research on Analytical Chemistry - General'}, {'id': '60adf37803f321001cb10501', 'name': 'Mass Spectrometry', 'description': 'Research on Mass Spectrometry'}, {'id': '60adf37803f321001cb10530', 'name': 'Computational Chemistry and Modeling', 'description': 'Research on Computational Chemistry and Modeling'}], 'subject': {'id': '5e68cb1bd1f19d49ce3ac739', 'name': 'Chemistry', 'description': 'Discover early research outputs such as working papers, posters and presentations in Chemistry.'}, 'event': None, 'status': 'PUBLISHED', 'statusDate': '2024-08-26T12:39:13.255Z', 'funders': [{'funderId': '10.13039/100000002', 'name': 'National Institutes of Health', 'grantNumber': 'R00ES032892', 'url': None, 'title': None}, {'funderId': '10.13039/100000002', 'name': 'National Institutes of Health', 'grantNumber': 'K99ES032892', 'url': None, 'title': None}], 'authors': [{'orcid': '0000-0002-3402-7565', 'title': 'Dr', 'firstName': 'Dimitri', 'lastName': 'Abrahamsson', 'institutions': [{'name': 'New York University', 'country': 'United States', 'rorId': 'https://ror.org/0190ak572'}]}, {'orcid': None, 'title': 'Ms', 'firstName': 'Lelouda-Athanasia', 'lastName': 'Koronaiou', 'institutions': [{'name': 'Aristotle University of Thessaloniki', 'country': 'Greece', 'rorId': 'https://ror.org/02j61yw88'}]}, {'orcid': None, 'title': 'Dr', 'firstName': 'Trevor', 'lastName': 'Johnson', 'institutions': [{'name': 'New York University', 'country': 'United States', 'rorId': 'https://ror.org/0190ak572'}]}, {'orcid': None, 'title': 'Dr', 'firstName': 'Dimitra', 'lastName': 'Lambropoulou', 'institutions': [{'name': 'Aristotle University of Thessaloniki', 'country': 'Greece', 'rorId': 'https://ror.org/02j61yw88'}]}], 'metrics': [{'description': 'Abstract Views', 'value': 0}, {'description': 'Citations', 'value': 0}, {'description': 'Content Downloads', 'value': 0}], 'version': '1', 'versionRefs': [{'version': '1', 'itemId': '66cba705a4e53c48769eb2a8', 'legacyId': None}], 'submittedDate': '2024-08-25T22:03:47.695Z', 'publishedDate': '2024-08-26T12:39:13.255Z', 'approvedDate': '2024-08-26T12:38:56.406Z', 'keywords': ['electrospray ionization', 'predictive modeling', 'relative response factor', 'molecular dynamics simulations'], 'hasCompetingInterests': False, 'competingInterestsDeclaration': None, 'gainedEthicsApproval': 'NOT_RELEVANT', 'suppItems': [{'id': '66cba956a4e53c48769ec3fc', 'title': 'Supporting Information', 'description': 'Supporting information includes supplemental text, figures and tables', 'asset': {'id': '66cba9814a5bfc29348823a1', 'mimeType': 'application/pdf', 'fileName': 'Supporting Information v3.pdf', 'fileSizeBytes': 2589214, 'smallThumbnail': {'url': 'https://chemrxiv.org/engage/api-gateway/chemrxiv/assets/orp/resource/item/66cba956a4e53c48769ec3fc/smallThumb/supporting-information.jpg'}, 'mediumThumbnail': {'url': 'https://chemrxiv.org/engage/api-gateway/chemrxiv/assets/orp/resource/item/66cba956a4e53c48769ec3fc/mediumThumb/supporting-information.jpg'}, 'largeThumbnail': {'url': 'https://chemrxiv.org/engage/api-gateway/chemrxiv/assets/orp/resource/item/66cba956a4e53c48769ec3fc/largeThumb/supporting-information.jpg'}, 'original': {'url': 'https://chemrxiv.org/engage/api-gateway/chemrxiv/assets/orp/resource/item/66cba956a4e53c48769ec3fc/original/supporting-information.pdf'}}}, {'id': '66cba9acf3f4b052901b17f3', 'title': 'Supplemental Spreadsheet', 'description': 'Underlying data for the calculations made in the paper', 'asset': {'id': '66cba9b44a5bfc2934882fbc', 'mimeType': 'application/vnd.openxmlformats-officedocument.spreadsheetml.sheet', 'fileName': 'Supplemental Spreadsheet v3.xlsx', 'fileSizeBytes': 257326, 'smallThumbnail': {'url': None}, 'mediumThumbnail': {'url': None}, 'largeThumbnail': {'url': None}, 'original': {'url': 'https://chemrxiv.org/engage/api-gateway/chemrxiv/assets/orp/resource/item/66cba9acf3f4b052901b17f3/original/supplemental-spreadsheet.xlsx'}}}], 'asset': {'id': '66cba8bd4a5bfc293487f6db', 'mimeType': 'application/pdf', 'fileName': 'Manuscript v5 - clean version.pdf', 'fileSizeBytes': 2226911, 'smallThumbnail': {'url': 'https://chemrxiv.org/engage/api-gateway/chemrxiv/assets/orp/resource/item/66cba705a4e53c48769eb2a8/smallThumb/modeling-the-ionization-efficiency-of-small-molecules-in-positive-electrospray-ionization-using-molecular-dynamics-simulations.jpg'}, 'mediumThumbnail': {'url': 'https://chemrxiv.org/engage/api-gateway/chemrxiv/assets/orp/resource/item/66cba705a4e53c48769eb2a8/mediumThumb/modeling-the-ionization-efficiency-of-small-molecules-in-positive-electrospray-ionization-using-molecular-dynamics-simulations.jpg'}, 'largeThumbnail': {'url': 'https://chemrxiv.org/engage/api-gateway/chemrxiv/assets/orp/resource/item/66cba705a4e53c48769eb2a8/largeThumb/modeling-the-ionization-efficiency-of-small-molecules-in-positive-electrospray-ionization-using-molecular-dynamics-simulations.jpg'}, 'original': {'url': 'https://chemrxiv.org/engage/api-gateway/chemrxiv/assets/orp/resource/item/66cba705a4e53c48769eb2a8/original/modeling-the-ionization-efficiency-of-small-molecules-in-positive-electrospray-ionization-using-molecular-dynamics-simulations.pdf'}}, 'license': {'id': '5cc9d9bf7d4e0000ac04ef25', 'name': 'CC BY NC ND 4.0', 'description': 'This license will allow Site users to copy and redistribute the Content in any medium or format. However, the Content may not be used for commercial purposes and if the user remixes, transforms or builds upon the Content they may not redistribute the modified material. There is a requirement to attribute the Author upon reuse of the Content.', 'url': 'https://creativecommons.org/licenses/by-nc-nd/4.0/'}, 'webLinks': [{'title': 'GitHub repository', 'description': 'Underlying code and datasets used in the paper', 'url': 'https://github.com/dimitriabrahamsson/electro-spray'}], 'origin': 'CHEMRXIV', 'termsAcceptance': True, 'versionNote': '', 'latestComments': [], 'commentsCount': 0, 'isLatestVersion': True, 'legacyId': None}}]\n"
     ]
    }
   ],
   "source": [
    "import requests\n",
    "\n",
    "import datetime\n",
    "\n",
    "# most recent theoretical chemistry paper on ChemRXiv\n",
    "paper = requests.get(\"https://chemrxiv.org/engage/chemrxiv/public-api/v1/items?categoryIds=605c72ef153207001f6470ce&limit=1\")\n",
    "print(paper.json()[\"itemHits\"])"
   ]
  },
  {
   "cell_type": "markdown",
   "metadata": {},
   "source": [
    "We can gather data needed for our database from the JSON response.\n",
    "Note that ChemRxiv has a lot more information than we are going to store in our datbase.\n",
    "In fact, they probably have their own database with this information!\n",
    "Some choices we've made here are for simplicity and to illustrate the concepts we are learning."
   ]
  },
  {
   "cell_type": "code",
   "execution_count": 40,
   "metadata": {},
   "outputs": [
    {
     "name": "stdout",
     "output_type": "stream",
     "text": [
      "{'DOI': '10.26434/chemrxiv-2024-hjzcr', 'title': 'Modeling the ionization efficiency of small molecules in positive electrospray ionization using molecular dynamics simulations', 'year': 2024, 'abstract': '    Technological advancements in liquid chromatography (LC) electrospray ionization (ESI) high resolution mass spectrometry (HRMS) have made it an increasingly popular analytical technique in non-targeted analysis (NTA) of environmental and biological samples. One critical limitation of current methods in NTA is the lack of available analytical standards for many of the compounds detected in biological and environmental samples. Computational approaches can provide estimates of concentrations by modeling the ionization efficiency of a compound expressed as the relative response factor (RRF). In this paper, we explore the application of molecular dynamics (MD) in the development of a predictive model for RRF.  We obtained measurements of RRF for 48 compounds with LC - quadrupole time-of-flight (QTOF) MS and calculated their RRF by dividing the observed peak areas by their concentrations. We used the CGenFF force field to generate the topologies and GROMACS to conduct the (MD) simulations (t = 1 ns). We calculated the Lennard-Jones and Coulomb interactions between the analytes and all other molecules in the ESI droplet, which were then used to construct a multilinear regression model for predicting RRF.  The best performing model showed a coefficient of determination (R2) of 0.82 and a mean absolute error (MAE) of 0.13 log units. This performance is comparable to other predictive models including machine learning models. While there is a need for further evaluation of diverse chemical structures, our approach showed great promise in predictions of RRF. ', 'keywords': ['electrospray ionization', 'predictive modeling', 'relative response factor', 'molecular dynamics simulations'], 'authors': [{'orcid': '0000-0002-3402-7565', 'title': 'Dr', 'firstName': 'Dimitri', 'lastName': 'Abrahamsson', 'institutions': [{'name': 'New York University', 'country': 'United States', 'rorId': 'https://ror.org/0190ak572'}]}, {'orcid': None, 'title': 'Ms', 'firstName': 'Lelouda-Athanasia', 'lastName': 'Koronaiou', 'institutions': [{'name': 'Aristotle University of Thessaloniki', 'country': 'Greece', 'rorId': 'https://ror.org/02j61yw88'}]}, {'orcid': None, 'title': 'Dr', 'firstName': 'Trevor', 'lastName': 'Johnson', 'institutions': [{'name': 'New York University', 'country': 'United States', 'rorId': 'https://ror.org/0190ak572'}]}, {'orcid': None, 'title': 'Dr', 'firstName': 'Dimitra', 'lastName': 'Lambropoulou', 'institutions': [{'name': 'Aristotle University of Thessaloniki', 'country': 'Greece', 'rorId': 'https://ror.org/02j61yw88'}]}]}\n"
     ]
    }
   ],
   "source": [
    "recent_paper ={\n",
    "    \"DOI\": paper.json()[\"itemHits\"][0][\"item\"][\"doi\"],\n",
    "    \"title\": paper.json()[\"itemHits\"][0][\"item\"][\"title\"],\n",
    "    # get the current year - making some assumptions here :)\n",
    "    \"year\": datetime.datetime.now().year,\n",
    "    \"abstract\": paper.json()[\"itemHits\"][0][\"item\"][\"abstract\"],\n",
    "    \"keywords\": paper.json()[\"itemHits\"][0][\"item\"][\"keywords\"],\n",
    "    \"authors\": paper.json()[\"itemHits\"][0][\"item\"][\"authors\"]\n",
    "}\n",
    "\n",
    "print(recent_paper)"
   ]
  },
  {
   "cell_type": "markdown",
   "metadata": {},
   "source": [
    "To insert data into our database, we use the `INSERT INTO` SQL command.\n",
    "We leave question marks `?` in the SQL command where we want to insert data,\n",
    "then feed the data to be inserted into the database as a tuple as the second argument to the `execute` method.\n",
    "\n",
    "This is a safety feature to prevent SQL injection attacks."
   ]
  },
  {
   "cell_type": "code",
   "execution_count": 39,
   "metadata": {},
   "outputs": [],
   "source": [
    "# Insert the data\n",
    "insert_article_command = \"\"\"\n",
    " INSERT INTO articles (DOI, article_title, publication_year, abstract)\n",
    "    VALUES (?, ?, ?, ?)\"\"\"\n",
    "\n",
    "cursor.execute(insert_article_command, (recent_paper[\"DOI\"], recent_paper[\"title\"], recent_paper[\"year\"], recent_paper[\"abstract\"]))\n",
    "\n",
    "# Commit the changes\n",
    "connection.commit()\n"
   ]
  },
  {
   "cell_type": "markdown",
   "metadata": {},
   "source": [
    "Processing our keywords and authors is a bit more complicated.\n",
    "We need to insert the keywords into the `keywords` table and the authors into the `authors` table, \n",
    "then make our associations.\n",
    "\n",
    "This is quite cumbersome when using raw SQL, so we will avoid it for this tutorial.\n",
    "In the next section, we will use an object-relational mapping (ORM) library called SQLModel to simplify this process."
   ]
  },
  {
   "cell_type": "code",
   "execution_count": null,
   "metadata": {},
   "outputs": [],
   "source": []
  }
 ],
 "metadata": {
  "kernelspec": {
   "display_name": "database-tutorial",
   "language": "python",
   "name": "python3"
  },
  "language_info": {
   "codemirror_mode": {
    "name": "ipython",
    "version": 3
   },
   "file_extension": ".py",
   "mimetype": "text/x-python",
   "name": "python",
   "nbconvert_exporter": "python",
   "pygments_lexer": "ipython3",
   "version": "3.12.5"
  }
 },
 "nbformat": 4,
 "nbformat_minor": 2
}
